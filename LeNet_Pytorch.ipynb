{
  "nbformat": 4,
  "nbformat_minor": 0,
  "metadata": {
    "colab": {
      "name": "LeNet-Pytorch.ipynb",
      "provenance": [],
      "toc_visible": true
    },
    "kernelspec": {
      "name": "python3",
      "display_name": "Python 3"
    },
    "accelerator": "GPU"
  },
  "cells": [
    {
      "cell_type": "markdown",
      "metadata": {
        "id": "LC7Y-hE1BxZ4"
      },
      "source": [
        "#MOUNT DRIVE\n",
        "\n"
      ]
    },
    {
      "cell_type": "code",
      "metadata": {
        "id": "8Jl6Evkjf18P",
        "colab": {
          "base_uri": "https://localhost:8080/",
          "height": 54
        },
        "outputId": "3a6b41a7-b632-4bc7-f58f-6821e09ec3d5"
      },
      "source": [
        "from google.colab import drive\n",
        "drive.mount('/content/drive')"
      ],
      "execution_count": null,
      "outputs": [
        {
          "output_type": "stream",
          "text": [
            "Drive already mounted at /content/drive; to attempt to forcibly remount, call drive.mount(\"/content/drive\", force_remount=True).\n"
          ],
          "name": "stdout"
        }
      ]
    },
    {
      "cell_type": "markdown",
      "metadata": {
        "id": "PwKYyI1NB2af"
      },
      "source": [
        "#IMPORT LIBRARIES"
      ]
    },
    {
      "cell_type": "code",
      "metadata": {
        "id": "BW3cczqMjW6K"
      },
      "source": [
        "import torch\n",
        "import torch.nn as nn\n",
        "import torch.nn.functional as F\n",
        "import torch.optim as optim\n",
        "import torch.utils.data as data\n",
        "\n",
        "# import torchvision.transforms as transforms\n",
        "import torchvision\n",
        "from torchvision import transforms, datasets\n",
        "\n",
        "from sklearn import decomposition\n",
        "from sklearn import manifold\n",
        "from sklearn.metrics import confusion_matrix\n",
        "from sklearn.metrics import ConfusionMatrixDisplay\n",
        "import matplotlib.pyplot as plt\n",
        "%matplotlib inline\n",
        "import numpy as np\n",
        "\n",
        "import copy\n",
        "import random\n",
        "import time\n",
        "from tqdm import tqdm"
      ],
      "execution_count": null,
      "outputs": []
    },
    {
      "cell_type": "markdown",
      "metadata": {
        "id": "Um8mNS3JB647"
      },
      "source": [
        "#SELECT CUDA / CPU"
      ]
    },
    {
      "cell_type": "code",
      "metadata": {
        "id": "8Z8HnH5TjrF3",
        "colab": {
          "base_uri": "https://localhost:8080/",
          "height": 34
        },
        "outputId": "1018ec19-012a-4a22-e4c2-5f62eb515aec"
      },
      "source": [
        "torch.backends.cudnn.deterministic = True\n",
        "torch.backends.cudnn.benchmark = False\n",
        "device = torch.device('cuda' if torch.cuda.is_available() else 'cpu')\n",
        "print(\"Device:\",device)"
      ],
      "execution_count": null,
      "outputs": [
        {
          "output_type": "stream",
          "text": [
            "Device: cuda\n"
          ],
          "name": "stdout"
        }
      ]
    },
    {
      "cell_type": "markdown",
      "metadata": {
        "id": "Ba7pKOaeCARL"
      },
      "source": [
        "#SEED"
      ]
    },
    {
      "cell_type": "code",
      "metadata": {
        "id": "xMpIQje3jgq6"
      },
      "source": [
        "SEED = 100\n",
        "\n",
        "torch.manual_seed(SEED)\n",
        "torch.cuda.manual_seed(SEED)\n",
        "torch.backends.cudnn.deterministic = True\n",
        "random.seed(SEED)\n",
        "np.random.seed(SEED)"
      ],
      "execution_count": null,
      "outputs": []
    },
    {
      "cell_type": "markdown",
      "metadata": {
        "id": "7I1FcvjgCGMf"
      },
      "source": [
        "#DATA\n",
        "\n",
        "1. Choose Normalization & Augmentation"
      ]
    },
    {
      "cell_type": "code",
      "metadata": {
        "id": "OTi0VtBDjkmg",
        "colab": {
          "base_uri": "https://localhost:8080/",
          "height": 34
        },
        "outputId": "d6a5d12f-1e16-411c-e5d5-7c84e71a9787"
      },
      "source": [
        "AUGMENTATION = False\n",
        "NORMALIZATION = True\n",
        "\n",
        "if AUGMENTATION :\n",
        "  print(\"AUGMENTATION\")\n",
        "  train_transform = transforms.Compose([\n",
        "                              transforms.RandomHorizontalFlip(),\n",
        "                              transforms.RandomVerticalFlip(),\n",
        "                              transforms.ColorJitter(brightness=2),\n",
        "                              transforms.Resize((32,32)),\n",
        "                              transforms.ToTensor()\n",
        "                                        ])\n",
        "\n",
        "  test_transform = transforms.Compose([\n",
        "                            transforms.Resize((32,32)),\n",
        "                             transforms.ToTensor()\n",
        "                                       ])\n",
        "  \n",
        "elif AUGMENTATION and NORMALIZATION:\n",
        "  print(\"AUGMENTATION and NORMALIZATION\")\n",
        "  train_transform = transforms.Compose([\n",
        "                              transforms.RandomHorizontalFlip(),\n",
        "                              transforms.RandomVerticalFlip(),\n",
        "                              transforms.ColorJitter(brightness=2),\n",
        "                              transforms.Resize((32,32)),\n",
        "                              transforms.ToTensor(),\n",
        "                              transforms.Normalize((0.5, 0.5, 0.5), (0.5, 0.5, 0.5))\n",
        "                                        ])\n",
        "\n",
        "  test_transform = transforms.Compose([\n",
        "                             transforms.Resize((32,32)),\n",
        "                             transforms.ToTensor(),\n",
        "                             transforms.Normalize((0.5, 0.5, 0.5), (0.5, 0.5, 0.5))\n",
        "                                       ])\n",
        "  \n",
        "elif NORMALIZATION and (not AUGMENTATION):\n",
        "  print(\"No AUGMENTATION and NORMALIZATION\")\n",
        "  train_transform = transforms.Compose([\n",
        "       transforms.Resize((32,32)),\n",
        "       transforms.ToTensor(),\n",
        "       transforms.Normalize((0.5, 0.5, 0.5), (0.5, 0.5, 0.5))\n",
        "       ])\n",
        "\n",
        "  test_transform = transforms.Compose([\n",
        "       transforms.Resize((32,32)),\n",
        "       transforms.ToTensor(),\n",
        "       transforms.Normalize((0.5, 0.5, 0.5), (0.5, 0.5, 0.5))])\n",
        "\n",
        "elif (not NORMALIZATION) and (not AUGMENTATION):\n",
        "  print(\"No AUGMENTATION and  No NORMALIZATION\")\n",
        "  train_transform = transforms.Compose(\n",
        "      [transforms.Resize((32,32)),transforms.ToTensor()])\n",
        "\n",
        "  test_transform = transforms.Compose(\n",
        "      [transforms.Resize((32,32)),transforms.ToTensor()])\n",
        "\n"
      ],
      "execution_count": null,
      "outputs": [
        {
          "output_type": "stream",
          "text": [
            "No AUGMENTATION and NORMALIZATION\n"
          ],
          "name": "stdout"
        }
      ]
    },
    {
      "cell_type": "markdown",
      "metadata": {
        "id": "YDcXXUb3bASg"
      },
      "source": [
        "2. Load Dataset"
      ]
    },
    {
      "cell_type": "code",
      "metadata": {
        "id": "Mg3VkxkPWfPO",
        "colab": {
          "base_uri": "https://localhost:8080/",
          "height": 68
        },
        "outputId": "4c019f50-4f90-457a-e289-4ddfa60f3e85"
      },
      "source": [
        "CIFAR = False\n",
        "\n",
        "if CIFAR:\n",
        "  trainset = torchvision.datasets.CIFAR10(root='/content/drive/My Drive/CV-P3/CIFAR-data', train=True,\n",
        "                                          download=True, transform=train_transform)\n",
        "\n",
        "  testset = torchvision.datasets.CIFAR10(root='/content/drive/My Drive/CV-P3/CIFAR-data', train=False,\n",
        "                                        download=True, transform=test_transform)\n",
        "  \n",
        "  print(\"Type - CIFAR\")\n",
        "else:\n",
        "\n",
        "  TRAIN_PATH = '/content/drive/My Drive/CV-P3/TRAIN'\n",
        "  TEST_PATH = '/content/drive/My Drive/CV-P3/TEST'\n",
        "\n",
        "  trainset = datasets.ImageFolder(root= TRAIN_PATH, transform=train_transform)\n",
        "  testset = datasets.ImageFolder(root= TEST_PATH, transform=test_transform)\n",
        "\n",
        "  print(\"Type - FDDB\")\n",
        "\n",
        "\n",
        "print(\"Length of Trainset - \",len(trainset))\n",
        "print(\"Length of Testset - \",len(testset))"
      ],
      "execution_count": null,
      "outputs": [
        {
          "output_type": "stream",
          "text": [
            "Type - FDDB\n",
            "Length of Trainset -  1999\n",
            "Length of Testset -  200\n"
          ],
          "name": "stdout"
        }
      ]
    },
    {
      "cell_type": "markdown",
      "metadata": {
        "id": "b9jYNjA8C2mN"
      },
      "source": [
        "3. Split dataset & get iterator object"
      ]
    },
    {
      "cell_type": "code",
      "metadata": {
        "id": "50yofFMkCN76",
        "colab": {
          "base_uri": "https://localhost:8080/",
          "height": 153
        },
        "outputId": "cefdca7a-c890-484f-a42b-db479ef48d10"
      },
      "source": [
        "VAL_SPLIT = 0.9 # 90%- Train, 10%- Validation\n",
        "\n",
        "train_examples = int(len(trainset) * VAL_SPLIT)\n",
        "valid_examples = len(trainset) - train_examples\n",
        "\n",
        "\n",
        "\n",
        "train_data_, valid_data_ = data.random_split(trainset, \n",
        "                                          [train_examples,valid_examples])\n",
        "\n",
        "\n",
        "\n",
        "print(f'Complete data')\n",
        "print(f'Images in training data: {len(train_data_)}')\n",
        "print(f'Images in validation data: {len(valid_data_)}')\n",
        "print(f'Images in test data: {len(testset)}')\n",
        "\n",
        "\n",
        "valid_data_ = copy.deepcopy(valid_data_) # create a deep copy to avoid changing main object\n",
        "valid_data_.dataset.transform = test_transform # apply test transforms to have consistency with test data\n",
        "\n",
        "\n",
        "BATCH_SIZE = 32 # data batch_size\n",
        "\n",
        "train_data = data.DataLoader(train_data_, \n",
        "                                shuffle = True, \n",
        "                                batch_size = BATCH_SIZE)\n",
        "\n",
        "valid_data = data.DataLoader(valid_data_, \n",
        "                                batch_size = BATCH_SIZE)\n",
        "\n",
        "test_data = data.DataLoader(testset, \n",
        "                                batch_size = BATCH_SIZE)\n",
        "\n",
        "print(f'Batch Size: {BATCH_SIZE}')\n",
        "print(f'Batches in training data: {len(train_data)}')\n",
        "print(f'Batches in validation data: {len(valid_data)}')\n",
        "print(f'Batches in test data: {len(test_data)}')\n"
      ],
      "execution_count": null,
      "outputs": [
        {
          "output_type": "stream",
          "text": [
            "Complete data\n",
            "Images in training data: 1799\n",
            "Images in validation data: 200\n",
            "Images in test data: 200\n",
            "Batch Size: 32\n",
            "Batches in training data: 57\n",
            "Batches in validation data: 7\n",
            "Batches in test data: 7\n"
          ],
          "name": "stdout"
        }
      ]
    },
    {
      "cell_type": "markdown",
      "metadata": {
        "id": "ZApEuniQDu_V"
      },
      "source": [
        "#CREATE MODEL - LeNet CNN"
      ]
    },
    {
      "cell_type": "code",
      "metadata": {
        "id": "RJ-qlconqGv2"
      },
      "source": [
        "class LeNet_V(nn.Module):\n",
        "    def __init__(self, no_output):\n",
        "        super().__init__()\n",
        "\n",
        "        #first conv2d layer - [3,6,5]\n",
        "        self.conv1 = nn.Conv2d(in_channels = 3, \n",
        "                               out_channels = 6, \n",
        "                               kernel_size = 5)\n",
        "        \n",
        "        nn.init.xavier_uniform_(self.conv1.weight)\n",
        "        self.conv1_bn = nn.BatchNorm2d(6)\n",
        "    \n",
        "        #second conv2d layer - [6,16,5]\n",
        "        self.conv2 = nn.Conv2d(in_channels = 6, \n",
        "                               out_channels = 16, \n",
        "                               kernel_size = 5)\n",
        "        \n",
        "        nn.init.xavier_uniform_(self.conv2.weight)\n",
        "        self.conv2_bn = nn.BatchNorm2d(16)\n",
        "        \n",
        "        #fully connected layers\n",
        "        self.fc_1 = nn.Linear(16 * 5 * 5, 120)\n",
        "        nn.init.xavier_uniform_(self.fc_1.weight)\n",
        "        self.fc_1_bn = nn.BatchNorm1d(120)\n",
        "        \n",
        "        self.fc_2 = nn.Linear(120, 84)\n",
        "        nn.init.xavier_uniform_(self.fc_2.weight)\n",
        "        self.fc_2_bn = nn.BatchNorm1d(84)\n",
        "       \n",
        "        self.fc_3 = nn.Linear(84, no_output)\n",
        "        nn.init.xavier_uniform_(self.fc_3.weight)\n",
        "\n",
        "    # Forward pass\n",
        "    def forward(self, x):\n",
        "\n",
        "        #x = [batch size, 3, 32, 32]\n",
        "        \n",
        "        x = F.relu(F.max_pool2d(self.conv1_bn(self.conv1(x)), kernel_size = 2))\n",
        "        \n",
        "        #x = [batch size, 6, 14, 14]\n",
        "        \n",
        "        x = F.relu(F.max_pool2d(self.conv2_bn(self.conv2(x)), kernel_size = 2))\n",
        "        \n",
        "        #x = [batch size, 16, 5, 5]\n",
        "        \n",
        "        \n",
        "        x = x.view(x.shape[0], -1)\n",
        "        \n",
        "        #x = [batch size, 16*4*4 = 256]\n",
        "        \n",
        "        x = F.relu(self.fc_1_bn(self.fc_1(x)))\n",
        "        \n",
        "        #x = [batch size, 120]\n",
        "\n",
        "        x = F.relu(self.fc_2_bn(self.fc_2(x)))\n",
        "        \n",
        "        x = self.fc_3(x)\n",
        "\n",
        "        #x = [batch size, output dim]\n",
        "\n",
        "        return x"
      ],
      "execution_count": null,
      "outputs": []
    },
    {
      "cell_type": "code",
      "metadata": {
        "id": "pNJwh-kvvqrw"
      },
      "source": [
        "def count_parameters(model):\n",
        "    return sum(p.numel() for p in model.parameters() if p.requires_grad)"
      ],
      "execution_count": null,
      "outputs": []
    },
    {
      "cell_type": "code",
      "metadata": {
        "id": "V3zDz8nm71sb"
      },
      "source": [
        "if CIFAR:\n",
        "  NO_OUTPUT = 10\n",
        "else:\n",
        "  NO_OUTPUT = 2\n",
        "\n",
        "model = LeNet_V(NO_OUTPUT)"
      ],
      "execution_count": null,
      "outputs": []
    },
    {
      "cell_type": "code",
      "metadata": {
        "id": "splRn4oq8Qud",
        "colab": {
          "base_uri": "https://localhost:8080/",
          "height": 221
        },
        "outputId": "e834cee9-5a43-47a0-b25c-021f8c30f761"
      },
      "source": [
        "print(f'The model has {count_parameters(model):,} trainable parameters')\n",
        "print(model)"
      ],
      "execution_count": null,
      "outputs": [
        {
          "output_type": "stream",
          "text": [
            "The model has 61,778 trainable parameters\n",
            "LeNet_V(\n",
            "  (conv1): Conv2d(3, 6, kernel_size=(5, 5), stride=(1, 1))\n",
            "  (conv1_bn): BatchNorm2d(6, eps=1e-05, momentum=0.1, affine=True, track_running_stats=True)\n",
            "  (conv2): Conv2d(6, 16, kernel_size=(5, 5), stride=(1, 1))\n",
            "  (conv2_bn): BatchNorm2d(16, eps=1e-05, momentum=0.1, affine=True, track_running_stats=True)\n",
            "  (fc_1): Linear(in_features=400, out_features=120, bias=True)\n",
            "  (fc_1_bn): BatchNorm1d(120, eps=1e-05, momentum=0.1, affine=True, track_running_stats=True)\n",
            "  (fc_2): Linear(in_features=120, out_features=84, bias=True)\n",
            "  (fc_2_bn): BatchNorm1d(84, eps=1e-05, momentum=0.1, affine=True, track_running_stats=True)\n",
            "  (fc_3): Linear(in_features=84, out_features=2, bias=True)\n",
            ")\n"
          ],
          "name": "stdout"
        }
      ]
    },
    {
      "cell_type": "markdown",
      "metadata": {
        "id": "Z0IOxKSPg4B7"
      },
      "source": [
        "#MODEL UTILITY FUNCTIONS"
      ]
    },
    {
      "cell_type": "code",
      "metadata": {
        "id": "0QJ6yJzig7di"
      },
      "source": [
        "def calculate_accuracy(y_pred, y):\n",
        "    top_pred = y_pred.argmax(1, keepdim = True)\n",
        "    correct = top_pred.eq(y.view_as(top_pred)).sum()\n",
        "    acc = correct.float() / y.shape[0]\n",
        "    return acc"
      ],
      "execution_count": null,
      "outputs": []
    },
    {
      "cell_type": "code",
      "metadata": {
        "id": "F65eflpog_vM"
      },
      "source": [
        "def train(model, data_iterator, optimizer, criterion, device):\n",
        "    \n",
        "    epoch_loss = 0\n",
        "    epoch_acc = 0\n",
        "    \n",
        "    # model in train mode\n",
        "    model.train()\n",
        "    \n",
        "    for (x, y) in data_iterator:\n",
        "        \n",
        "        # load variable in device memory\n",
        "        x = x.to(device)\n",
        "        y = y.to(device)\n",
        "        \n",
        "        # make gradient as zero\n",
        "        optimizer.zero_grad()\n",
        "        \n",
        "        # predict output\n",
        "        y_pred = model(x)\n",
        "        \n",
        "        # calculate loss\n",
        "        loss = criterion(y_pred, y)\n",
        "\n",
        "        # backward propagation\n",
        "        loss.backward()\n",
        "        \n",
        "        # calculate accuracy\n",
        "        acc = calculate_accuracy(y_pred, y)\n",
        "        \n",
        "        # take step as per learning rate & regularization\n",
        "        optimizer.step()\n",
        "        \n",
        "        # calculate losses\n",
        "        epoch_loss += loss.item()\n",
        "        epoch_acc += acc.item()\n",
        "        \n",
        "    return epoch_loss / len(data_iterator), epoch_acc / len(data_iterator)"
      ],
      "execution_count": null,
      "outputs": []
    },
    {
      "cell_type": "code",
      "metadata": {
        "id": "zpauPcVUiGYl"
      },
      "source": [
        "def evaluate(model, data_iterator, criterion, device):\n",
        "    \n",
        "    epoch_loss = 0\n",
        "    epoch_acc = 0\n",
        "    \n",
        "    # model in evaluation mode\n",
        "    model.eval()\n",
        "    \n",
        "    with torch.no_grad():\n",
        "        \n",
        "        for (x, y) in data_iterator:\n",
        "\n",
        "            x = x.to(device)\n",
        "            y = y.to(device)\n",
        "\n",
        "            y_pred = model(x)\n",
        "\n",
        "            loss = criterion(y_pred, y)\n",
        "\n",
        "            acc = calculate_accuracy(y_pred, y)\n",
        "\n",
        "            epoch_loss += loss.item()\n",
        "            epoch_acc += acc.item()\n",
        "        \n",
        "    return epoch_loss / len(data_iterator), epoch_acc / len(data_iterator)"
      ],
      "execution_count": null,
      "outputs": []
    },
    {
      "cell_type": "code",
      "metadata": {
        "id": "z3MRCNhXl979"
      },
      "source": [
        "def epoch_time(start_time, end_time):\n",
        "    elapsed_time = end_time - start_time\n",
        "    elapsed_mins = int(elapsed_time / 60)\n",
        "    elapsed_secs = int(elapsed_time - (elapsed_mins * 60))\n",
        "    return elapsed_mins, elapsed_secs"
      ],
      "execution_count": null,
      "outputs": []
    },
    {
      "cell_type": "code",
      "metadata": {
        "id": "JZObU7tFiWcO"
      },
      "source": [
        "def get_loss_before_train(model, data_iterator, criterion, device):\n",
        "    \n",
        "    epoch_loss = 0\n",
        "    \n",
        "    for (x, y) in tqdm(data_iterator):\n",
        "        \n",
        "        x = x.to(device)\n",
        "        y = y.to(device)\n",
        "                \n",
        "        y_pred = model(x)\n",
        "        \n",
        "        loss = criterion(y_pred, y)\n",
        "        \n",
        "        epoch_loss += loss.item()\n",
        "        \n",
        "    return epoch_loss/len(data_iterator)"
      ],
      "execution_count": null,
      "outputs": []
    },
    {
      "cell_type": "code",
      "metadata": {
        "id": "j-APYouq-BLT"
      },
      "source": [
        "def model_loss(train_data_iterator, device,reg=0):\n",
        "  NO_OUTPUT = 2\n",
        "  model = LeNet_V(NO_OUTPUT)\n",
        "\n",
        "  criterion = nn.CrossEntropyLoss()\n",
        "\n",
        "  model = model.to(device)\n",
        "  criterion = criterion.to(device)\n",
        "\n",
        "  loss_ = get_loss_before_train(model, train_data_iterator, criterion, device)\n",
        "  \n",
        "  return loss_\n"
      ],
      "execution_count": null,
      "outputs": []
    },
    {
      "cell_type": "code",
      "metadata": {
        "id": "ZYw9sADTpLr3"
      },
      "source": [
        "def plot_metrics(TRAIN_ACC,VAL_ACC,TRAIN_LOSS,VAL_LOSS):\n",
        "  plt.plot(np.asarray(TRAIN_ACC),'r',label=\"Training\")\n",
        "  plt.plot(np.asarray(VAL_ACC),'b',label=\"Validation\")\n",
        "  plt.title(\"Training & Validation Accuracy\")\n",
        "  plt.xlabel(\"Epochs\")\n",
        "  plt.ylabel(\"Accuracy\")\n",
        "  plt.legend(loc='best')\n",
        "  plt.show()\n",
        "\n",
        "  plt.plot(np.asarray(TRAIN_LOSS),'r',label=\"Training\")\n",
        "  plt.plot(np.asarray(VAL_LOSS),'b',label=\"Validation\")\n",
        "  plt.title(\"Training & Validation Loss\")\n",
        "  plt.xlabel(\"Epochs\")\n",
        "  plt.ylabel(\"Loss\")\n",
        "  plt.legend(loc='best')\n",
        "  plt.show()"
      ],
      "execution_count": null,
      "outputs": []
    },
    {
      "cell_type": "markdown",
      "metadata": {
        "id": "CYNetKZC4Uzl"
      },
      "source": [
        "#PRINT LOSS"
      ]
    },
    {
      "cell_type": "code",
      "metadata": {
        "id": "t3RqN3r5kWjv",
        "colab": {
          "base_uri": "https://localhost:8080/",
          "height": 51
        },
        "outputId": "61137a80-4e1e-4e22-c6a6-8fb543ac79dd"
      },
      "source": [
        "loss_ = model_loss(train_data,device,reg=0)\n",
        "print(\"Loss: \",loss_)"
      ],
      "execution_count": null,
      "outputs": [
        {
          "output_type": "stream",
          "text": [
            "100%|██████████| 57/57 [00:02<00:00, 19.72it/s]"
          ],
          "name": "stderr"
        },
        {
          "output_type": "stream",
          "text": [
            "Loss:  0.8399172038362738\n"
          ],
          "name": "stdout"
        },
        {
          "output_type": "stream",
          "text": [
            "\n"
          ],
          "name": "stderr"
        }
      ]
    },
    {
      "cell_type": "code",
      "metadata": {
        "id": "YzDxuVmtsxdM",
        "colab": {
          "base_uri": "https://localhost:8080/",
          "height": 51
        },
        "outputId": "b018bf56-3aa5-4390-b425-30925b1ec416"
      },
      "source": [
        "loss_ = model_loss(train_data,device,reg=10**3)\n",
        "print(\"Loss: \",loss_)"
      ],
      "execution_count": null,
      "outputs": [
        {
          "output_type": "stream",
          "text": [
            "100%|██████████| 57/57 [00:03<00:00, 18.95it/s]"
          ],
          "name": "stderr"
        },
        {
          "output_type": "stream",
          "text": [
            "Loss:  0.8471407555697257\n"
          ],
          "name": "stdout"
        },
        {
          "output_type": "stream",
          "text": [
            "\n"
          ],
          "name": "stderr"
        }
      ]
    },
    {
      "cell_type": "markdown",
      "metadata": {
        "id": "0Az5-gRoD35H"
      },
      "source": [
        "#TRAIN MODEL"
      ]
    },
    {
      "cell_type": "code",
      "metadata": {
        "id": "WpPw7mVCjU2J"
      },
      "source": [
        "def TRAIN(train_data_iterator,valid_data_iterator,device,optimizer,no_epochs,LR=0,reg=0):\n",
        "  NO_OUTPUT = 2\n",
        "  model = LeNet_V(NO_OUTPUT)\n",
        "\n",
        "  if optimizer == 'SGD':\n",
        "    optimizer = optim.SGD(model.parameters(), lr=LR, weight_decay=reg, momentum = 0.9)\n",
        "  elif optimizer == 'Adam':\n",
        "    optimizer = optim.Adam(model.parameters(), lr=LR, weight_decay=reg)\n",
        "\n",
        "  criterion = nn.CrossEntropyLoss()\n",
        "\n",
        "  model = model.to(device)\n",
        "  criterion = criterion.to(device)\n",
        "\n",
        "  EPOCHS = no_epochs\n",
        "\n",
        "  best_valid_loss = float('inf')\n",
        "\n",
        "  TRAIN_ACC = []\n",
        "  VAL_ACC = []\n",
        "  TRAIN_LOSS = []\n",
        "  VAL_LOSS = []\n",
        "  for epoch in tqdm(range(EPOCHS)):\n",
        "      \n",
        "      start_time = time.time()\n",
        "      \n",
        "      train_loss, train_acc = train(model, train_data_iterator, optimizer, criterion, device)\n",
        "      valid_loss, valid_acc = evaluate(model, valid_data_iterator, criterion, device)\n",
        "      \n",
        "      if valid_loss < best_valid_loss:\n",
        "          best_valid_loss = valid_loss\n",
        "          torch.save(model.state_dict(), 'cv-babysitting-model.pt')\n",
        "      \n",
        "      end_time = time.time()\n",
        "\n",
        "      epoch_mins, epoch_secs = epoch_time(start_time, end_time)\n",
        "\n",
        "      TRAIN_ACC.append(train_acc)\n",
        "      TRAIN_LOSS.append(train_loss)\n",
        "      VAL_ACC.append(valid_acc)\n",
        "      VAL_LOSS.append(valid_loss)\n",
        "      print(f'Epoch: {epoch+1:02} | Epoch Time: {epoch_mins}m {epoch_secs}s')\n",
        "      print(f'\\tTrain Loss: {train_loss:.3f} | Train Acc: {train_acc*100:.2f}%')\n",
        "      print(f'\\t Val. Loss: {valid_loss:.3f} |  Val. Acc: {valid_acc*100:.2f}%')"
      ],
      "execution_count": null,
      "outputs": []
    },
    {
      "cell_type": "code",
      "metadata": {
        "id": "ddXhUKNXZX03"
      },
      "source": [
        "def FINE_TRAIN(train_data_iterator,valid_data_iterator,device,optimizer,no_epochs,LR=0,reg=0):\n",
        "  NO_OUTPUT = 2\n",
        "  model = LeNet_V(NO_OUTPUT)\n",
        "\n",
        "  if optimizer == 'SGD':\n",
        "    optimizer = optim.SGD(model.parameters(), lr=LR, weight_decay=reg, momentum = 0.9)\n",
        "  elif optimizer == 'Adam':\n",
        "    optimizer = optim.Adam(model.parameters(), lr=LR, weight_decay=reg)\n",
        "\n",
        "  criterion = nn.CrossEntropyLoss()\n",
        "\n",
        "  model = model.to(device)\n",
        "  criterion = criterion.to(device)\n",
        "\n",
        "  EPOCHS = no_epochs\n",
        "\n",
        "  best_valid_loss = float('inf')\n",
        "\n",
        "  TRAIN_ACC = []\n",
        "  VAL_ACC = []\n",
        "  TRAIN_LOSS = []\n",
        "  VAL_LOSS = []\n",
        "  for epoch in tqdm(range(EPOCHS)):\n",
        "      \n",
        "      start_time = time.time()\n",
        "      \n",
        "      train_loss, train_acc = train(model, train_data_iterator, optimizer, criterion, device)\n",
        "      valid_loss, valid_acc = evaluate(model, valid_data_iterator, criterion, device)\n",
        "      \n",
        "      if valid_loss < best_valid_loss:\n",
        "          best_valid_loss = valid_loss\n",
        "          torch.save(model.state_dict(), 'cv-babysitting-model.pt')\n",
        "      \n",
        "      end_time = time.time()\n",
        "\n",
        "      epoch_mins, epoch_secs = epoch_time(start_time, end_time)\n",
        "\n",
        "      TRAIN_ACC.append(train_acc)\n",
        "      TRAIN_LOSS.append(train_loss)\n",
        "      VAL_ACC.append(valid_acc)\n",
        "      VAL_LOSS.append(valid_loss)\n",
        "      print(f'Epoch: {epoch+1:02} | Epoch Time: {epoch_mins}m {epoch_secs}s')\n",
        "      print(f'\\tTrain Loss: {train_loss:.3f} | Train Acc: {train_acc*100:.2f}%')\n",
        "      print(f'\\t Val. Loss: {valid_loss:.3f} |  Val. Acc: {valid_acc*100:.2f}%')\n",
        "      print(f'LR: {LR} | Reg: {reg}')"
      ],
      "execution_count": null,
      "outputs": []
    },
    {
      "cell_type": "markdown",
      "metadata": {
        "id": "kYaLHzgWpiSV"
      },
      "source": [
        "#1-\n",
        "Overfit Model - Here we are overfitting the model. Initially a tiny batch of training was chosen for training so that model overfits. However, while using this tiny batch model overfits for that data in 2 epochs. In order to have large number of epochs (like 100-200) so that model overfits, entire training data of 1799 images was used for overfiting the model. It can be seen that model overfits.\n",
        "\n",
        "Follwing are the learning rate(LR) and regularization (reg) used for training -\n",
        "\n",
        "LR : 1e-3, reg : 0"
      ]
    },
    {
      "cell_type": "code",
      "metadata": {
        "id": "VKax_bmetDfH",
        "colab": {
          "base_uri": "https://localhost:8080/",
          "height": 1000
        },
        "outputId": "64356fa9-e66a-460e-913a-c261dc818870"
      },
      "source": [
        "TRAIN(train_data,valid_data,device,optimizer='SGD',no_epochs=200,LR=10**-3,reg=0)"
      ],
      "execution_count": null,
      "outputs": [
        {
          "output_type": "stream",
          "text": [
            "  0%|          | 1/200 [00:07<25:37,  7.73s/it]"
          ],
          "name": "stderr"
        },
        {
          "output_type": "stream",
          "text": [
            "Epoch: 01 | Epoch Time: 0m 7s\n",
            "\tTrain Loss: 0.345 | Train Acc: 84.17%\n",
            "\t Val. Loss: 0.179 |  Val. Acc: 92.86%\n"
          ],
          "name": "stdout"
        },
        {
          "output_type": "stream",
          "text": [
            "\r  1%|          | 2/200 [00:11<21:06,  6.40s/it]"
          ],
          "name": "stderr"
        },
        {
          "output_type": "stream",
          "text": [
            "Epoch: 02 | Epoch Time: 0m 3s\n",
            "\tTrain Loss: 0.161 | Train Acc: 93.91%\n",
            "\t Val. Loss: 0.137 |  Val. Acc: 93.75%\n"
          ],
          "name": "stdout"
        },
        {
          "output_type": "stream",
          "text": [
            "\r  2%|▏         | 3/200 [00:14<17:54,  5.45s/it]"
          ],
          "name": "stderr"
        },
        {
          "output_type": "stream",
          "text": [
            "Epoch: 03 | Epoch Time: 0m 3s\n",
            "\tTrain Loss: 0.126 | Train Acc: 95.69%\n",
            "\t Val. Loss: 0.118 |  Val. Acc: 95.09%\n"
          ],
          "name": "stdout"
        },
        {
          "output_type": "stream",
          "text": [
            "\r  2%|▏         | 4/200 [00:17<15:41,  4.80s/it]"
          ],
          "name": "stderr"
        },
        {
          "output_type": "stream",
          "text": [
            "Epoch: 04 | Epoch Time: 0m 3s\n",
            "\tTrain Loss: 0.108 | Train Acc: 96.13%\n",
            "\t Val. Loss: 0.092 |  Val. Acc: 95.54%\n"
          ],
          "name": "stdout"
        },
        {
          "output_type": "stream",
          "text": [
            "\r  2%|▎         | 5/200 [00:20<14:06,  4.34s/it]"
          ],
          "name": "stderr"
        },
        {
          "output_type": "stream",
          "text": [
            "Epoch: 05 | Epoch Time: 0m 3s\n",
            "\tTrain Loss: 0.091 | Train Acc: 97.31%\n",
            "\t Val. Loss: 0.086 |  Val. Acc: 96.43%\n"
          ],
          "name": "stdout"
        },
        {
          "output_type": "stream",
          "text": [
            "\r  3%|▎         | 6/200 [00:24<12:57,  4.01s/it]"
          ],
          "name": "stderr"
        },
        {
          "output_type": "stream",
          "text": [
            "Epoch: 06 | Epoch Time: 0m 3s\n",
            "\tTrain Loss: 0.104 | Train Acc: 96.45%\n",
            "\t Val. Loss: 0.084 |  Val. Acc: 95.98%\n"
          ],
          "name": "stdout"
        },
        {
          "output_type": "stream",
          "text": [
            "\r  4%|▎         | 7/200 [00:27<12:11,  3.79s/it]"
          ],
          "name": "stderr"
        },
        {
          "output_type": "stream",
          "text": [
            "Epoch: 07 | Epoch Time: 0m 3s\n",
            "\tTrain Loss: 0.083 | Train Acc: 97.64%\n",
            "\t Val. Loss: 0.087 |  Val. Acc: 96.88%\n"
          ],
          "name": "stdout"
        },
        {
          "output_type": "stream",
          "text": [
            "\r  4%|▍         | 8/200 [00:30<11:37,  3.63s/it]"
          ],
          "name": "stderr"
        },
        {
          "output_type": "stream",
          "text": [
            "Epoch: 08 | Epoch Time: 0m 3s\n",
            "\tTrain Loss: 0.068 | Train Acc: 97.92%\n",
            "\t Val. Loss: 0.066 |  Val. Acc: 98.21%\n"
          ],
          "name": "stdout"
        },
        {
          "output_type": "stream",
          "text": [
            "\r  4%|▍         | 9/200 [00:33<11:14,  3.53s/it]"
          ],
          "name": "stderr"
        },
        {
          "output_type": "stream",
          "text": [
            "Epoch: 09 | Epoch Time: 0m 3s\n",
            "\tTrain Loss: 0.071 | Train Acc: 97.42%\n",
            "\t Val. Loss: 0.090 |  Val. Acc: 96.43%\n"
          ],
          "name": "stdout"
        },
        {
          "output_type": "stream",
          "text": [
            "\r  5%|▌         | 10/200 [00:37<10:57,  3.46s/it]"
          ],
          "name": "stderr"
        },
        {
          "output_type": "stream",
          "text": [
            "Epoch: 10 | Epoch Time: 0m 3s\n",
            "\tTrain Loss: 0.059 | Train Acc: 98.41%\n",
            "\t Val. Loss: 0.067 |  Val. Acc: 98.66%\n"
          ],
          "name": "stdout"
        },
        {
          "output_type": "stream",
          "text": [
            "\r  6%|▌         | 11/200 [00:40<10:41,  3.39s/it]"
          ],
          "name": "stderr"
        },
        {
          "output_type": "stream",
          "text": [
            "Epoch: 11 | Epoch Time: 0m 3s\n",
            "\tTrain Loss: 0.065 | Train Acc: 98.21%\n",
            "\t Val. Loss: 0.065 |  Val. Acc: 98.21%\n"
          ],
          "name": "stdout"
        },
        {
          "output_type": "stream",
          "text": [
            "\r  6%|▌         | 12/200 [00:43<10:31,  3.36s/it]"
          ],
          "name": "stderr"
        },
        {
          "output_type": "stream",
          "text": [
            "Epoch: 12 | Epoch Time: 0m 3s\n",
            "\tTrain Loss: 0.052 | Train Acc: 98.68%\n",
            "\t Val. Loss: 0.058 |  Val. Acc: 97.77%\n"
          ],
          "name": "stdout"
        },
        {
          "output_type": "stream",
          "text": [
            "\r  6%|▋         | 13/200 [00:47<10:28,  3.36s/it]"
          ],
          "name": "stderr"
        },
        {
          "output_type": "stream",
          "text": [
            "Epoch: 13 | Epoch Time: 0m 3s\n",
            "\tTrain Loss: 0.049 | Train Acc: 98.79%\n",
            "\t Val. Loss: 0.053 |  Val. Acc: 99.11%\n"
          ],
          "name": "stdout"
        },
        {
          "output_type": "stream",
          "text": [
            "\r  7%|▋         | 14/200 [00:50<10:23,  3.35s/it]"
          ],
          "name": "stderr"
        },
        {
          "output_type": "stream",
          "text": [
            "Epoch: 14 | Epoch Time: 0m 3s\n",
            "\tTrain Loss: 0.043 | Train Acc: 98.71%\n",
            "\t Val. Loss: 0.050 |  Val. Acc: 98.66%\n"
          ],
          "name": "stdout"
        },
        {
          "output_type": "stream",
          "text": [
            "\r  8%|▊         | 15/200 [00:53<10:18,  3.34s/it]"
          ],
          "name": "stderr"
        },
        {
          "output_type": "stream",
          "text": [
            "Epoch: 15 | Epoch Time: 0m 3s\n",
            "\tTrain Loss: 0.038 | Train Acc: 98.93%\n",
            "\t Val. Loss: 0.051 |  Val. Acc: 98.66%\n"
          ],
          "name": "stdout"
        },
        {
          "output_type": "stream",
          "text": [
            "\r  8%|▊         | 16/200 [00:56<10:10,  3.32s/it]"
          ],
          "name": "stderr"
        },
        {
          "output_type": "stream",
          "text": [
            "Epoch: 16 | Epoch Time: 0m 3s\n",
            "\tTrain Loss: 0.034 | Train Acc: 99.07%\n",
            "\t Val. Loss: 0.039 |  Val. Acc: 99.11%\n"
          ],
          "name": "stdout"
        },
        {
          "output_type": "stream",
          "text": [
            "\r  8%|▊         | 17/200 [01:00<10:04,  3.30s/it]"
          ],
          "name": "stderr"
        },
        {
          "output_type": "stream",
          "text": [
            "Epoch: 17 | Epoch Time: 0m 3s\n",
            "\tTrain Loss: 0.051 | Train Acc: 98.51%\n",
            "\t Val. Loss: 0.044 |  Val. Acc: 98.21%\n"
          ],
          "name": "stdout"
        },
        {
          "output_type": "stream",
          "text": [
            "\r  9%|▉         | 18/200 [01:03<09:58,  3.29s/it]"
          ],
          "name": "stderr"
        },
        {
          "output_type": "stream",
          "text": [
            "Epoch: 18 | Epoch Time: 0m 3s\n",
            "\tTrain Loss: 0.044 | Train Acc: 98.90%\n",
            "\t Val. Loss: 0.043 |  Val. Acc: 98.66%\n"
          ],
          "name": "stdout"
        },
        {
          "output_type": "stream",
          "text": [
            "\r 10%|▉         | 19/200 [01:06<09:50,  3.26s/it]"
          ],
          "name": "stderr"
        },
        {
          "output_type": "stream",
          "text": [
            "Epoch: 19 | Epoch Time: 0m 3s\n",
            "\tTrain Loss: 0.036 | Train Acc: 98.82%\n",
            "\t Val. Loss: 0.039 |  Val. Acc: 98.66%\n"
          ],
          "name": "stdout"
        },
        {
          "output_type": "stream",
          "text": [
            "\r 10%|█         | 20/200 [01:09<09:46,  3.26s/it]"
          ],
          "name": "stderr"
        },
        {
          "output_type": "stream",
          "text": [
            "Epoch: 20 | Epoch Time: 0m 3s\n",
            "\tTrain Loss: 0.034 | Train Acc: 99.23%\n",
            "\t Val. Loss: 0.040 |  Val. Acc: 99.11%\n"
          ],
          "name": "stdout"
        },
        {
          "output_type": "stream",
          "text": [
            "\r 10%|█         | 21/200 [01:13<09:47,  3.28s/it]"
          ],
          "name": "stderr"
        },
        {
          "output_type": "stream",
          "text": [
            "Epoch: 21 | Epoch Time: 0m 3s\n",
            "\tTrain Loss: 0.038 | Train Acc: 98.62%\n",
            "\t Val. Loss: 0.032 |  Val. Acc: 99.11%\n"
          ],
          "name": "stdout"
        },
        {
          "output_type": "stream",
          "text": [
            "\r 11%|█         | 22/200 [01:16<09:48,  3.30s/it]"
          ],
          "name": "stderr"
        },
        {
          "output_type": "stream",
          "text": [
            "Epoch: 22 | Epoch Time: 0m 3s\n",
            "\tTrain Loss: 0.031 | Train Acc: 99.18%\n",
            "\t Val. Loss: 0.046 |  Val. Acc: 98.21%\n"
          ],
          "name": "stdout"
        },
        {
          "output_type": "stream",
          "text": [
            "\r 12%|█▏        | 23/200 [01:20<09:48,  3.32s/it]"
          ],
          "name": "stderr"
        },
        {
          "output_type": "stream",
          "text": [
            "Epoch: 23 | Epoch Time: 0m 3s\n",
            "\tTrain Loss: 0.035 | Train Acc: 99.07%\n",
            "\t Val. Loss: 0.043 |  Val. Acc: 98.21%\n"
          ],
          "name": "stdout"
        },
        {
          "output_type": "stream",
          "text": [
            "\r 12%|█▏        | 24/200 [01:23<09:41,  3.31s/it]"
          ],
          "name": "stderr"
        },
        {
          "output_type": "stream",
          "text": [
            "Epoch: 24 | Epoch Time: 0m 3s\n",
            "\tTrain Loss: 0.023 | Train Acc: 99.78%\n",
            "\t Val. Loss: 0.032 |  Val. Acc: 98.66%\n"
          ],
          "name": "stdout"
        },
        {
          "output_type": "stream",
          "text": [
            "\r 12%|█▎        | 25/200 [01:26<09:33,  3.28s/it]"
          ],
          "name": "stderr"
        },
        {
          "output_type": "stream",
          "text": [
            "Epoch: 25 | Epoch Time: 0m 3s\n",
            "\tTrain Loss: 0.029 | Train Acc: 99.45%\n",
            "\t Val. Loss: 0.032 |  Val. Acc: 99.11%\n"
          ],
          "name": "stdout"
        },
        {
          "output_type": "stream",
          "text": [
            "\r 13%|█▎        | 26/200 [01:29<09:27,  3.26s/it]"
          ],
          "name": "stderr"
        },
        {
          "output_type": "stream",
          "text": [
            "Epoch: 26 | Epoch Time: 0m 3s\n",
            "\tTrain Loss: 0.033 | Train Acc: 98.90%\n",
            "\t Val. Loss: 0.057 |  Val. Acc: 98.21%\n"
          ],
          "name": "stdout"
        },
        {
          "output_type": "stream",
          "text": [
            "\r 14%|█▎        | 27/200 [01:32<09:22,  3.25s/it]"
          ],
          "name": "stderr"
        },
        {
          "output_type": "stream",
          "text": [
            "Epoch: 27 | Epoch Time: 0m 3s\n",
            "\tTrain Loss: 0.025 | Train Acc: 99.34%\n",
            "\t Val. Loss: 0.039 |  Val. Acc: 98.21%\n"
          ],
          "name": "stdout"
        },
        {
          "output_type": "stream",
          "text": [
            "\r 14%|█▍        | 28/200 [01:36<09:17,  3.24s/it]"
          ],
          "name": "stderr"
        },
        {
          "output_type": "stream",
          "text": [
            "Epoch: 28 | Epoch Time: 0m 3s\n",
            "\tTrain Loss: 0.024 | Train Acc: 99.51%\n",
            "\t Val. Loss: 0.035 |  Val. Acc: 98.66%\n"
          ],
          "name": "stdout"
        },
        {
          "output_type": "stream",
          "text": [
            "\r 14%|█▍        | 29/200 [01:39<09:11,  3.23s/it]"
          ],
          "name": "stderr"
        },
        {
          "output_type": "stream",
          "text": [
            "Epoch: 29 | Epoch Time: 0m 3s\n",
            "\tTrain Loss: 0.018 | Train Acc: 99.73%\n",
            "\t Val. Loss: 0.034 |  Val. Acc: 99.11%\n"
          ],
          "name": "stdout"
        },
        {
          "output_type": "stream",
          "text": [
            "\r 15%|█▌        | 30/200 [01:42<09:10,  3.24s/it]"
          ],
          "name": "stderr"
        },
        {
          "output_type": "stream",
          "text": [
            "Epoch: 30 | Epoch Time: 0m 3s\n",
            "\tTrain Loss: 0.019 | Train Acc: 99.67%\n",
            "\t Val. Loss: 0.029 |  Val. Acc: 99.11%\n"
          ],
          "name": "stdout"
        },
        {
          "output_type": "stream",
          "text": [
            "\r 16%|█▌        | 31/200 [01:46<09:23,  3.33s/it]"
          ],
          "name": "stderr"
        },
        {
          "output_type": "stream",
          "text": [
            "Epoch: 31 | Epoch Time: 0m 3s\n",
            "\tTrain Loss: 0.019 | Train Acc: 99.73%\n",
            "\t Val. Loss: 0.030 |  Val. Acc: 99.11%\n"
          ],
          "name": "stdout"
        },
        {
          "output_type": "stream",
          "text": [
            "\r 16%|█▌        | 32/200 [01:49<09:16,  3.31s/it]"
          ],
          "name": "stderr"
        },
        {
          "output_type": "stream",
          "text": [
            "Epoch: 32 | Epoch Time: 0m 3s\n",
            "\tTrain Loss: 0.013 | Train Acc: 99.78%\n",
            "\t Val. Loss: 0.029 |  Val. Acc: 99.11%\n"
          ],
          "name": "stdout"
        },
        {
          "output_type": "stream",
          "text": [
            "\r 16%|█▋        | 33/200 [01:52<09:07,  3.28s/it]"
          ],
          "name": "stderr"
        },
        {
          "output_type": "stream",
          "text": [
            "Epoch: 33 | Epoch Time: 0m 3s\n",
            "\tTrain Loss: 0.016 | Train Acc: 99.64%\n",
            "\t Val. Loss: 0.026 |  Val. Acc: 99.11%\n"
          ],
          "name": "stdout"
        },
        {
          "output_type": "stream",
          "text": [
            "\r 17%|█▋        | 34/200 [01:55<08:59,  3.25s/it]"
          ],
          "name": "stderr"
        },
        {
          "output_type": "stream",
          "text": [
            "Epoch: 34 | Epoch Time: 0m 3s\n",
            "\tTrain Loss: 0.013 | Train Acc: 99.73%\n",
            "\t Val. Loss: 0.028 |  Val. Acc: 99.11%\n"
          ],
          "name": "stdout"
        },
        {
          "output_type": "stream",
          "text": [
            "\r 18%|█▊        | 35/200 [01:59<08:54,  3.24s/it]"
          ],
          "name": "stderr"
        },
        {
          "output_type": "stream",
          "text": [
            "Epoch: 35 | Epoch Time: 0m 3s\n",
            "\tTrain Loss: 0.021 | Train Acc: 99.40%\n",
            "\t Val. Loss: 0.027 |  Val. Acc: 99.11%\n"
          ],
          "name": "stdout"
        },
        {
          "output_type": "stream",
          "text": [
            "\r 18%|█▊        | 36/200 [02:02<08:50,  3.23s/it]"
          ],
          "name": "stderr"
        },
        {
          "output_type": "stream",
          "text": [
            "Epoch: 36 | Epoch Time: 0m 3s\n",
            "\tTrain Loss: 0.013 | Train Acc: 99.95%\n",
            "\t Val. Loss: 0.023 |  Val. Acc: 99.11%\n"
          ],
          "name": "stdout"
        },
        {
          "output_type": "stream",
          "text": [
            "\r 18%|█▊        | 37/200 [02:05<08:49,  3.25s/it]"
          ],
          "name": "stderr"
        },
        {
          "output_type": "stream",
          "text": [
            "Epoch: 37 | Epoch Time: 0m 3s\n",
            "\tTrain Loss: 0.015 | Train Acc: 99.78%\n",
            "\t Val. Loss: 0.027 |  Val. Acc: 98.66%\n"
          ],
          "name": "stdout"
        },
        {
          "output_type": "stream",
          "text": [
            "\r 19%|█▉        | 38/200 [02:08<08:47,  3.26s/it]"
          ],
          "name": "stderr"
        },
        {
          "output_type": "stream",
          "text": [
            "Epoch: 38 | Epoch Time: 0m 3s\n",
            "\tTrain Loss: 0.016 | Train Acc: 99.62%\n",
            "\t Val. Loss: 0.023 |  Val. Acc: 99.11%\n"
          ],
          "name": "stdout"
        },
        {
          "output_type": "stream",
          "text": [
            "\r 20%|█▉        | 39/200 [02:12<08:43,  3.25s/it]"
          ],
          "name": "stderr"
        },
        {
          "output_type": "stream",
          "text": [
            "Epoch: 39 | Epoch Time: 0m 3s\n",
            "\tTrain Loss: 0.016 | Train Acc: 99.62%\n",
            "\t Val. Loss: 0.033 |  Val. Acc: 99.11%\n"
          ],
          "name": "stdout"
        },
        {
          "output_type": "stream",
          "text": [
            "\r 20%|██        | 40/200 [02:15<08:38,  3.24s/it]"
          ],
          "name": "stderr"
        },
        {
          "output_type": "stream",
          "text": [
            "Epoch: 40 | Epoch Time: 0m 3s\n",
            "\tTrain Loss: 0.028 | Train Acc: 99.03%\n",
            "\t Val. Loss: 0.026 |  Val. Acc: 98.66%\n"
          ],
          "name": "stdout"
        },
        {
          "output_type": "stream",
          "text": [
            "\r 20%|██        | 41/200 [02:18<08:31,  3.22s/it]"
          ],
          "name": "stderr"
        },
        {
          "output_type": "stream",
          "text": [
            "Epoch: 41 | Epoch Time: 0m 3s\n",
            "\tTrain Loss: 0.019 | Train Acc: 99.51%\n",
            "\t Val. Loss: 0.030 |  Val. Acc: 98.66%\n"
          ],
          "name": "stdout"
        },
        {
          "output_type": "stream",
          "text": [
            "\r 21%|██        | 42/200 [02:21<08:26,  3.21s/it]"
          ],
          "name": "stderr"
        },
        {
          "output_type": "stream",
          "text": [
            "Epoch: 42 | Epoch Time: 0m 3s\n",
            "\tTrain Loss: 0.013 | Train Acc: 99.78%\n",
            "\t Val. Loss: 0.025 |  Val. Acc: 99.11%\n"
          ],
          "name": "stdout"
        },
        {
          "output_type": "stream",
          "text": [
            "\r 22%|██▏       | 43/200 [02:24<08:20,  3.19s/it]"
          ],
          "name": "stderr"
        },
        {
          "output_type": "stream",
          "text": [
            "Epoch: 43 | Epoch Time: 0m 3s\n",
            "\tTrain Loss: 0.014 | Train Acc: 99.67%\n",
            "\t Val. Loss: 0.023 |  Val. Acc: 99.11%\n"
          ],
          "name": "stdout"
        },
        {
          "output_type": "stream",
          "text": [
            "\r 22%|██▏       | 44/200 [02:27<08:16,  3.18s/it]"
          ],
          "name": "stderr"
        },
        {
          "output_type": "stream",
          "text": [
            "Epoch: 44 | Epoch Time: 0m 3s\n",
            "\tTrain Loss: 0.035 | Train Acc: 99.01%\n",
            "\t Val. Loss: 0.039 |  Val. Acc: 97.77%\n"
          ],
          "name": "stdout"
        },
        {
          "output_type": "stream",
          "text": [
            "\r 22%|██▎       | 45/200 [02:31<08:13,  3.18s/it]"
          ],
          "name": "stderr"
        },
        {
          "output_type": "stream",
          "text": [
            "Epoch: 45 | Epoch Time: 0m 3s\n",
            "\tTrain Loss: 0.021 | Train Acc: 99.48%\n",
            "\t Val. Loss: 0.025 |  Val. Acc: 99.55%\n"
          ],
          "name": "stdout"
        },
        {
          "output_type": "stream",
          "text": [
            "\r 23%|██▎       | 46/200 [02:34<08:08,  3.17s/it]"
          ],
          "name": "stderr"
        },
        {
          "output_type": "stream",
          "text": [
            "Epoch: 46 | Epoch Time: 0m 3s\n",
            "\tTrain Loss: 0.027 | Train Acc: 99.15%\n",
            "\t Val. Loss: 0.026 |  Val. Acc: 99.11%\n"
          ],
          "name": "stdout"
        },
        {
          "output_type": "stream",
          "text": [
            "\r 24%|██▎       | 47/200 [02:37<08:04,  3.16s/it]"
          ],
          "name": "stderr"
        },
        {
          "output_type": "stream",
          "text": [
            "Epoch: 47 | Epoch Time: 0m 3s\n",
            "\tTrain Loss: 0.011 | Train Acc: 99.95%\n",
            "\t Val. Loss: 0.029 |  Val. Acc: 99.11%\n"
          ],
          "name": "stdout"
        },
        {
          "output_type": "stream",
          "text": [
            "\r 24%|██▍       | 48/200 [02:40<08:06,  3.20s/it]"
          ],
          "name": "stderr"
        },
        {
          "output_type": "stream",
          "text": [
            "Epoch: 48 | Epoch Time: 0m 3s\n",
            "\tTrain Loss: 0.013 | Train Acc: 99.78%\n",
            "\t Val. Loss: 0.029 |  Val. Acc: 98.66%\n"
          ],
          "name": "stdout"
        },
        {
          "output_type": "stream",
          "text": [
            "\r 24%|██▍       | 49/200 [02:43<08:02,  3.19s/it]"
          ],
          "name": "stderr"
        },
        {
          "output_type": "stream",
          "text": [
            "Epoch: 49 | Epoch Time: 0m 3s\n",
            "\tTrain Loss: 0.014 | Train Acc: 99.89%\n",
            "\t Val. Loss: 0.032 |  Val. Acc: 98.66%\n"
          ],
          "name": "stdout"
        },
        {
          "output_type": "stream",
          "text": [
            "\r 25%|██▌       | 50/200 [02:47<07:57,  3.18s/it]"
          ],
          "name": "stderr"
        },
        {
          "output_type": "stream",
          "text": [
            "Epoch: 50 | Epoch Time: 0m 3s\n",
            "\tTrain Loss: 0.008 | Train Acc: 99.78%\n",
            "\t Val. Loss: 0.027 |  Val. Acc: 99.11%\n"
          ],
          "name": "stdout"
        },
        {
          "output_type": "stream",
          "text": [
            "\r 26%|██▌       | 51/200 [02:50<07:52,  3.17s/it]"
          ],
          "name": "stderr"
        },
        {
          "output_type": "stream",
          "text": [
            "Epoch: 51 | Epoch Time: 0m 3s\n",
            "\tTrain Loss: 0.009 | Train Acc: 99.84%\n",
            "\t Val. Loss: 0.027 |  Val. Acc: 99.11%\n"
          ],
          "name": "stdout"
        },
        {
          "output_type": "stream",
          "text": [
            "\r 26%|██▌       | 52/200 [02:53<07:48,  3.17s/it]"
          ],
          "name": "stderr"
        },
        {
          "output_type": "stream",
          "text": [
            "Epoch: 52 | Epoch Time: 0m 3s\n",
            "\tTrain Loss: 0.024 | Train Acc: 99.28%\n",
            "\t Val. Loss: 0.026 |  Val. Acc: 99.11%\n"
          ],
          "name": "stdout"
        },
        {
          "output_type": "stream",
          "text": [
            "\r 26%|██▋       | 53/200 [02:56<07:43,  3.15s/it]"
          ],
          "name": "stderr"
        },
        {
          "output_type": "stream",
          "text": [
            "Epoch: 53 | Epoch Time: 0m 3s\n",
            "\tTrain Loss: 0.020 | Train Acc: 99.23%\n",
            "\t Val. Loss: 0.021 |  Val. Acc: 99.11%\n"
          ],
          "name": "stdout"
        },
        {
          "output_type": "stream",
          "text": [
            "\r 27%|██▋       | 54/200 [02:59<07:40,  3.16s/it]"
          ],
          "name": "stderr"
        },
        {
          "output_type": "stream",
          "text": [
            "Epoch: 54 | Epoch Time: 0m 3s\n",
            "\tTrain Loss: 0.010 | Train Acc: 99.89%\n",
            "\t Val. Loss: 0.024 |  Val. Acc: 98.66%\n"
          ],
          "name": "stdout"
        },
        {
          "output_type": "stream",
          "text": [
            "\r 28%|██▊       | 55/200 [03:02<07:38,  3.16s/it]"
          ],
          "name": "stderr"
        },
        {
          "output_type": "stream",
          "text": [
            "Epoch: 55 | Epoch Time: 0m 3s\n",
            "\tTrain Loss: 0.018 | Train Acc: 99.64%\n",
            "\t Val. Loss: 0.025 |  Val. Acc: 99.11%\n"
          ],
          "name": "stdout"
        },
        {
          "output_type": "stream",
          "text": [
            "\r 28%|██▊       | 56/200 [03:05<07:34,  3.15s/it]"
          ],
          "name": "stderr"
        },
        {
          "output_type": "stream",
          "text": [
            "Epoch: 56 | Epoch Time: 0m 3s\n",
            "\tTrain Loss: 0.021 | Train Acc: 99.45%\n",
            "\t Val. Loss: 0.035 |  Val. Acc: 98.66%\n"
          ],
          "name": "stdout"
        },
        {
          "output_type": "stream",
          "text": [
            "\r 28%|██▊       | 57/200 [03:09<07:30,  3.15s/it]"
          ],
          "name": "stderr"
        },
        {
          "output_type": "stream",
          "text": [
            "Epoch: 57 | Epoch Time: 0m 3s\n",
            "\tTrain Loss: 0.013 | Train Acc: 99.78%\n",
            "\t Val. Loss: 0.023 |  Val. Acc: 99.11%\n"
          ],
          "name": "stdout"
        },
        {
          "output_type": "stream",
          "text": [
            "\r 29%|██▉       | 58/200 [03:12<07:26,  3.15s/it]"
          ],
          "name": "stderr"
        },
        {
          "output_type": "stream",
          "text": [
            "Epoch: 58 | Epoch Time: 0m 3s\n",
            "\tTrain Loss: 0.010 | Train Acc: 99.95%\n",
            "\t Val. Loss: 0.026 |  Val. Acc: 99.11%\n"
          ],
          "name": "stdout"
        },
        {
          "output_type": "stream",
          "text": [
            "\r 30%|██▉       | 59/200 [03:15<07:22,  3.14s/it]"
          ],
          "name": "stderr"
        },
        {
          "output_type": "stream",
          "text": [
            "Epoch: 59 | Epoch Time: 0m 3s\n",
            "\tTrain Loss: 0.009 | Train Acc: 99.84%\n",
            "\t Val. Loss: 0.022 |  Val. Acc: 99.11%\n"
          ],
          "name": "stdout"
        },
        {
          "output_type": "stream",
          "text": [
            "\r 30%|███       | 60/200 [03:18<07:19,  3.14s/it]"
          ],
          "name": "stderr"
        },
        {
          "output_type": "stream",
          "text": [
            "Epoch: 60 | Epoch Time: 0m 3s\n",
            "\tTrain Loss: 0.015 | Train Acc: 99.67%\n",
            "\t Val. Loss: 0.027 |  Val. Acc: 99.11%\n"
          ],
          "name": "stdout"
        },
        {
          "output_type": "stream",
          "text": [
            "\r 30%|███       | 61/200 [03:21<07:16,  3.14s/it]"
          ],
          "name": "stderr"
        },
        {
          "output_type": "stream",
          "text": [
            "Epoch: 61 | Epoch Time: 0m 3s\n",
            "\tTrain Loss: 0.011 | Train Acc: 99.84%\n",
            "\t Val. Loss: 0.020 |  Val. Acc: 99.11%\n"
          ],
          "name": "stdout"
        },
        {
          "output_type": "stream",
          "text": [
            "\r 31%|███       | 62/200 [03:24<07:15,  3.15s/it]"
          ],
          "name": "stderr"
        },
        {
          "output_type": "stream",
          "text": [
            "Epoch: 62 | Epoch Time: 0m 3s\n",
            "\tTrain Loss: 0.011 | Train Acc: 99.89%\n",
            "\t Val. Loss: 0.021 |  Val. Acc: 99.11%\n"
          ],
          "name": "stdout"
        },
        {
          "output_type": "stream",
          "text": [
            "\r 32%|███▏      | 63/200 [03:28<07:14,  3.17s/it]"
          ],
          "name": "stderr"
        },
        {
          "output_type": "stream",
          "text": [
            "Epoch: 63 | Epoch Time: 0m 3s\n",
            "\tTrain Loss: 0.008 | Train Acc: 99.89%\n",
            "\t Val. Loss: 0.024 |  Val. Acc: 99.11%\n"
          ],
          "name": "stdout"
        },
        {
          "output_type": "stream",
          "text": [
            "\r 32%|███▏      | 64/200 [03:31<07:14,  3.20s/it]"
          ],
          "name": "stderr"
        },
        {
          "output_type": "stream",
          "text": [
            "Epoch: 64 | Epoch Time: 0m 3s\n",
            "\tTrain Loss: 0.009 | Train Acc: 99.95%\n",
            "\t Val. Loss: 0.021 |  Val. Acc: 99.11%\n"
          ],
          "name": "stdout"
        },
        {
          "output_type": "stream",
          "text": [
            "\r 32%|███▎      | 65/200 [03:34<07:12,  3.20s/it]"
          ],
          "name": "stderr"
        },
        {
          "output_type": "stream",
          "text": [
            "Epoch: 65 | Epoch Time: 0m 3s\n",
            "\tTrain Loss: 0.006 | Train Acc: 99.89%\n",
            "\t Val. Loss: 0.022 |  Val. Acc: 99.11%\n"
          ],
          "name": "stdout"
        },
        {
          "output_type": "stream",
          "text": [
            "\r 33%|███▎      | 66/200 [03:37<07:06,  3.19s/it]"
          ],
          "name": "stderr"
        },
        {
          "output_type": "stream",
          "text": [
            "Epoch: 66 | Epoch Time: 0m 3s\n",
            "\tTrain Loss: 0.021 | Train Acc: 99.69%\n",
            "\t Val. Loss: 0.032 |  Val. Acc: 99.11%\n"
          ],
          "name": "stdout"
        },
        {
          "output_type": "stream",
          "text": [
            "\r 34%|███▎      | 67/200 [03:40<07:01,  3.17s/it]"
          ],
          "name": "stderr"
        },
        {
          "output_type": "stream",
          "text": [
            "Epoch: 67 | Epoch Time: 0m 3s\n",
            "\tTrain Loss: 0.017 | Train Acc: 99.53%\n",
            "\t Val. Loss: 0.024 |  Val. Acc: 99.11%\n"
          ],
          "name": "stdout"
        },
        {
          "output_type": "stream",
          "text": [
            "\r 34%|███▍      | 68/200 [03:43<06:56,  3.15s/it]"
          ],
          "name": "stderr"
        },
        {
          "output_type": "stream",
          "text": [
            "Epoch: 68 | Epoch Time: 0m 3s\n",
            "\tTrain Loss: 0.012 | Train Acc: 99.73%\n",
            "\t Val. Loss: 0.020 |  Val. Acc: 99.55%\n"
          ],
          "name": "stdout"
        },
        {
          "output_type": "stream",
          "text": [
            "\r 34%|███▍      | 69/200 [03:46<06:51,  3.14s/it]"
          ],
          "name": "stderr"
        },
        {
          "output_type": "stream",
          "text": [
            "Epoch: 69 | Epoch Time: 0m 3s\n",
            "\tTrain Loss: 0.010 | Train Acc: 99.89%\n",
            "\t Val. Loss: 0.022 |  Val. Acc: 99.11%\n"
          ],
          "name": "stdout"
        },
        {
          "output_type": "stream",
          "text": [
            "\r 35%|███▌      | 70/200 [03:50<06:46,  3.13s/it]"
          ],
          "name": "stderr"
        },
        {
          "output_type": "stream",
          "text": [
            "Epoch: 70 | Epoch Time: 0m 3s\n",
            "\tTrain Loss: 0.014 | Train Acc: 99.67%\n",
            "\t Val. Loss: 0.021 |  Val. Acc: 99.11%\n"
          ],
          "name": "stdout"
        },
        {
          "output_type": "stream",
          "text": [
            "\r 36%|███▌      | 71/200 [03:53<06:42,  3.12s/it]"
          ],
          "name": "stderr"
        },
        {
          "output_type": "stream",
          "text": [
            "Epoch: 71 | Epoch Time: 0m 3s\n",
            "\tTrain Loss: 0.006 | Train Acc: 100.00%\n",
            "\t Val. Loss: 0.020 |  Val. Acc: 99.11%\n"
          ],
          "name": "stdout"
        },
        {
          "output_type": "stream",
          "text": [
            "\r 36%|███▌      | 72/200 [03:56<06:39,  3.12s/it]"
          ],
          "name": "stderr"
        },
        {
          "output_type": "stream",
          "text": [
            "Epoch: 72 | Epoch Time: 0m 3s\n",
            "\tTrain Loss: 0.005 | Train Acc: 99.95%\n",
            "\t Val. Loss: 0.022 |  Val. Acc: 99.11%\n"
          ],
          "name": "stdout"
        },
        {
          "output_type": "stream",
          "text": [
            "\r 36%|███▋      | 73/200 [03:59<06:35,  3.11s/it]"
          ],
          "name": "stderr"
        },
        {
          "output_type": "stream",
          "text": [
            "Epoch: 73 | Epoch Time: 0m 3s\n",
            "\tTrain Loss: 0.007 | Train Acc: 99.84%\n",
            "\t Val. Loss: 0.022 |  Val. Acc: 99.11%\n"
          ],
          "name": "stdout"
        },
        {
          "output_type": "stream",
          "text": [
            "\r 37%|███▋      | 74/200 [04:02<06:33,  3.12s/it]"
          ],
          "name": "stderr"
        },
        {
          "output_type": "stream",
          "text": [
            "Epoch: 74 | Epoch Time: 0m 3s\n",
            "\tTrain Loss: 0.011 | Train Acc: 99.73%\n",
            "\t Val. Loss: 0.028 |  Val. Acc: 99.11%\n"
          ],
          "name": "stdout"
        },
        {
          "output_type": "stream",
          "text": [
            "\r 38%|███▊      | 75/200 [04:05<06:28,  3.11s/it]"
          ],
          "name": "stderr"
        },
        {
          "output_type": "stream",
          "text": [
            "Epoch: 75 | Epoch Time: 0m 3s\n",
            "\tTrain Loss: 0.008 | Train Acc: 99.89%\n",
            "\t Val. Loss: 0.017 |  Val. Acc: 99.11%\n"
          ],
          "name": "stdout"
        },
        {
          "output_type": "stream",
          "text": [
            "\r 38%|███▊      | 76/200 [04:08<06:24,  3.10s/it]"
          ],
          "name": "stderr"
        },
        {
          "output_type": "stream",
          "text": [
            "Epoch: 76 | Epoch Time: 0m 3s\n",
            "\tTrain Loss: 0.006 | Train Acc: 99.95%\n",
            "\t Val. Loss: 0.018 |  Val. Acc: 99.11%\n"
          ],
          "name": "stdout"
        },
        {
          "output_type": "stream",
          "text": [
            "\r 38%|███▊      | 77/200 [04:11<06:21,  3.10s/it]"
          ],
          "name": "stderr"
        },
        {
          "output_type": "stream",
          "text": [
            "Epoch: 77 | Epoch Time: 0m 3s\n",
            "\tTrain Loss: 0.005 | Train Acc: 99.89%\n",
            "\t Val. Loss: 0.015 |  Val. Acc: 100.00%\n"
          ],
          "name": "stdout"
        },
        {
          "output_type": "stream",
          "text": [
            "\r 39%|███▉      | 78/200 [04:14<06:17,  3.10s/it]"
          ],
          "name": "stderr"
        },
        {
          "output_type": "stream",
          "text": [
            "Epoch: 78 | Epoch Time: 0m 3s\n",
            "\tTrain Loss: 0.006 | Train Acc: 99.89%\n",
            "\t Val. Loss: 0.017 |  Val. Acc: 99.11%\n"
          ],
          "name": "stdout"
        },
        {
          "output_type": "stream",
          "text": [
            "\r 40%|███▉      | 79/200 [04:18<06:16,  3.11s/it]"
          ],
          "name": "stderr"
        },
        {
          "output_type": "stream",
          "text": [
            "Epoch: 79 | Epoch Time: 0m 3s\n",
            "\tTrain Loss: 0.006 | Train Acc: 99.95%\n",
            "\t Val. Loss: 0.017 |  Val. Acc: 99.11%\n"
          ],
          "name": "stdout"
        },
        {
          "output_type": "stream",
          "text": [
            "\r 40%|████      | 80/200 [04:21<06:15,  3.13s/it]"
          ],
          "name": "stderr"
        },
        {
          "output_type": "stream",
          "text": [
            "Epoch: 80 | Epoch Time: 0m 3s\n",
            "\tTrain Loss: 0.005 | Train Acc: 100.00%\n",
            "\t Val. Loss: 0.016 |  Val. Acc: 99.11%\n"
          ],
          "name": "stdout"
        },
        {
          "output_type": "stream",
          "text": [
            "\r 40%|████      | 81/200 [04:24<06:13,  3.14s/it]"
          ],
          "name": "stderr"
        },
        {
          "output_type": "stream",
          "text": [
            "Epoch: 81 | Epoch Time: 0m 3s\n",
            "\tTrain Loss: 0.005 | Train Acc: 100.00%\n",
            "\t Val. Loss: 0.016 |  Val. Acc: 99.55%\n"
          ],
          "name": "stdout"
        },
        {
          "output_type": "stream",
          "text": [
            "\r 41%|████      | 82/200 [04:27<06:11,  3.15s/it]"
          ],
          "name": "stderr"
        },
        {
          "output_type": "stream",
          "text": [
            "Epoch: 82 | Epoch Time: 0m 3s\n",
            "\tTrain Loss: 0.007 | Train Acc: 99.84%\n",
            "\t Val. Loss: 0.014 |  Val. Acc: 99.55%\n"
          ],
          "name": "stdout"
        },
        {
          "output_type": "stream",
          "text": [
            "\r 42%|████▏     | 83/200 [04:30<06:09,  3.15s/it]"
          ],
          "name": "stderr"
        },
        {
          "output_type": "stream",
          "text": [
            "Epoch: 83 | Epoch Time: 0m 3s\n",
            "\tTrain Loss: 0.005 | Train Acc: 99.95%\n",
            "\t Val. Loss: 0.022 |  Val. Acc: 99.11%\n"
          ],
          "name": "stdout"
        },
        {
          "output_type": "stream",
          "text": [
            "\r 42%|████▏     | 84/200 [04:33<06:06,  3.16s/it]"
          ],
          "name": "stderr"
        },
        {
          "output_type": "stream",
          "text": [
            "Epoch: 84 | Epoch Time: 0m 3s\n",
            "\tTrain Loss: 0.005 | Train Acc: 99.95%\n",
            "\t Val. Loss: 0.022 |  Val. Acc: 99.11%\n"
          ],
          "name": "stdout"
        },
        {
          "output_type": "stream",
          "text": [
            "\r 42%|████▎     | 85/200 [04:37<06:06,  3.18s/it]"
          ],
          "name": "stderr"
        },
        {
          "output_type": "stream",
          "text": [
            "Epoch: 85 | Epoch Time: 0m 3s\n",
            "\tTrain Loss: 0.004 | Train Acc: 99.95%\n",
            "\t Val. Loss: 0.018 |  Val. Acc: 99.11%\n"
          ],
          "name": "stdout"
        },
        {
          "output_type": "stream",
          "text": [
            "\r 43%|████▎     | 86/200 [04:40<06:02,  3.18s/it]"
          ],
          "name": "stderr"
        },
        {
          "output_type": "stream",
          "text": [
            "Epoch: 86 | Epoch Time: 0m 3s\n",
            "\tTrain Loss: 0.005 | Train Acc: 99.89%\n",
            "\t Val. Loss: 0.022 |  Val. Acc: 99.11%\n"
          ],
          "name": "stdout"
        },
        {
          "output_type": "stream",
          "text": [
            "\r 44%|████▎     | 87/200 [04:43<06:01,  3.20s/it]"
          ],
          "name": "stderr"
        },
        {
          "output_type": "stream",
          "text": [
            "Epoch: 87 | Epoch Time: 0m 3s\n",
            "\tTrain Loss: 0.004 | Train Acc: 100.00%\n",
            "\t Val. Loss: 0.016 |  Val. Acc: 99.11%\n"
          ],
          "name": "stdout"
        },
        {
          "output_type": "stream",
          "text": [
            "\r 44%|████▍     | 88/200 [04:46<05:59,  3.21s/it]"
          ],
          "name": "stderr"
        },
        {
          "output_type": "stream",
          "text": [
            "Epoch: 88 | Epoch Time: 0m 3s\n",
            "\tTrain Loss: 0.005 | Train Acc: 99.95%\n",
            "\t Val. Loss: 0.016 |  Val. Acc: 99.11%\n"
          ],
          "name": "stdout"
        },
        {
          "output_type": "stream",
          "text": [
            "\r 44%|████▍     | 89/200 [04:50<05:58,  3.23s/it]"
          ],
          "name": "stderr"
        },
        {
          "output_type": "stream",
          "text": [
            "Epoch: 89 | Epoch Time: 0m 3s\n",
            "\tTrain Loss: 0.015 | Train Acc: 99.75%\n",
            "\t Val. Loss: 0.018 |  Val. Acc: 99.11%\n"
          ],
          "name": "stdout"
        },
        {
          "output_type": "stream",
          "text": [
            "\r 45%|████▌     | 90/200 [04:53<05:57,  3.25s/it]"
          ],
          "name": "stderr"
        },
        {
          "output_type": "stream",
          "text": [
            "Epoch: 90 | Epoch Time: 0m 3s\n",
            "\tTrain Loss: 0.006 | Train Acc: 99.89%\n",
            "\t Val. Loss: 0.022 |  Val. Acc: 98.21%\n"
          ],
          "name": "stdout"
        },
        {
          "output_type": "stream",
          "text": [
            "\r 46%|████▌     | 91/200 [04:56<05:57,  3.28s/it]"
          ],
          "name": "stderr"
        },
        {
          "output_type": "stream",
          "text": [
            "Epoch: 91 | Epoch Time: 0m 3s\n",
            "\tTrain Loss: 0.006 | Train Acc: 99.89%\n",
            "\t Val. Loss: 0.022 |  Val. Acc: 99.11%\n"
          ],
          "name": "stdout"
        },
        {
          "output_type": "stream",
          "text": [
            "\r 46%|████▌     | 92/200 [05:00<06:09,  3.42s/it]"
          ],
          "name": "stderr"
        },
        {
          "output_type": "stream",
          "text": [
            "Epoch: 92 | Epoch Time: 0m 3s\n",
            "\tTrain Loss: 0.004 | Train Acc: 100.00%\n",
            "\t Val. Loss: 0.021 |  Val. Acc: 99.11%\n"
          ],
          "name": "stdout"
        },
        {
          "output_type": "stream",
          "text": [
            "\r 46%|████▋     | 93/200 [05:04<06:17,  3.52s/it]"
          ],
          "name": "stderr"
        },
        {
          "output_type": "stream",
          "text": [
            "Epoch: 93 | Epoch Time: 0m 3s\n",
            "\tTrain Loss: 0.004 | Train Acc: 99.95%\n",
            "\t Val. Loss: 0.019 |  Val. Acc: 99.11%\n"
          ],
          "name": "stdout"
        },
        {
          "output_type": "stream",
          "text": [
            "\r 47%|████▋     | 94/200 [05:07<06:10,  3.50s/it]"
          ],
          "name": "stderr"
        },
        {
          "output_type": "stream",
          "text": [
            "Epoch: 94 | Epoch Time: 0m 3s\n",
            "\tTrain Loss: 0.004 | Train Acc: 100.00%\n",
            "\t Val. Loss: 0.019 |  Val. Acc: 99.11%\n"
          ],
          "name": "stdout"
        },
        {
          "output_type": "stream",
          "text": [
            "\r 48%|████▊     | 95/200 [05:10<05:56,  3.40s/it]"
          ],
          "name": "stderr"
        },
        {
          "output_type": "stream",
          "text": [
            "Epoch: 95 | Epoch Time: 0m 3s\n",
            "\tTrain Loss: 0.005 | Train Acc: 100.00%\n",
            "\t Val. Loss: 0.018 |  Val. Acc: 99.55%\n"
          ],
          "name": "stdout"
        },
        {
          "output_type": "stream",
          "text": [
            "\r 48%|████▊     | 96/200 [05:14<05:48,  3.35s/it]"
          ],
          "name": "stderr"
        },
        {
          "output_type": "stream",
          "text": [
            "Epoch: 96 | Epoch Time: 0m 3s\n",
            "\tTrain Loss: 0.006 | Train Acc: 99.84%\n",
            "\t Val. Loss: 0.027 |  Val. Acc: 99.11%\n"
          ],
          "name": "stdout"
        },
        {
          "output_type": "stream",
          "text": [
            "\r 48%|████▊     | 97/200 [05:17<05:40,  3.31s/it]"
          ],
          "name": "stderr"
        },
        {
          "output_type": "stream",
          "text": [
            "Epoch: 97 | Epoch Time: 0m 3s\n",
            "\tTrain Loss: 0.003 | Train Acc: 100.00%\n",
            "\t Val. Loss: 0.018 |  Val. Acc: 99.11%\n"
          ],
          "name": "stdout"
        },
        {
          "output_type": "stream",
          "text": [
            "\r 49%|████▉     | 98/200 [05:20<05:33,  3.27s/it]"
          ],
          "name": "stderr"
        },
        {
          "output_type": "stream",
          "text": [
            "Epoch: 98 | Epoch Time: 0m 3s\n",
            "\tTrain Loss: 0.009 | Train Acc: 99.84%\n",
            "\t Val. Loss: 0.019 |  Val. Acc: 99.55%\n"
          ],
          "name": "stdout"
        },
        {
          "output_type": "stream",
          "text": [
            "\r 50%|████▉     | 99/200 [05:23<05:28,  3.25s/it]"
          ],
          "name": "stderr"
        },
        {
          "output_type": "stream",
          "text": [
            "Epoch: 99 | Epoch Time: 0m 3s\n",
            "\tTrain Loss: 0.007 | Train Acc: 99.84%\n",
            "\t Val. Loss: 0.020 |  Val. Acc: 99.11%\n"
          ],
          "name": "stdout"
        },
        {
          "output_type": "stream",
          "text": [
            "\r 50%|█████     | 100/200 [05:26<05:21,  3.22s/it]"
          ],
          "name": "stderr"
        },
        {
          "output_type": "stream",
          "text": [
            "Epoch: 100 | Epoch Time: 0m 3s\n",
            "\tTrain Loss: 0.007 | Train Acc: 99.95%\n",
            "\t Val. Loss: 0.027 |  Val. Acc: 98.66%\n"
          ],
          "name": "stdout"
        },
        {
          "output_type": "stream",
          "text": [
            "\r 50%|█████     | 101/200 [05:29<05:17,  3.21s/it]"
          ],
          "name": "stderr"
        },
        {
          "output_type": "stream",
          "text": [
            "Epoch: 101 | Epoch Time: 0m 3s\n",
            "\tTrain Loss: 0.003 | Train Acc: 100.00%\n",
            "\t Val. Loss: 0.021 |  Val. Acc: 99.11%\n"
          ],
          "name": "stdout"
        },
        {
          "output_type": "stream",
          "text": [
            "\r 51%|█████     | 102/200 [05:33<05:13,  3.20s/it]"
          ],
          "name": "stderr"
        },
        {
          "output_type": "stream",
          "text": [
            "Epoch: 102 | Epoch Time: 0m 3s\n",
            "\tTrain Loss: 0.004 | Train Acc: 99.95%\n",
            "\t Val. Loss: 0.021 |  Val. Acc: 98.66%\n"
          ],
          "name": "stdout"
        },
        {
          "output_type": "stream",
          "text": [
            "\r 52%|█████▏    | 103/200 [05:36<05:09,  3.19s/it]"
          ],
          "name": "stderr"
        },
        {
          "output_type": "stream",
          "text": [
            "Epoch: 103 | Epoch Time: 0m 3s\n",
            "\tTrain Loss: 0.003 | Train Acc: 100.00%\n",
            "\t Val. Loss: 0.020 |  Val. Acc: 98.66%\n"
          ],
          "name": "stdout"
        },
        {
          "output_type": "stream",
          "text": [
            "\r 52%|█████▏    | 104/200 [05:39<05:04,  3.17s/it]"
          ],
          "name": "stderr"
        },
        {
          "output_type": "stream",
          "text": [
            "Epoch: 104 | Epoch Time: 0m 3s\n",
            "\tTrain Loss: 0.004 | Train Acc: 99.95%\n",
            "\t Val. Loss: 0.021 |  Val. Acc: 99.11%\n"
          ],
          "name": "stdout"
        },
        {
          "output_type": "stream",
          "text": [
            "\r 52%|█████▎    | 105/200 [05:42<05:01,  3.18s/it]"
          ],
          "name": "stderr"
        },
        {
          "output_type": "stream",
          "text": [
            "Epoch: 105 | Epoch Time: 0m 3s\n",
            "\tTrain Loss: 0.003 | Train Acc: 99.95%\n",
            "\t Val. Loss: 0.021 |  Val. Acc: 99.11%\n"
          ],
          "name": "stdout"
        },
        {
          "output_type": "stream",
          "text": [
            "\r 53%|█████▎    | 106/200 [05:45<05:00,  3.20s/it]"
          ],
          "name": "stderr"
        },
        {
          "output_type": "stream",
          "text": [
            "Epoch: 106 | Epoch Time: 0m 3s\n",
            "\tTrain Loss: 0.003 | Train Acc: 100.00%\n",
            "\t Val. Loss: 0.020 |  Val. Acc: 99.11%\n"
          ],
          "name": "stdout"
        },
        {
          "output_type": "stream",
          "text": [
            "\r 54%|█████▎    | 107/200 [05:49<04:58,  3.21s/it]"
          ],
          "name": "stderr"
        },
        {
          "output_type": "stream",
          "text": [
            "Epoch: 107 | Epoch Time: 0m 3s\n",
            "\tTrain Loss: 0.003 | Train Acc: 100.00%\n",
            "\t Val. Loss: 0.019 |  Val. Acc: 99.11%\n"
          ],
          "name": "stdout"
        },
        {
          "output_type": "stream",
          "text": [
            "\r 54%|█████▍    | 108/200 [05:52<04:53,  3.19s/it]"
          ],
          "name": "stderr"
        },
        {
          "output_type": "stream",
          "text": [
            "Epoch: 108 | Epoch Time: 0m 3s\n",
            "\tTrain Loss: 0.004 | Train Acc: 99.95%\n",
            "\t Val. Loss: 0.020 |  Val. Acc: 99.11%\n"
          ],
          "name": "stdout"
        },
        {
          "output_type": "stream",
          "text": [
            "\r 55%|█████▍    | 109/200 [05:55<04:48,  3.17s/it]"
          ],
          "name": "stderr"
        },
        {
          "output_type": "stream",
          "text": [
            "Epoch: 109 | Epoch Time: 0m 3s\n",
            "\tTrain Loss: 0.003 | Train Acc: 100.00%\n",
            "\t Val. Loss: 0.019 |  Val. Acc: 99.11%\n"
          ],
          "name": "stdout"
        },
        {
          "output_type": "stream",
          "text": [
            "\r 55%|█████▌    | 110/200 [05:58<04:44,  3.16s/it]"
          ],
          "name": "stderr"
        },
        {
          "output_type": "stream",
          "text": [
            "Epoch: 110 | Epoch Time: 0m 3s\n",
            "\tTrain Loss: 0.007 | Train Acc: 99.89%\n",
            "\t Val. Loss: 0.016 |  Val. Acc: 99.55%\n"
          ],
          "name": "stdout"
        },
        {
          "output_type": "stream",
          "text": [
            "\r 56%|█████▌    | 111/200 [06:01<04:39,  3.14s/it]"
          ],
          "name": "stderr"
        },
        {
          "output_type": "stream",
          "text": [
            "Epoch: 111 | Epoch Time: 0m 3s\n",
            "\tTrain Loss: 0.009 | Train Acc: 99.78%\n",
            "\t Val. Loss: 0.018 |  Val. Acc: 99.11%\n"
          ],
          "name": "stdout"
        },
        {
          "output_type": "stream",
          "text": [
            "\r 56%|█████▌    | 112/200 [06:04<04:35,  3.13s/it]"
          ],
          "name": "stderr"
        },
        {
          "output_type": "stream",
          "text": [
            "Epoch: 112 | Epoch Time: 0m 3s\n",
            "\tTrain Loss: 0.007 | Train Acc: 99.75%\n",
            "\t Val. Loss: 0.020 |  Val. Acc: 99.11%\n"
          ],
          "name": "stdout"
        },
        {
          "output_type": "stream",
          "text": [
            "\r 56%|█████▋    | 113/200 [06:07<04:32,  3.13s/it]"
          ],
          "name": "stderr"
        },
        {
          "output_type": "stream",
          "text": [
            "Epoch: 113 | Epoch Time: 0m 3s\n",
            "\tTrain Loss: 0.011 | Train Acc: 99.67%\n",
            "\t Val. Loss: 0.021 |  Val. Acc: 98.66%\n"
          ],
          "name": "stdout"
        },
        {
          "output_type": "stream",
          "text": [
            "\r 57%|█████▋    | 114/200 [06:11<04:30,  3.15s/it]"
          ],
          "name": "stderr"
        },
        {
          "output_type": "stream",
          "text": [
            "Epoch: 114 | Epoch Time: 0m 3s\n",
            "\tTrain Loss: 0.007 | Train Acc: 99.69%\n",
            "\t Val. Loss: 0.019 |  Val. Acc: 99.11%\n"
          ],
          "name": "stdout"
        },
        {
          "output_type": "stream",
          "text": [
            "\r 57%|█████▊    | 115/200 [06:14<04:29,  3.17s/it]"
          ],
          "name": "stderr"
        },
        {
          "output_type": "stream",
          "text": [
            "Epoch: 115 | Epoch Time: 0m 3s\n",
            "\tTrain Loss: 0.005 | Train Acc: 99.89%\n",
            "\t Val. Loss: 0.018 |  Val. Acc: 99.55%\n"
          ],
          "name": "stdout"
        },
        {
          "output_type": "stream",
          "text": [
            "\r 58%|█████▊    | 116/200 [06:17<04:25,  3.17s/it]"
          ],
          "name": "stderr"
        },
        {
          "output_type": "stream",
          "text": [
            "Epoch: 116 | Epoch Time: 0m 3s\n",
            "\tTrain Loss: 0.004 | Train Acc: 100.00%\n",
            "\t Val. Loss: 0.019 |  Val. Acc: 99.55%\n"
          ],
          "name": "stdout"
        },
        {
          "output_type": "stream",
          "text": [
            "\r 58%|█████▊    | 117/200 [06:20<04:21,  3.15s/it]"
          ],
          "name": "stderr"
        },
        {
          "output_type": "stream",
          "text": [
            "Epoch: 117 | Epoch Time: 0m 3s\n",
            "\tTrain Loss: 0.004 | Train Acc: 100.00%\n",
            "\t Val. Loss: 0.018 |  Val. Acc: 99.11%\n"
          ],
          "name": "stdout"
        },
        {
          "output_type": "stream",
          "text": [
            "\r 59%|█████▉    | 118/200 [06:23<04:16,  3.13s/it]"
          ],
          "name": "stderr"
        },
        {
          "output_type": "stream",
          "text": [
            "Epoch: 118 | Epoch Time: 0m 3s\n",
            "\tTrain Loss: 0.004 | Train Acc: 100.00%\n",
            "\t Val. Loss: 0.018 |  Val. Acc: 99.11%\n"
          ],
          "name": "stdout"
        },
        {
          "output_type": "stream",
          "text": [
            "\r 60%|█████▉    | 119/200 [06:26<04:12,  3.12s/it]"
          ],
          "name": "stderr"
        },
        {
          "output_type": "stream",
          "text": [
            "Epoch: 119 | Epoch Time: 0m 3s\n",
            "\tTrain Loss: 0.014 | Train Acc: 99.64%\n",
            "\t Val. Loss: 0.026 |  Val. Acc: 99.11%\n"
          ],
          "name": "stdout"
        },
        {
          "output_type": "stream",
          "text": [
            "\r 60%|██████    | 120/200 [06:29<04:09,  3.12s/it]"
          ],
          "name": "stderr"
        },
        {
          "output_type": "stream",
          "text": [
            "Epoch: 120 | Epoch Time: 0m 3s\n",
            "\tTrain Loss: 0.010 | Train Acc: 99.84%\n",
            "\t Val. Loss: 0.024 |  Val. Acc: 98.66%\n"
          ],
          "name": "stdout"
        },
        {
          "output_type": "stream",
          "text": [
            "\r 60%|██████    | 121/200 [06:32<04:05,  3.10s/it]"
          ],
          "name": "stderr"
        },
        {
          "output_type": "stream",
          "text": [
            "Epoch: 121 | Epoch Time: 0m 3s\n",
            "\tTrain Loss: 0.005 | Train Acc: 100.00%\n",
            "\t Val. Loss: 0.020 |  Val. Acc: 99.11%\n"
          ],
          "name": "stdout"
        },
        {
          "output_type": "stream",
          "text": [
            "\r 61%|██████    | 122/200 [06:35<04:02,  3.11s/it]"
          ],
          "name": "stderr"
        },
        {
          "output_type": "stream",
          "text": [
            "Epoch: 122 | Epoch Time: 0m 3s\n",
            "\tTrain Loss: 0.003 | Train Acc: 100.00%\n",
            "\t Val. Loss: 0.023 |  Val. Acc: 99.11%\n"
          ],
          "name": "stdout"
        },
        {
          "output_type": "stream",
          "text": [
            "\r 62%|██████▏   | 123/200 [06:39<03:58,  3.10s/it]"
          ],
          "name": "stderr"
        },
        {
          "output_type": "stream",
          "text": [
            "Epoch: 123 | Epoch Time: 0m 3s\n",
            "\tTrain Loss: 0.003 | Train Acc: 99.95%\n",
            "\t Val. Loss: 0.017 |  Val. Acc: 99.55%\n"
          ],
          "name": "stdout"
        },
        {
          "output_type": "stream",
          "text": [
            "\r 62%|██████▏   | 124/200 [06:42<03:54,  3.09s/it]"
          ],
          "name": "stderr"
        },
        {
          "output_type": "stream",
          "text": [
            "Epoch: 124 | Epoch Time: 0m 3s\n",
            "\tTrain Loss: 0.005 | Train Acc: 99.89%\n",
            "\t Val. Loss: 0.017 |  Val. Acc: 99.11%\n"
          ],
          "name": "stdout"
        },
        {
          "output_type": "stream",
          "text": [
            "\r 62%|██████▎   | 125/200 [06:45<03:52,  3.09s/it]"
          ],
          "name": "stderr"
        },
        {
          "output_type": "stream",
          "text": [
            "Epoch: 125 | Epoch Time: 0m 3s\n",
            "\tTrain Loss: 0.003 | Train Acc: 100.00%\n",
            "\t Val. Loss: 0.020 |  Val. Acc: 99.55%\n"
          ],
          "name": "stdout"
        },
        {
          "output_type": "stream",
          "text": [
            "\r 63%|██████▎   | 126/200 [06:48<03:53,  3.15s/it]"
          ],
          "name": "stderr"
        },
        {
          "output_type": "stream",
          "text": [
            "Epoch: 126 | Epoch Time: 0m 3s\n",
            "\tTrain Loss: 0.010 | Train Acc: 99.50%\n",
            "\t Val. Loss: 0.016 |  Val. Acc: 99.55%\n"
          ],
          "name": "stdout"
        },
        {
          "output_type": "stream",
          "text": [
            "\r 64%|██████▎   | 127/200 [06:51<03:56,  3.24s/it]"
          ],
          "name": "stderr"
        },
        {
          "output_type": "stream",
          "text": [
            "Epoch: 127 | Epoch Time: 0m 3s\n",
            "\tTrain Loss: 0.005 | Train Acc: 100.00%\n",
            "\t Val. Loss: 0.018 |  Val. Acc: 99.11%\n"
          ],
          "name": "stdout"
        },
        {
          "output_type": "stream",
          "text": [
            "\r 64%|██████▍   | 128/200 [06:55<03:51,  3.21s/it]"
          ],
          "name": "stderr"
        },
        {
          "output_type": "stream",
          "text": [
            "Epoch: 128 | Epoch Time: 0m 3s\n",
            "\tTrain Loss: 0.004 | Train Acc: 99.95%\n",
            "\t Val. Loss: 0.016 |  Val. Acc: 99.55%\n"
          ],
          "name": "stdout"
        },
        {
          "output_type": "stream",
          "text": [
            "\r 64%|██████▍   | 129/200 [06:58<03:44,  3.17s/it]"
          ],
          "name": "stderr"
        },
        {
          "output_type": "stream",
          "text": [
            "Epoch: 129 | Epoch Time: 0m 3s\n",
            "\tTrain Loss: 0.004 | Train Acc: 99.89%\n",
            "\t Val. Loss: 0.017 |  Val. Acc: 99.11%\n"
          ],
          "name": "stdout"
        },
        {
          "output_type": "stream",
          "text": [
            "\r 65%|██████▌   | 130/200 [07:01<03:39,  3.14s/it]"
          ],
          "name": "stderr"
        },
        {
          "output_type": "stream",
          "text": [
            "Epoch: 130 | Epoch Time: 0m 3s\n",
            "\tTrain Loss: 0.005 | Train Acc: 99.84%\n",
            "\t Val. Loss: 0.016 |  Val. Acc: 99.55%\n"
          ],
          "name": "stdout"
        },
        {
          "output_type": "stream",
          "text": [
            "\r 66%|██████▌   | 131/200 [07:04<03:35,  3.12s/it]"
          ],
          "name": "stderr"
        },
        {
          "output_type": "stream",
          "text": [
            "Epoch: 131 | Epoch Time: 0m 3s\n",
            "\tTrain Loss: 0.011 | Train Acc: 99.64%\n",
            "\t Val. Loss: 0.020 |  Val. Acc: 98.66%\n"
          ],
          "name": "stdout"
        },
        {
          "output_type": "stream",
          "text": [
            "\r 66%|██████▌   | 132/200 [07:07<03:30,  3.10s/it]"
          ],
          "name": "stderr"
        },
        {
          "output_type": "stream",
          "text": [
            "Epoch: 132 | Epoch Time: 0m 3s\n",
            "\tTrain Loss: 0.018 | Train Acc: 99.09%\n",
            "\t Val. Loss: 0.015 |  Val. Acc: 100.00%\n"
          ],
          "name": "stdout"
        },
        {
          "output_type": "stream",
          "text": [
            "\r 66%|██████▋   | 133/200 [07:10<03:26,  3.08s/it]"
          ],
          "name": "stderr"
        },
        {
          "output_type": "stream",
          "text": [
            "Epoch: 133 | Epoch Time: 0m 3s\n",
            "\tTrain Loss: 0.012 | Train Acc: 99.73%\n",
            "\t Val. Loss: 0.032 |  Val. Acc: 98.66%\n"
          ],
          "name": "stdout"
        },
        {
          "output_type": "stream",
          "text": [
            "\r 67%|██████▋   | 134/200 [07:13<03:22,  3.06s/it]"
          ],
          "name": "stderr"
        },
        {
          "output_type": "stream",
          "text": [
            "Epoch: 134 | Epoch Time: 0m 3s\n",
            "\tTrain Loss: 0.004 | Train Acc: 100.00%\n",
            "\t Val. Loss: 0.023 |  Val. Acc: 99.11%\n"
          ],
          "name": "stdout"
        },
        {
          "output_type": "stream",
          "text": [
            "\r 68%|██████▊   | 135/200 [07:16<03:19,  3.07s/it]"
          ],
          "name": "stderr"
        },
        {
          "output_type": "stream",
          "text": [
            "Epoch: 135 | Epoch Time: 0m 3s\n",
            "\tTrain Loss: 0.004 | Train Acc: 99.95%\n",
            "\t Val. Loss: 0.020 |  Val. Acc: 99.11%\n"
          ],
          "name": "stdout"
        },
        {
          "output_type": "stream",
          "text": [
            "\r 68%|██████▊   | 136/200 [07:19<03:17,  3.09s/it]"
          ],
          "name": "stderr"
        },
        {
          "output_type": "stream",
          "text": [
            "Epoch: 136 | Epoch Time: 0m 3s\n",
            "\tTrain Loss: 0.057 | Train Acc: 99.00%\n",
            "\t Val. Loss: 0.037 |  Val. Acc: 99.11%\n"
          ],
          "name": "stdout"
        },
        {
          "output_type": "stream",
          "text": [
            "\r 68%|██████▊   | 137/200 [07:22<03:14,  3.08s/it]"
          ],
          "name": "stderr"
        },
        {
          "output_type": "stream",
          "text": [
            "Epoch: 137 | Epoch Time: 0m 3s\n",
            "\tTrain Loss: 0.012 | Train Acc: 99.51%\n",
            "\t Val. Loss: 0.040 |  Val. Acc: 98.21%\n"
          ],
          "name": "stdout"
        },
        {
          "output_type": "stream",
          "text": [
            "\r 69%|██████▉   | 138/200 [07:25<03:11,  3.08s/it]"
          ],
          "name": "stderr"
        },
        {
          "output_type": "stream",
          "text": [
            "Epoch: 138 | Epoch Time: 0m 3s\n",
            "\tTrain Loss: 0.005 | Train Acc: 100.00%\n",
            "\t Val. Loss: 0.032 |  Val. Acc: 98.21%\n"
          ],
          "name": "stdout"
        },
        {
          "output_type": "stream",
          "text": [
            "\r 70%|██████▉   | 139/200 [07:28<03:09,  3.11s/it]"
          ],
          "name": "stderr"
        },
        {
          "output_type": "stream",
          "text": [
            "Epoch: 139 | Epoch Time: 0m 3s\n",
            "\tTrain Loss: 0.004 | Train Acc: 100.00%\n",
            "\t Val. Loss: 0.022 |  Val. Acc: 99.11%\n"
          ],
          "name": "stdout"
        },
        {
          "output_type": "stream",
          "text": [
            "\r 70%|███████   | 140/200 [07:32<03:08,  3.14s/it]"
          ],
          "name": "stderr"
        },
        {
          "output_type": "stream",
          "text": [
            "Epoch: 140 | Epoch Time: 0m 3s\n",
            "\tTrain Loss: 0.005 | Train Acc: 99.95%\n",
            "\t Val. Loss: 0.021 |  Val. Acc: 98.66%\n"
          ],
          "name": "stdout"
        },
        {
          "output_type": "stream",
          "text": [
            "\r 70%|███████   | 141/200 [07:35<03:05,  3.14s/it]"
          ],
          "name": "stderr"
        },
        {
          "output_type": "stream",
          "text": [
            "Epoch: 141 | Epoch Time: 0m 3s\n",
            "\tTrain Loss: 0.006 | Train Acc: 99.84%\n",
            "\t Val. Loss: 0.023 |  Val. Acc: 99.11%\n"
          ],
          "name": "stdout"
        },
        {
          "output_type": "stream",
          "text": [
            "\r 71%|███████   | 142/200 [07:38<03:01,  3.13s/it]"
          ],
          "name": "stderr"
        },
        {
          "output_type": "stream",
          "text": [
            "Epoch: 142 | Epoch Time: 0m 3s\n",
            "\tTrain Loss: 0.014 | Train Acc: 99.69%\n",
            "\t Val. Loss: 0.017 |  Val. Acc: 99.11%\n"
          ],
          "name": "stdout"
        },
        {
          "output_type": "stream",
          "text": [
            "\r 72%|███████▏  | 143/200 [07:41<02:56,  3.10s/it]"
          ],
          "name": "stderr"
        },
        {
          "output_type": "stream",
          "text": [
            "Epoch: 143 | Epoch Time: 0m 3s\n",
            "\tTrain Loss: 0.008 | Train Acc: 99.84%\n",
            "\t Val. Loss: 0.036 |  Val. Acc: 97.77%\n"
          ],
          "name": "stdout"
        },
        {
          "output_type": "stream",
          "text": [
            "\r 72%|███████▏  | 144/200 [07:44<02:52,  3.08s/it]"
          ],
          "name": "stderr"
        },
        {
          "output_type": "stream",
          "text": [
            "Epoch: 144 | Epoch Time: 0m 3s\n",
            "\tTrain Loss: 0.005 | Train Acc: 99.89%\n",
            "\t Val. Loss: 0.027 |  Val. Acc: 98.66%\n"
          ],
          "name": "stdout"
        },
        {
          "output_type": "stream",
          "text": [
            "\r 72%|███████▎  | 145/200 [07:47<02:49,  3.08s/it]"
          ],
          "name": "stderr"
        },
        {
          "output_type": "stream",
          "text": [
            "Epoch: 145 | Epoch Time: 0m 3s\n",
            "\tTrain Loss: 0.005 | Train Acc: 99.89%\n",
            "\t Val. Loss: 0.034 |  Val. Acc: 98.66%\n"
          ],
          "name": "stdout"
        },
        {
          "output_type": "stream",
          "text": [
            "\r 73%|███████▎  | 146/200 [07:50<02:45,  3.07s/it]"
          ],
          "name": "stderr"
        },
        {
          "output_type": "stream",
          "text": [
            "Epoch: 146 | Epoch Time: 0m 3s\n",
            "\tTrain Loss: 0.003 | Train Acc: 99.95%\n",
            "\t Val. Loss: 0.028 |  Val. Acc: 98.66%\n"
          ],
          "name": "stdout"
        },
        {
          "output_type": "stream",
          "text": [
            "\r 74%|███████▎  | 147/200 [07:53<02:42,  3.07s/it]"
          ],
          "name": "stderr"
        },
        {
          "output_type": "stream",
          "text": [
            "Epoch: 147 | Epoch Time: 0m 3s\n",
            "\tTrain Loss: 0.012 | Train Acc: 99.53%\n",
            "\t Val. Loss: 0.023 |  Val. Acc: 98.66%\n"
          ],
          "name": "stdout"
        },
        {
          "output_type": "stream",
          "text": [
            "\r 74%|███████▍  | 148/200 [07:56<02:39,  3.06s/it]"
          ],
          "name": "stderr"
        },
        {
          "output_type": "stream",
          "text": [
            "Epoch: 148 | Epoch Time: 0m 3s\n",
            "\tTrain Loss: 0.005 | Train Acc: 99.95%\n",
            "\t Val. Loss: 0.027 |  Val. Acc: 99.11%\n"
          ],
          "name": "stdout"
        },
        {
          "output_type": "stream",
          "text": [
            "\r 74%|███████▍  | 149/200 [07:59<02:35,  3.06s/it]"
          ],
          "name": "stderr"
        },
        {
          "output_type": "stream",
          "text": [
            "Epoch: 149 | Epoch Time: 0m 3s\n",
            "\tTrain Loss: 0.003 | Train Acc: 99.95%\n",
            "\t Val. Loss: 0.025 |  Val. Acc: 99.11%\n"
          ],
          "name": "stdout"
        },
        {
          "output_type": "stream",
          "text": [
            "\r 75%|███████▌  | 150/200 [08:02<02:31,  3.04s/it]"
          ],
          "name": "stderr"
        },
        {
          "output_type": "stream",
          "text": [
            "Epoch: 150 | Epoch Time: 0m 2s\n",
            "\tTrain Loss: 0.004 | Train Acc: 99.95%\n",
            "\t Val. Loss: 0.022 |  Val. Acc: 99.11%\n"
          ],
          "name": "stdout"
        },
        {
          "output_type": "stream",
          "text": [
            "\r 76%|███████▌  | 151/200 [08:05<02:28,  3.03s/it]"
          ],
          "name": "stderr"
        },
        {
          "output_type": "stream",
          "text": [
            "Epoch: 151 | Epoch Time: 0m 3s\n",
            "\tTrain Loss: 0.003 | Train Acc: 100.00%\n",
            "\t Val. Loss: 0.020 |  Val. Acc: 99.11%\n"
          ],
          "name": "stdout"
        },
        {
          "output_type": "stream",
          "text": [
            "\r 76%|███████▌  | 152/200 [08:08<02:25,  3.03s/it]"
          ],
          "name": "stderr"
        },
        {
          "output_type": "stream",
          "text": [
            "Epoch: 152 | Epoch Time: 0m 3s\n",
            "\tTrain Loss: 0.066 | Train Acc: 99.50%\n",
            "\t Val. Loss: 0.026 |  Val. Acc: 99.11%\n"
          ],
          "name": "stdout"
        },
        {
          "output_type": "stream",
          "text": [
            "\r 76%|███████▋  | 153/200 [08:11<02:22,  3.02s/it]"
          ],
          "name": "stderr"
        },
        {
          "output_type": "stream",
          "text": [
            "Epoch: 153 | Epoch Time: 0m 3s\n",
            "\tTrain Loss: 0.011 | Train Acc: 99.89%\n",
            "\t Val. Loss: 0.025 |  Val. Acc: 98.66%\n"
          ],
          "name": "stdout"
        },
        {
          "output_type": "stream",
          "text": [
            "\r 77%|███████▋  | 154/200 [08:14<02:19,  3.02s/it]"
          ],
          "name": "stderr"
        },
        {
          "output_type": "stream",
          "text": [
            "Epoch: 154 | Epoch Time: 0m 3s\n",
            "\tTrain Loss: 0.003 | Train Acc: 100.00%\n",
            "\t Val. Loss: 0.021 |  Val. Acc: 99.55%\n"
          ],
          "name": "stdout"
        },
        {
          "output_type": "stream",
          "text": [
            "\r 78%|███████▊  | 155/200 [08:17<02:16,  3.03s/it]"
          ],
          "name": "stderr"
        },
        {
          "output_type": "stream",
          "text": [
            "Epoch: 155 | Epoch Time: 0m 3s\n",
            "\tTrain Loss: 0.004 | Train Acc: 99.95%\n",
            "\t Val. Loss: 0.025 |  Val. Acc: 99.11%\n"
          ],
          "name": "stdout"
        },
        {
          "output_type": "stream",
          "text": [
            "\r 78%|███████▊  | 156/200 [08:20<02:12,  3.02s/it]"
          ],
          "name": "stderr"
        },
        {
          "output_type": "stream",
          "text": [
            "Epoch: 156 | Epoch Time: 0m 3s\n",
            "\tTrain Loss: 0.003 | Train Acc: 100.00%\n",
            "\t Val. Loss: 0.023 |  Val. Acc: 98.66%\n"
          ],
          "name": "stdout"
        },
        {
          "output_type": "stream",
          "text": [
            "\r 78%|███████▊  | 157/200 [08:23<02:09,  3.02s/it]"
          ],
          "name": "stderr"
        },
        {
          "output_type": "stream",
          "text": [
            "Epoch: 157 | Epoch Time: 0m 2s\n",
            "\tTrain Loss: 0.003 | Train Acc: 100.00%\n",
            "\t Val. Loss: 0.023 |  Val. Acc: 98.66%\n"
          ],
          "name": "stdout"
        },
        {
          "output_type": "stream",
          "text": [
            "\r 79%|███████▉  | 158/200 [08:26<02:06,  3.01s/it]"
          ],
          "name": "stderr"
        },
        {
          "output_type": "stream",
          "text": [
            "Epoch: 158 | Epoch Time: 0m 3s\n",
            "\tTrain Loss: 0.005 | Train Acc: 99.89%\n",
            "\t Val. Loss: 0.018 |  Val. Acc: 99.55%\n"
          ],
          "name": "stdout"
        },
        {
          "output_type": "stream",
          "text": [
            "\r 80%|███████▉  | 159/200 [08:29<02:03,  3.02s/it]"
          ],
          "name": "stderr"
        },
        {
          "output_type": "stream",
          "text": [
            "Epoch: 159 | Epoch Time: 0m 3s\n",
            "\tTrain Loss: 0.002 | Train Acc: 100.00%\n",
            "\t Val. Loss: 0.020 |  Val. Acc: 99.11%\n"
          ],
          "name": "stdout"
        },
        {
          "output_type": "stream",
          "text": [
            "\r 80%|████████  | 160/200 [08:32<02:00,  3.01s/it]"
          ],
          "name": "stderr"
        },
        {
          "output_type": "stream",
          "text": [
            "Epoch: 160 | Epoch Time: 0m 3s\n",
            "\tTrain Loss: 0.003 | Train Acc: 100.00%\n",
            "\t Val. Loss: 0.021 |  Val. Acc: 99.11%\n"
          ],
          "name": "stdout"
        },
        {
          "output_type": "stream",
          "text": [
            "\r 80%|████████  | 161/200 [08:35<01:58,  3.03s/it]"
          ],
          "name": "stderr"
        },
        {
          "output_type": "stream",
          "text": [
            "Epoch: 161 | Epoch Time: 0m 3s\n",
            "\tTrain Loss: 0.007 | Train Acc: 99.67%\n",
            "\t Val. Loss: 0.019 |  Val. Acc: 99.11%\n"
          ],
          "name": "stdout"
        },
        {
          "output_type": "stream",
          "text": [
            "\r 81%|████████  | 162/200 [08:39<01:56,  3.07s/it]"
          ],
          "name": "stderr"
        },
        {
          "output_type": "stream",
          "text": [
            "Epoch: 162 | Epoch Time: 0m 3s\n",
            "\tTrain Loss: 0.004 | Train Acc: 100.00%\n",
            "\t Val. Loss: 0.018 |  Val. Acc: 99.11%\n"
          ],
          "name": "stdout"
        },
        {
          "output_type": "stream",
          "text": [
            "\r 82%|████████▏ | 163/200 [08:42<01:53,  3.07s/it]"
          ],
          "name": "stderr"
        },
        {
          "output_type": "stream",
          "text": [
            "Epoch: 163 | Epoch Time: 0m 3s\n",
            "\tTrain Loss: 0.002 | Train Acc: 100.00%\n",
            "\t Val. Loss: 0.021 |  Val. Acc: 98.21%\n"
          ],
          "name": "stdout"
        },
        {
          "output_type": "stream",
          "text": [
            "\r 82%|████████▏ | 164/200 [08:45<01:50,  3.06s/it]"
          ],
          "name": "stderr"
        },
        {
          "output_type": "stream",
          "text": [
            "Epoch: 164 | Epoch Time: 0m 3s\n",
            "\tTrain Loss: 0.002 | Train Acc: 100.00%\n",
            "\t Val. Loss: 0.020 |  Val. Acc: 99.11%\n"
          ],
          "name": "stdout"
        },
        {
          "output_type": "stream",
          "text": [
            "\r 82%|████████▎ | 165/200 [08:48<01:47,  3.08s/it]"
          ],
          "name": "stderr"
        },
        {
          "output_type": "stream",
          "text": [
            "Epoch: 165 | Epoch Time: 0m 3s\n",
            "\tTrain Loss: 0.004 | Train Acc: 99.89%\n",
            "\t Val. Loss: 0.019 |  Val. Acc: 99.11%\n"
          ],
          "name": "stdout"
        },
        {
          "output_type": "stream",
          "text": [
            "\r 83%|████████▎ | 166/200 [08:51<01:45,  3.09s/it]"
          ],
          "name": "stderr"
        },
        {
          "output_type": "stream",
          "text": [
            "Epoch: 166 | Epoch Time: 0m 3s\n",
            "\tTrain Loss: 0.003 | Train Acc: 100.00%\n",
            "\t Val. Loss: 0.021 |  Val. Acc: 99.11%\n"
          ],
          "name": "stdout"
        },
        {
          "output_type": "stream",
          "text": [
            "\r 84%|████████▎ | 167/200 [08:54<01:42,  3.09s/it]"
          ],
          "name": "stderr"
        },
        {
          "output_type": "stream",
          "text": [
            "Epoch: 167 | Epoch Time: 0m 3s\n",
            "\tTrain Loss: 0.003 | Train Acc: 100.00%\n",
            "\t Val. Loss: 0.021 |  Val. Acc: 99.11%\n"
          ],
          "name": "stdout"
        },
        {
          "output_type": "stream",
          "text": [
            "\r 84%|████████▍ | 168/200 [08:57<01:39,  3.10s/it]"
          ],
          "name": "stderr"
        },
        {
          "output_type": "stream",
          "text": [
            "Epoch: 168 | Epoch Time: 0m 3s\n",
            "\tTrain Loss: 0.005 | Train Acc: 99.84%\n",
            "\t Val. Loss: 0.018 |  Val. Acc: 99.55%\n"
          ],
          "name": "stdout"
        },
        {
          "output_type": "stream",
          "text": [
            "\r 84%|████████▍ | 169/200 [09:00<01:35,  3.08s/it]"
          ],
          "name": "stderr"
        },
        {
          "output_type": "stream",
          "text": [
            "Epoch: 169 | Epoch Time: 0m 3s\n",
            "\tTrain Loss: 0.004 | Train Acc: 99.89%\n",
            "\t Val. Loss: 0.019 |  Val. Acc: 98.66%\n"
          ],
          "name": "stdout"
        },
        {
          "output_type": "stream",
          "text": [
            "\r 85%|████████▌ | 170/200 [09:03<01:31,  3.06s/it]"
          ],
          "name": "stderr"
        },
        {
          "output_type": "stream",
          "text": [
            "Epoch: 170 | Epoch Time: 0m 3s\n",
            "\tTrain Loss: 0.003 | Train Acc: 100.00%\n",
            "\t Val. Loss: 0.025 |  Val. Acc: 98.66%\n"
          ],
          "name": "stdout"
        },
        {
          "output_type": "stream",
          "text": [
            "\r 86%|████████▌ | 171/200 [09:06<01:27,  3.03s/it]"
          ],
          "name": "stderr"
        },
        {
          "output_type": "stream",
          "text": [
            "Epoch: 171 | Epoch Time: 0m 2s\n",
            "\tTrain Loss: 0.002 | Train Acc: 100.00%\n",
            "\t Val. Loss: 0.025 |  Val. Acc: 98.66%\n"
          ],
          "name": "stdout"
        },
        {
          "output_type": "stream",
          "text": [
            "\r 86%|████████▌ | 172/200 [09:09<01:24,  3.03s/it]"
          ],
          "name": "stderr"
        },
        {
          "output_type": "stream",
          "text": [
            "Epoch: 172 | Epoch Time: 0m 3s\n",
            "\tTrain Loss: 0.010 | Train Acc: 99.64%\n",
            "\t Val. Loss: 0.032 |  Val. Acc: 99.11%\n"
          ],
          "name": "stdout"
        },
        {
          "output_type": "stream",
          "text": [
            "\r 86%|████████▋ | 173/200 [09:12<01:21,  3.02s/it]"
          ],
          "name": "stderr"
        },
        {
          "output_type": "stream",
          "text": [
            "Epoch: 173 | Epoch Time: 0m 2s\n",
            "\tTrain Loss: 0.020 | Train Acc: 99.33%\n",
            "\t Val. Loss: 0.017 |  Val. Acc: 99.11%\n"
          ],
          "name": "stdout"
        },
        {
          "output_type": "stream",
          "text": [
            "\r 87%|████████▋ | 174/200 [09:15<01:18,  3.02s/it]"
          ],
          "name": "stderr"
        },
        {
          "output_type": "stream",
          "text": [
            "Epoch: 174 | Epoch Time: 0m 3s\n",
            "\tTrain Loss: 0.006 | Train Acc: 99.89%\n",
            "\t Val. Loss: 0.045 |  Val. Acc: 98.21%\n"
          ],
          "name": "stdout"
        },
        {
          "output_type": "stream",
          "text": [
            "\r 88%|████████▊ | 175/200 [09:18<01:16,  3.05s/it]"
          ],
          "name": "stderr"
        },
        {
          "output_type": "stream",
          "text": [
            "Epoch: 175 | Epoch Time: 0m 3s\n",
            "\tTrain Loss: 0.006 | Train Acc: 99.89%\n",
            "\t Val. Loss: 0.033 |  Val. Acc: 98.66%\n"
          ],
          "name": "stdout"
        },
        {
          "output_type": "stream",
          "text": [
            "\r 88%|████████▊ | 176/200 [09:21<01:13,  3.06s/it]"
          ],
          "name": "stderr"
        },
        {
          "output_type": "stream",
          "text": [
            "Epoch: 176 | Epoch Time: 0m 3s\n",
            "\tTrain Loss: 0.003 | Train Acc: 100.00%\n",
            "\t Val. Loss: 0.026 |  Val. Acc: 98.66%\n"
          ],
          "name": "stdout"
        },
        {
          "output_type": "stream",
          "text": [
            "\r 88%|████████▊ | 177/200 [09:25<01:10,  3.06s/it]"
          ],
          "name": "stderr"
        },
        {
          "output_type": "stream",
          "text": [
            "Epoch: 177 | Epoch Time: 0m 3s\n",
            "\tTrain Loss: 0.004 | Train Acc: 99.95%\n",
            "\t Val. Loss: 0.026 |  Val. Acc: 98.66%\n"
          ],
          "name": "stdout"
        },
        {
          "output_type": "stream",
          "text": [
            "\r 89%|████████▉ | 178/200 [09:28<01:07,  3.05s/it]"
          ],
          "name": "stderr"
        },
        {
          "output_type": "stream",
          "text": [
            "Epoch: 178 | Epoch Time: 0m 3s\n",
            "\tTrain Loss: 0.008 | Train Acc: 99.69%\n",
            "\t Val. Loss: 0.025 |  Val. Acc: 98.66%\n"
          ],
          "name": "stdout"
        },
        {
          "output_type": "stream",
          "text": [
            "\r 90%|████████▉ | 179/200 [09:31<01:03,  3.04s/it]"
          ],
          "name": "stderr"
        },
        {
          "output_type": "stream",
          "text": [
            "Epoch: 179 | Epoch Time: 0m 3s\n",
            "\tTrain Loss: 0.032 | Train Acc: 98.85%\n",
            "\t Val. Loss: 0.047 |  Val. Acc: 97.77%\n"
          ],
          "name": "stdout"
        },
        {
          "output_type": "stream",
          "text": [
            "\r 90%|█████████ | 180/200 [09:34<01:00,  3.03s/it]"
          ],
          "name": "stderr"
        },
        {
          "output_type": "stream",
          "text": [
            "Epoch: 180 | Epoch Time: 0m 2s\n",
            "\tTrain Loss: 0.008 | Train Acc: 99.84%\n",
            "\t Val. Loss: 0.036 |  Val. Acc: 97.77%\n"
          ],
          "name": "stdout"
        },
        {
          "output_type": "stream",
          "text": [
            "\r 90%|█████████ | 181/200 [09:37<00:57,  3.02s/it]"
          ],
          "name": "stderr"
        },
        {
          "output_type": "stream",
          "text": [
            "Epoch: 181 | Epoch Time: 0m 2s\n",
            "\tTrain Loss: 0.030 | Train Acc: 98.89%\n",
            "\t Val. Loss: 0.030 |  Val. Acc: 98.21%\n"
          ],
          "name": "stdout"
        },
        {
          "output_type": "stream",
          "text": [
            "\r 91%|█████████ | 182/200 [09:40<00:54,  3.01s/it]"
          ],
          "name": "stderr"
        },
        {
          "output_type": "stream",
          "text": [
            "Epoch: 182 | Epoch Time: 0m 2s\n",
            "\tTrain Loss: 0.012 | Train Acc: 99.62%\n",
            "\t Val. Loss: 0.050 |  Val. Acc: 97.77%\n"
          ],
          "name": "stdout"
        },
        {
          "output_type": "stream",
          "text": [
            "\r 92%|█████████▏| 183/200 [09:43<00:50,  3.00s/it]"
          ],
          "name": "stderr"
        },
        {
          "output_type": "stream",
          "text": [
            "Epoch: 183 | Epoch Time: 0m 2s\n",
            "\tTrain Loss: 0.004 | Train Acc: 99.89%\n",
            "\t Val. Loss: 0.047 |  Val. Acc: 97.77%\n"
          ],
          "name": "stdout"
        },
        {
          "output_type": "stream",
          "text": [
            "\r 92%|█████████▏| 184/200 [09:46<00:47,  3.00s/it]"
          ],
          "name": "stderr"
        },
        {
          "output_type": "stream",
          "text": [
            "Epoch: 184 | Epoch Time: 0m 2s\n",
            "\tTrain Loss: 0.004 | Train Acc: 99.95%\n",
            "\t Val. Loss: 0.042 |  Val. Acc: 98.21%\n"
          ],
          "name": "stdout"
        },
        {
          "output_type": "stream",
          "text": [
            "\r 92%|█████████▎| 185/200 [09:49<00:44,  3.00s/it]"
          ],
          "name": "stderr"
        },
        {
          "output_type": "stream",
          "text": [
            "Epoch: 185 | Epoch Time: 0m 2s\n",
            "\tTrain Loss: 0.003 | Train Acc: 100.00%\n",
            "\t Val. Loss: 0.036 |  Val. Acc: 99.11%\n"
          ],
          "name": "stdout"
        },
        {
          "output_type": "stream",
          "text": [
            "\r 93%|█████████▎| 186/200 [09:52<00:42,  3.01s/it]"
          ],
          "name": "stderr"
        },
        {
          "output_type": "stream",
          "text": [
            "Epoch: 186 | Epoch Time: 0m 3s\n",
            "\tTrain Loss: 0.003 | Train Acc: 100.00%\n",
            "\t Val. Loss: 0.034 |  Val. Acc: 99.11%\n"
          ],
          "name": "stdout"
        },
        {
          "output_type": "stream",
          "text": [
            "\r 94%|█████████▎| 187/200 [09:55<00:39,  3.01s/it]"
          ],
          "name": "stderr"
        },
        {
          "output_type": "stream",
          "text": [
            "Epoch: 187 | Epoch Time: 0m 3s\n",
            "\tTrain Loss: 0.002 | Train Acc: 100.00%\n",
            "\t Val. Loss: 0.035 |  Val. Acc: 98.66%\n"
          ],
          "name": "stdout"
        },
        {
          "output_type": "stream",
          "text": [
            "\r 94%|█████████▍| 188/200 [09:58<00:36,  3.02s/it]"
          ],
          "name": "stderr"
        },
        {
          "output_type": "stream",
          "text": [
            "Epoch: 188 | Epoch Time: 0m 3s\n",
            "\tTrain Loss: 0.002 | Train Acc: 100.00%\n",
            "\t Val. Loss: 0.035 |  Val. Acc: 98.21%\n"
          ],
          "name": "stdout"
        },
        {
          "output_type": "stream",
          "text": [
            "\r 94%|█████████▍| 189/200 [10:01<00:33,  3.03s/it]"
          ],
          "name": "stderr"
        },
        {
          "output_type": "stream",
          "text": [
            "Epoch: 189 | Epoch Time: 0m 3s\n",
            "\tTrain Loss: 0.005 | Train Acc: 99.95%\n",
            "\t Val. Loss: 0.033 |  Val. Acc: 98.21%\n"
          ],
          "name": "stdout"
        },
        {
          "output_type": "stream",
          "text": [
            "\r 95%|█████████▌| 190/200 [10:04<00:30,  3.02s/it]"
          ],
          "name": "stderr"
        },
        {
          "output_type": "stream",
          "text": [
            "Epoch: 190 | Epoch Time: 0m 2s\n",
            "\tTrain Loss: 0.003 | Train Acc: 99.95%\n",
            "\t Val. Loss: 0.033 |  Val. Acc: 98.66%\n"
          ],
          "name": "stdout"
        },
        {
          "output_type": "stream",
          "text": [
            "\r 96%|█████████▌| 191/200 [10:07<00:27,  3.06s/it]"
          ],
          "name": "stderr"
        },
        {
          "output_type": "stream",
          "text": [
            "Epoch: 191 | Epoch Time: 0m 3s\n",
            "\tTrain Loss: 0.002 | Train Acc: 100.00%\n",
            "\t Val. Loss: 0.034 |  Val. Acc: 98.21%\n"
          ],
          "name": "stdout"
        },
        {
          "output_type": "stream",
          "text": [
            "\r 96%|█████████▌| 192/200 [10:10<00:25,  3.23s/it]"
          ],
          "name": "stderr"
        },
        {
          "output_type": "stream",
          "text": [
            "Epoch: 192 | Epoch Time: 0m 3s\n",
            "\tTrain Loss: 0.002 | Train Acc: 100.00%\n",
            "\t Val. Loss: 0.031 |  Val. Acc: 98.21%\n"
          ],
          "name": "stdout"
        },
        {
          "output_type": "stream",
          "text": [
            "\r 96%|█████████▋| 193/200 [10:14<00:23,  3.36s/it]"
          ],
          "name": "stderr"
        },
        {
          "output_type": "stream",
          "text": [
            "Epoch: 193 | Epoch Time: 0m 3s\n",
            "\tTrain Loss: 0.002 | Train Acc: 100.00%\n",
            "\t Val. Loss: 0.029 |  Val. Acc: 98.21%\n"
          ],
          "name": "stdout"
        },
        {
          "output_type": "stream",
          "text": [
            "\r 97%|█████████▋| 194/200 [10:17<00:20,  3.35s/it]"
          ],
          "name": "stderr"
        },
        {
          "output_type": "stream",
          "text": [
            "Epoch: 194 | Epoch Time: 0m 3s\n",
            "\tTrain Loss: 0.002 | Train Acc: 100.00%\n",
            "\t Val. Loss: 0.029 |  Val. Acc: 98.21%\n"
          ],
          "name": "stdout"
        },
        {
          "output_type": "stream",
          "text": [
            "\r 98%|█████████▊| 195/200 [10:20<00:16,  3.25s/it]"
          ],
          "name": "stderr"
        },
        {
          "output_type": "stream",
          "text": [
            "Epoch: 195 | Epoch Time: 0m 3s\n",
            "\tTrain Loss: 0.002 | Train Acc: 100.00%\n",
            "\t Val. Loss: 0.028 |  Val. Acc: 98.66%\n"
          ],
          "name": "stdout"
        },
        {
          "output_type": "stream",
          "text": [
            "\r 98%|█████████▊| 196/200 [10:23<00:12,  3.17s/it]"
          ],
          "name": "stderr"
        },
        {
          "output_type": "stream",
          "text": [
            "Epoch: 196 | Epoch Time: 0m 2s\n",
            "\tTrain Loss: 0.003 | Train Acc: 100.00%\n",
            "\t Val. Loss: 0.034 |  Val. Acc: 98.66%\n"
          ],
          "name": "stdout"
        },
        {
          "output_type": "stream",
          "text": [
            "\r 98%|█████████▊| 197/200 [10:26<00:09,  3.11s/it]"
          ],
          "name": "stderr"
        },
        {
          "output_type": "stream",
          "text": [
            "Epoch: 197 | Epoch Time: 0m 2s\n",
            "\tTrain Loss: 0.004 | Train Acc: 99.89%\n",
            "\t Val. Loss: 0.032 |  Val. Acc: 98.66%\n"
          ],
          "name": "stdout"
        },
        {
          "output_type": "stream",
          "text": [
            "\r 99%|█████████▉| 198/200 [10:29<00:06,  3.08s/it]"
          ],
          "name": "stderr"
        },
        {
          "output_type": "stream",
          "text": [
            "Epoch: 198 | Epoch Time: 0m 2s\n",
            "\tTrain Loss: 0.002 | Train Acc: 100.00%\n",
            "\t Val. Loss: 0.031 |  Val. Acc: 98.66%\n"
          ],
          "name": "stdout"
        },
        {
          "output_type": "stream",
          "text": [
            "\r100%|█████████▉| 199/200 [10:32<00:03,  3.05s/it]"
          ],
          "name": "stderr"
        },
        {
          "output_type": "stream",
          "text": [
            "Epoch: 199 | Epoch Time: 0m 2s\n",
            "\tTrain Loss: 0.003 | Train Acc: 99.95%\n",
            "\t Val. Loss: 0.029 |  Val. Acc: 98.21%\n"
          ],
          "name": "stdout"
        },
        {
          "output_type": "stream",
          "text": [
            "100%|██████████| 200/200 [10:35<00:00,  3.18s/it]"
          ],
          "name": "stderr"
        },
        {
          "output_type": "stream",
          "text": [
            "Epoch: 200 | Epoch Time: 0m 2s\n",
            "\tTrain Loss: 0.003 | Train Acc: 99.95%\n",
            "\t Val. Loss: 0.028 |  Val. Acc: 98.21%\n"
          ],
          "name": "stdout"
        },
        {
          "output_type": "stream",
          "text": [
            "\n"
          ],
          "name": "stderr"
        }
      ]
    },
    {
      "cell_type": "markdown",
      "metadata": {
        "id": "359zPvSApo6D"
      },
      "source": [
        "#2-\n",
        "In this step, we start tunning for learning rate selection. We will use brute force approach initially. We start with small regularization of 1e-6 (reg), which is kept constant throughout few of the next trials to verify the effect of learning rate.\n",
        "\n",
        "Following are the learning rate (LR) & regularization(reg) -\n",
        "\n",
        "reg : 1e-6, LR : 1e-6"
      ]
    },
    {
      "cell_type": "code",
      "metadata": {
        "id": "6-YQKCuCu2KT",
        "colab": {
          "base_uri": "https://localhost:8080/",
          "height": 544
        },
        "outputId": "b2aa12c8-1bf4-4aac-e7b4-437a69527f12"
      },
      "source": [
        "TRAIN(train_data,valid_data,device,optimizer='SGD',no_epochs=10,LR=10**-6,reg=10**-6)"
      ],
      "execution_count": null,
      "outputs": [
        {
          "output_type": "stream",
          "text": [
            " 10%|█         | 1/10 [00:03<00:28,  3.16s/it]"
          ],
          "name": "stderr"
        },
        {
          "output_type": "stream",
          "text": [
            "Epoch: 01 | Epoch Time: 0m 3s\n",
            "\tTrain Loss: 0.857 | Train Acc: 48.89%\n",
            "\t Val. Loss: 0.792 |  Val. Acc: 52.68%\n"
          ],
          "name": "stdout"
        },
        {
          "output_type": "stream",
          "text": [
            "\r 20%|██        | 2/10 [00:06<00:25,  3.15s/it]"
          ],
          "name": "stderr"
        },
        {
          "output_type": "stream",
          "text": [
            "Epoch: 02 | Epoch Time: 0m 3s\n",
            "\tTrain Loss: 0.853 | Train Acc: 49.41%\n",
            "\t Val. Loss: 0.791 |  Val. Acc: 49.11%\n"
          ],
          "name": "stdout"
        },
        {
          "output_type": "stream",
          "text": [
            "\r 30%|███       | 3/10 [00:09<00:21,  3.14s/it]"
          ],
          "name": "stderr"
        },
        {
          "output_type": "stream",
          "text": [
            "Epoch: 03 | Epoch Time: 0m 3s\n",
            "\tTrain Loss: 0.819 | Train Acc: 51.32%\n",
            "\t Val. Loss: 0.776 |  Val. Acc: 54.91%\n"
          ],
          "name": "stdout"
        },
        {
          "output_type": "stream",
          "text": [
            "\r 40%|████      | 4/10 [00:12<00:18,  3.13s/it]"
          ],
          "name": "stderr"
        },
        {
          "output_type": "stream",
          "text": [
            "Epoch: 04 | Epoch Time: 0m 3s\n",
            "\tTrain Loss: 0.840 | Train Acc: 51.65%\n",
            "\t Val. Loss: 0.791 |  Val. Acc: 51.34%\n"
          ],
          "name": "stdout"
        },
        {
          "output_type": "stream",
          "text": [
            "\r 50%|█████     | 5/10 [00:15<00:15,  3.12s/it]"
          ],
          "name": "stderr"
        },
        {
          "output_type": "stream",
          "text": [
            "Epoch: 05 | Epoch Time: 0m 3s\n",
            "\tTrain Loss: 0.835 | Train Acc: 50.32%\n",
            "\t Val. Loss: 0.800 |  Val. Acc: 49.55%\n"
          ],
          "name": "stdout"
        },
        {
          "output_type": "stream",
          "text": [
            "\r 60%|██████    | 6/10 [00:18<00:12,  3.11s/it]"
          ],
          "name": "stderr"
        },
        {
          "output_type": "stream",
          "text": [
            "Epoch: 06 | Epoch Time: 0m 3s\n",
            "\tTrain Loss: 0.826 | Train Acc: 52.81%\n",
            "\t Val. Loss: 0.788 |  Val. Acc: 52.23%\n"
          ],
          "name": "stdout"
        },
        {
          "output_type": "stream",
          "text": [
            "\r 70%|███████   | 7/10 [00:21<00:09,  3.13s/it]"
          ],
          "name": "stderr"
        },
        {
          "output_type": "stream",
          "text": [
            "Epoch: 07 | Epoch Time: 0m 3s\n",
            "\tTrain Loss: 0.809 | Train Acc: 51.99%\n",
            "\t Val. Loss: 0.765 |  Val. Acc: 57.14%\n"
          ],
          "name": "stdout"
        },
        {
          "output_type": "stream",
          "text": [
            "\r 80%|████████  | 8/10 [00:25<00:06,  3.14s/it]"
          ],
          "name": "stderr"
        },
        {
          "output_type": "stream",
          "text": [
            "Epoch: 08 | Epoch Time: 0m 3s\n",
            "\tTrain Loss: 0.811 | Train Acc: 52.90%\n",
            "\t Val. Loss: 0.760 |  Val. Acc: 58.04%\n"
          ],
          "name": "stdout"
        },
        {
          "output_type": "stream",
          "text": [
            "\r 90%|█████████ | 9/10 [00:28<00:03,  3.22s/it]"
          ],
          "name": "stderr"
        },
        {
          "output_type": "stream",
          "text": [
            "Epoch: 09 | Epoch Time: 0m 3s\n",
            "\tTrain Loss: 0.806 | Train Acc: 53.63%\n",
            "\t Val. Loss: 0.748 |  Val. Acc: 58.93%\n"
          ],
          "name": "stdout"
        },
        {
          "output_type": "stream",
          "text": [
            "100%|██████████| 10/10 [00:31<00:00,  3.18s/it]"
          ],
          "name": "stderr"
        },
        {
          "output_type": "stream",
          "text": [
            "Epoch: 10 | Epoch Time: 0m 3s\n",
            "\tTrain Loss: 0.802 | Train Acc: 53.88%\n",
            "\t Val. Loss: 0.769 |  Val. Acc: 56.25%\n"
          ],
          "name": "stdout"
        },
        {
          "output_type": "stream",
          "text": [
            "\n"
          ],
          "name": "stderr"
        }
      ]
    },
    {
      "cell_type": "markdown",
      "metadata": {
        "id": "usxB4IW6HD78"
      },
      "source": [
        "As per above cell, it can be seen that losses i.e. train loss & validation loss barely change. They are more or less in the same range. This is mainly because for very low learning rate & losses never go down."
      ]
    },
    {
      "cell_type": "markdown",
      "metadata": {
        "id": "iA6SNRQrqZtT"
      },
      "source": [
        "#3-\n",
        "Here we keep same regularization of 1e-6 (reg) as previous step, and learning rate is kept as high as 1e6\n",
        "\n",
        "Following are the learning rate (LR) & regularization(reg) -\n",
        "\n",
        "reg : 1e-6, LR : 1e6"
      ]
    },
    {
      "cell_type": "code",
      "metadata": {
        "id": "mOyvfkVI8RqL",
        "colab": {
          "base_uri": "https://localhost:8080/",
          "height": 544
        },
        "outputId": "ae0cb670-fd20-4183-8a8c-d1f0538103f4"
      },
      "source": [
        "TRAIN(train_data,valid_data,device,optimizer='SGD',no_epochs=10,LR=10**6,reg=10**-6)"
      ],
      "execution_count": null,
      "outputs": [
        {
          "output_type": "stream",
          "text": [
            " 10%|█         | 1/10 [00:03<00:29,  3.29s/it]"
          ],
          "name": "stderr"
        },
        {
          "output_type": "stream",
          "text": [
            "Epoch: 01 | Epoch Time: 0m 3s\n",
            "\tTrain Loss: nan | Train Acc: 50.13%\n",
            "\t Val. Loss: nan |  Val. Acc: 54.91%\n"
          ],
          "name": "stdout"
        },
        {
          "output_type": "stream",
          "text": [
            "\r 20%|██        | 2/10 [00:06<00:26,  3.30s/it]"
          ],
          "name": "stderr"
        },
        {
          "output_type": "stream",
          "text": [
            "Epoch: 02 | Epoch Time: 0m 3s\n",
            "\tTrain Loss: nan | Train Acc: 50.05%\n",
            "\t Val. Loss: nan |  Val. Acc: 54.91%\n"
          ],
          "name": "stdout"
        },
        {
          "output_type": "stream",
          "text": [
            "\r 30%|███       | 3/10 [00:09<00:23,  3.31s/it]"
          ],
          "name": "stderr"
        },
        {
          "output_type": "stream",
          "text": [
            "Epoch: 03 | Epoch Time: 0m 3s\n",
            "\tTrain Loss: nan | Train Acc: 49.26%\n",
            "\t Val. Loss: nan |  Val. Acc: 54.91%\n"
          ],
          "name": "stdout"
        },
        {
          "output_type": "stream",
          "text": [
            "\r 40%|████      | 4/10 [00:13<00:19,  3.32s/it]"
          ],
          "name": "stderr"
        },
        {
          "output_type": "stream",
          "text": [
            "Epoch: 04 | Epoch Time: 0m 3s\n",
            "\tTrain Loss: nan | Train Acc: 49.85%\n",
            "\t Val. Loss: nan |  Val. Acc: 54.91%\n"
          ],
          "name": "stdout"
        },
        {
          "output_type": "stream",
          "text": [
            "\r 50%|█████     | 5/10 [00:16<00:16,  3.30s/it]"
          ],
          "name": "stderr"
        },
        {
          "output_type": "stream",
          "text": [
            "Epoch: 05 | Epoch Time: 0m 3s\n",
            "\tTrain Loss: nan | Train Acc: 50.05%\n",
            "\t Val. Loss: nan |  Val. Acc: 54.91%\n"
          ],
          "name": "stdout"
        },
        {
          "output_type": "stream",
          "text": [
            "\r 60%|██████    | 6/10 [00:19<00:13,  3.28s/it]"
          ],
          "name": "stderr"
        },
        {
          "output_type": "stream",
          "text": [
            "Epoch: 06 | Epoch Time: 0m 3s\n",
            "\tTrain Loss: nan | Train Acc: 49.85%\n",
            "\t Val. Loss: nan |  Val. Acc: 54.91%\n"
          ],
          "name": "stdout"
        },
        {
          "output_type": "stream",
          "text": [
            "\r 70%|███████   | 7/10 [00:22<00:09,  3.26s/it]"
          ],
          "name": "stderr"
        },
        {
          "output_type": "stream",
          "text": [
            "Epoch: 07 | Epoch Time: 0m 3s\n",
            "\tTrain Loss: nan | Train Acc: 50.24%\n",
            "\t Val. Loss: nan |  Val. Acc: 54.91%\n"
          ],
          "name": "stdout"
        },
        {
          "output_type": "stream",
          "text": [
            "\r 80%|████████  | 8/10 [00:26<00:06,  3.25s/it]"
          ],
          "name": "stderr"
        },
        {
          "output_type": "stream",
          "text": [
            "Epoch: 08 | Epoch Time: 0m 3s\n",
            "\tTrain Loss: nan | Train Acc: 49.26%\n",
            "\t Val. Loss: nan |  Val. Acc: 54.91%\n"
          ],
          "name": "stdout"
        },
        {
          "output_type": "stream",
          "text": [
            "\r 90%|█████████ | 9/10 [00:29<00:03,  3.24s/it]"
          ],
          "name": "stderr"
        },
        {
          "output_type": "stream",
          "text": [
            "Epoch: 09 | Epoch Time: 0m 3s\n",
            "\tTrain Loss: nan | Train Acc: 49.66%\n",
            "\t Val. Loss: nan |  Val. Acc: 54.91%\n"
          ],
          "name": "stdout"
        },
        {
          "output_type": "stream",
          "text": [
            "100%|██████████| 10/10 [00:32<00:00,  3.26s/it]"
          ],
          "name": "stderr"
        },
        {
          "output_type": "stream",
          "text": [
            "Epoch: 10 | Epoch Time: 0m 3s\n",
            "\tTrain Loss: nan | Train Acc: 49.66%\n",
            "\t Val. Loss: nan |  Val. Acc: 54.91%\n"
          ],
          "name": "stdout"
        },
        {
          "output_type": "stream",
          "text": [
            "\n"
          ],
          "name": "stderr"
        }
      ]
    },
    {
      "cell_type": "markdown",
      "metadata": {
        "id": "MzMIL4RzJsb0"
      },
      "source": [
        "As per above cell, it can be seen that losses i.e. train loss & validation loss are nan i.e. reaching infinity. It comes to notice that the loss in exploding. This is mainly because for very high learning rate."
      ]
    },
    {
      "cell_type": "markdown",
      "metadata": {
        "id": "By-bDl1tqxg5"
      },
      "source": [
        "#4-\n",
        "\n",
        "reg : 1e-6, LR : 3*e-3"
      ]
    },
    {
      "cell_type": "code",
      "metadata": {
        "id": "Em0hnW1oTfU8",
        "colab": {
          "base_uri": "https://localhost:8080/",
          "height": 918
        },
        "outputId": "b573678e-158b-4c3e-f253-3bab81cc91f4"
      },
      "source": [
        "TRAIN(train_data,valid_data,device,optimizer='SGD',no_epochs=10,LR=3*10**-3,reg=10**-6)"
      ],
      "execution_count": null,
      "outputs": [
        {
          "output_type": "stream",
          "text": [
            "\n",
            "\n",
            "  0%|          | 0/10 [00:00<?, ?it/s]\u001b[A\u001b[A\n",
            "\n",
            " 10%|█         | 1/10 [00:03<00:27,  3.10s/it]\u001b[A\u001b[A"
          ],
          "name": "stderr"
        },
        {
          "output_type": "stream",
          "text": [
            "Epoch: 01 | Epoch Time: 0m 3s\n",
            "\tTrain Loss: 0.690 | Train Acc: 67.46%\n",
            "\t Val. Loss: 0.683 |  Val. Acc: 80.36%\n"
          ],
          "name": "stdout"
        },
        {
          "output_type": "stream",
          "text": [
            "\n",
            "\n",
            " 20%|██        | 2/10 [00:06<00:24,  3.10s/it]\u001b[A\u001b[A"
          ],
          "name": "stderr"
        },
        {
          "output_type": "stream",
          "text": [
            "Epoch: 02 | Epoch Time: 0m 3s\n",
            "\tTrain Loss: 0.674 | Train Acc: 71.29%\n",
            "\t Val. Loss: 0.644 |  Val. Acc: 70.98%\n"
          ],
          "name": "stdout"
        },
        {
          "output_type": "stream",
          "text": [
            "\n",
            "\n",
            " 30%|███       | 3/10 [00:09<00:21,  3.11s/it]\u001b[A\u001b[A"
          ],
          "name": "stderr"
        },
        {
          "output_type": "stream",
          "text": [
            "Epoch: 03 | Epoch Time: 0m 3s\n",
            "\tTrain Loss: 0.620 | Train Acc: 72.93%\n",
            "\t Val. Loss: 0.537 |  Val. Acc: 80.80%\n"
          ],
          "name": "stdout"
        },
        {
          "output_type": "stream",
          "text": [
            "\n",
            "\n",
            " 40%|████      | 4/10 [00:12<00:18,  3.10s/it]\u001b[A\u001b[A"
          ],
          "name": "stderr"
        },
        {
          "output_type": "stream",
          "text": [
            "Epoch: 04 | Epoch Time: 0m 3s\n",
            "\tTrain Loss: 0.488 | Train Acc: 84.20%\n",
            "\t Val. Loss: 0.359 |  Val. Acc: 91.52%\n"
          ],
          "name": "stdout"
        },
        {
          "output_type": "stream",
          "text": [
            "\n",
            "\n",
            " 50%|█████     | 5/10 [00:15<00:15,  3.10s/it]\u001b[A\u001b[A"
          ],
          "name": "stderr"
        },
        {
          "output_type": "stream",
          "text": [
            "Epoch: 05 | Epoch Time: 0m 3s\n",
            "\tTrain Loss: 0.362 | Train Acc: 89.42%\n",
            "\t Val. Loss: 0.297 |  Val. Acc: 90.62%\n"
          ],
          "name": "stdout"
        },
        {
          "output_type": "stream",
          "text": [
            "\n",
            "\n",
            " 60%|██████    | 6/10 [00:18<00:12,  3.10s/it]\u001b[A\u001b[A"
          ],
          "name": "stderr"
        },
        {
          "output_type": "stream",
          "text": [
            "Epoch: 06 | Epoch Time: 0m 3s\n",
            "\tTrain Loss: 0.316 | Train Acc: 89.30%\n",
            "\t Val. Loss: 0.334 |  Val. Acc: 87.05%\n"
          ],
          "name": "stdout"
        },
        {
          "output_type": "stream",
          "text": [
            "\n",
            "\n",
            " 70%|███████   | 7/10 [00:21<00:09,  3.09s/it]\u001b[A\u001b[A"
          ],
          "name": "stderr"
        },
        {
          "output_type": "stream",
          "text": [
            "Epoch: 07 | Epoch Time: 0m 3s\n",
            "\tTrain Loss: 0.331 | Train Acc: 89.09%\n",
            "\t Val. Loss: 0.246 |  Val. Acc: 90.62%\n"
          ],
          "name": "stdout"
        },
        {
          "output_type": "stream",
          "text": [
            "\n",
            "\n",
            " 80%|████████  | 8/10 [00:24<00:06,  3.09s/it]\u001b[A\u001b[A"
          ],
          "name": "stderr"
        },
        {
          "output_type": "stream",
          "text": [
            "Epoch: 08 | Epoch Time: 0m 3s\n",
            "\tTrain Loss: 0.252 | Train Acc: 91.31%\n",
            "\t Val. Loss: 0.178 |  Val. Acc: 93.75%\n"
          ],
          "name": "stdout"
        },
        {
          "output_type": "stream",
          "text": [
            "\n",
            "\n",
            " 90%|█████████ | 9/10 [00:27<00:03,  3.09s/it]\u001b[A\u001b[A"
          ],
          "name": "stderr"
        },
        {
          "output_type": "stream",
          "text": [
            "Epoch: 09 | Epoch Time: 0m 3s\n",
            "\tTrain Loss: 0.249 | Train Acc: 91.58%\n",
            "\t Val. Loss: 0.161 |  Val. Acc: 94.20%\n"
          ],
          "name": "stdout"
        },
        {
          "output_type": "stream",
          "text": [
            "\n",
            "\n",
            "100%|██████████| 10/10 [00:31<00:00,  3.10s/it]"
          ],
          "name": "stderr"
        },
        {
          "output_type": "stream",
          "text": [
            "Epoch: 10 | Epoch Time: 0m 3s\n",
            "\tTrain Loss: 0.225 | Train Acc: 92.46%\n",
            "\t Val. Loss: 0.148 |  Val. Acc: 95.09%\n"
          ],
          "name": "stdout"
        },
        {
          "output_type": "stream",
          "text": [
            "\n"
          ],
          "name": "stderr"
        }
      ]
    },
    {
      "cell_type": "markdown",
      "metadata": {
        "id": "xpd2WG14rCOm"
      },
      "source": [
        "#I -\n",
        "LR : 1e-3, reg = 1e-3"
      ]
    },
    {
      "cell_type": "code",
      "metadata": {
        "id": "lkn0AyZoTx67",
        "colab": {
          "base_uri": "https://localhost:8080/",
          "height": 918
        },
        "outputId": "516c7a00-f5d6-4c52-f375-911cec56cd79"
      },
      "source": [
        "TRAIN(train_data,valid_data,device,optimizer='SGD',no_epochs=10,LR=10**-3,reg=10**-3)"
      ],
      "execution_count": null,
      "outputs": [
        {
          "output_type": "stream",
          "text": [
            "\n",
            "\n",
            "  0%|          | 0/10 [00:00<?, ?it/s]\u001b[A\u001b[A\n",
            "\n",
            " 10%|█         | 1/10 [00:03<00:27,  3.09s/it]\u001b[A\u001b[A"
          ],
          "name": "stderr"
        },
        {
          "output_type": "stream",
          "text": [
            "Epoch: 01 | Epoch Time: 0m 3s\n",
            "\tTrain Loss: 0.693 | Train Acc: 49.69%\n",
            "\t Val. Loss: 0.691 |  Val. Acc: 54.91%\n"
          ],
          "name": "stdout"
        },
        {
          "output_type": "stream",
          "text": [
            "\n",
            "\n",
            " 20%|██        | 2/10 [00:06<00:24,  3.10s/it]\u001b[A\u001b[A"
          ],
          "name": "stderr"
        },
        {
          "output_type": "stream",
          "text": [
            "Epoch: 02 | Epoch Time: 0m 3s\n",
            "\tTrain Loss: 0.690 | Train Acc: 56.35%\n",
            "\t Val. Loss: 0.687 |  Val. Acc: 63.39%\n"
          ],
          "name": "stdout"
        },
        {
          "output_type": "stream",
          "text": [
            "\n",
            "\n",
            " 30%|███       | 3/10 [00:09<00:21,  3.10s/it]\u001b[A\u001b[A"
          ],
          "name": "stderr"
        },
        {
          "output_type": "stream",
          "text": [
            "Epoch: 03 | Epoch Time: 0m 3s\n",
            "\tTrain Loss: 0.686 | Train Acc: 59.48%\n",
            "\t Val. Loss: 0.681 |  Val. Acc: 67.86%\n"
          ],
          "name": "stdout"
        },
        {
          "output_type": "stream",
          "text": [
            "\n",
            "\n",
            " 40%|████      | 4/10 [00:12<00:18,  3.11s/it]\u001b[A\u001b[A"
          ],
          "name": "stderr"
        },
        {
          "output_type": "stream",
          "text": [
            "Epoch: 04 | Epoch Time: 0m 3s\n",
            "\tTrain Loss: 0.681 | Train Acc: 63.33%\n",
            "\t Val. Loss: 0.674 |  Val. Acc: 72.32%\n"
          ],
          "name": "stdout"
        },
        {
          "output_type": "stream",
          "text": [
            "\n",
            "\n",
            " 50%|█████     | 5/10 [00:15<00:15,  3.10s/it]\u001b[A\u001b[A"
          ],
          "name": "stderr"
        },
        {
          "output_type": "stream",
          "text": [
            "Epoch: 05 | Epoch Time: 0m 3s\n",
            "\tTrain Loss: 0.672 | Train Acc: 69.51%\n",
            "\t Val. Loss: 0.661 |  Val. Acc: 74.11%\n"
          ],
          "name": "stdout"
        },
        {
          "output_type": "stream",
          "text": [
            "\n",
            "\n",
            " 60%|██████    | 6/10 [00:18<00:12,  3.10s/it]\u001b[A\u001b[A"
          ],
          "name": "stderr"
        },
        {
          "output_type": "stream",
          "text": [
            "Epoch: 06 | Epoch Time: 0m 3s\n",
            "\tTrain Loss: 0.657 | Train Acc: 70.09%\n",
            "\t Val. Loss: 0.636 |  Val. Acc: 70.54%\n"
          ],
          "name": "stdout"
        },
        {
          "output_type": "stream",
          "text": [
            "\n",
            "\n",
            " 70%|███████   | 7/10 [00:21<00:09,  3.10s/it]\u001b[A\u001b[A"
          ],
          "name": "stderr"
        },
        {
          "output_type": "stream",
          "text": [
            "Epoch: 07 | Epoch Time: 0m 3s\n",
            "\tTrain Loss: 0.636 | Train Acc: 70.03%\n",
            "\t Val. Loss: 0.608 |  Val. Acc: 74.55%\n"
          ],
          "name": "stdout"
        },
        {
          "output_type": "stream",
          "text": [
            "\n",
            "\n",
            " 80%|████████  | 8/10 [00:24<00:06,  3.08s/it]\u001b[A\u001b[A"
          ],
          "name": "stderr"
        },
        {
          "output_type": "stream",
          "text": [
            "Epoch: 08 | Epoch Time: 0m 3s\n",
            "\tTrain Loss: 0.613 | Train Acc: 71.51%\n",
            "\t Val. Loss: 0.578 |  Val. Acc: 80.36%\n"
          ],
          "name": "stdout"
        },
        {
          "output_type": "stream",
          "text": [
            "\n",
            "\n",
            " 90%|█████████ | 9/10 [00:27<00:03,  3.08s/it]\u001b[A\u001b[A"
          ],
          "name": "stderr"
        },
        {
          "output_type": "stream",
          "text": [
            "Epoch: 09 | Epoch Time: 0m 3s\n",
            "\tTrain Loss: 0.580 | Train Acc: 76.48%\n",
            "\t Val. Loss: 0.540 |  Val. Acc: 83.04%\n"
          ],
          "name": "stdout"
        },
        {
          "output_type": "stream",
          "text": [
            "\n",
            "\n",
            "100%|██████████| 10/10 [00:30<00:00,  3.09s/it]"
          ],
          "name": "stderr"
        },
        {
          "output_type": "stream",
          "text": [
            "Epoch: 10 | Epoch Time: 0m 3s\n",
            "\tTrain Loss: 0.542 | Train Acc: 79.24%\n",
            "\t Val. Loss: 0.495 |  Val. Acc: 87.95%\n"
          ],
          "name": "stdout"
        },
        {
          "output_type": "stream",
          "text": [
            "\n"
          ],
          "name": "stderr"
        }
      ]
    },
    {
      "cell_type": "markdown",
      "metadata": {
        "id": "1cMO6H4YrjKl"
      },
      "source": [
        "#II-\n",
        "LR: 1e-3, reg = 1e3"
      ]
    },
    {
      "cell_type": "code",
      "metadata": {
        "id": "UnSJpZpWT-4E",
        "colab": {
          "base_uri": "https://localhost:8080/",
          "height": 918
        },
        "outputId": "f71771e6-5b2d-476c-e3ed-9db85912aef3"
      },
      "source": [
        "TRAIN(train_data,valid_data,device,optimizer='SGD',no_epochs=10,LR=10**-3,reg=10**3)"
      ],
      "execution_count": null,
      "outputs": [
        {
          "output_type": "stream",
          "text": [
            "\n",
            "\n",
            "  0%|          | 0/10 [00:00<?, ?it/s]\u001b[A\u001b[A\n",
            "\n",
            " 10%|█         | 1/10 [00:03<00:28,  3.12s/it]\u001b[A\u001b[A"
          ],
          "name": "stderr"
        },
        {
          "output_type": "stream",
          "text": [
            "Epoch: 01 | Epoch Time: 0m 3s\n",
            "\tTrain Loss: 0.693 | Train Acc: 51.14%\n",
            "\t Val. Loss: 0.693 |  Val. Acc: 54.91%\n"
          ],
          "name": "stdout"
        },
        {
          "output_type": "stream",
          "text": [
            "\n",
            "\n",
            " 20%|██        | 2/10 [00:06<00:24,  3.10s/it]\u001b[A\u001b[A"
          ],
          "name": "stderr"
        },
        {
          "output_type": "stream",
          "text": [
            "Epoch: 02 | Epoch Time: 0m 3s\n",
            "\tTrain Loss: 0.693 | Train Acc: 50.62%\n",
            "\t Val. Loss: 0.693 |  Val. Acc: 54.91%\n"
          ],
          "name": "stdout"
        },
        {
          "output_type": "stream",
          "text": [
            "\n",
            "\n",
            " 30%|███       | 3/10 [00:09<00:21,  3.09s/it]\u001b[A\u001b[A"
          ],
          "name": "stderr"
        },
        {
          "output_type": "stream",
          "text": [
            "Epoch: 03 | Epoch Time: 0m 3s\n",
            "\tTrain Loss: 0.693 | Train Acc: 50.02%\n",
            "\t Val. Loss: 0.693 |  Val. Acc: 45.09%\n"
          ],
          "name": "stdout"
        },
        {
          "output_type": "stream",
          "text": [
            "\n",
            "\n",
            " 40%|████      | 4/10 [00:12<00:18,  3.09s/it]\u001b[A\u001b[A"
          ],
          "name": "stderr"
        },
        {
          "output_type": "stream",
          "text": [
            "Epoch: 04 | Epoch Time: 0m 3s\n",
            "\tTrain Loss: 0.693 | Train Acc: 50.92%\n",
            "\t Val. Loss: 0.693 |  Val. Acc: 45.09%\n"
          ],
          "name": "stdout"
        },
        {
          "output_type": "stream",
          "text": [
            "\n",
            "\n",
            " 50%|█████     | 5/10 [00:15<00:15,  3.10s/it]\u001b[A\u001b[A"
          ],
          "name": "stderr"
        },
        {
          "output_type": "stream",
          "text": [
            "Epoch: 05 | Epoch Time: 0m 3s\n",
            "\tTrain Loss: 0.693 | Train Acc: 51.55%\n",
            "\t Val. Loss: 0.693 |  Val. Acc: 54.91%\n"
          ],
          "name": "stdout"
        },
        {
          "output_type": "stream",
          "text": [
            "\n",
            "\n",
            " 60%|██████    | 6/10 [00:18<00:12,  3.09s/it]\u001b[A\u001b[A"
          ],
          "name": "stderr"
        },
        {
          "output_type": "stream",
          "text": [
            "Epoch: 06 | Epoch Time: 0m 3s\n",
            "\tTrain Loss: 0.693 | Train Acc: 52.42%\n",
            "\t Val. Loss: 0.693 |  Val. Acc: 54.91%\n"
          ],
          "name": "stdout"
        },
        {
          "output_type": "stream",
          "text": [
            "\n",
            "\n",
            " 70%|███████   | 7/10 [00:21<00:09,  3.08s/it]\u001b[A\u001b[A"
          ],
          "name": "stderr"
        },
        {
          "output_type": "stream",
          "text": [
            "Epoch: 07 | Epoch Time: 0m 3s\n",
            "\tTrain Loss: 0.693 | Train Acc: 51.77%\n",
            "\t Val. Loss: 0.693 |  Val. Acc: 54.91%\n"
          ],
          "name": "stdout"
        },
        {
          "output_type": "stream",
          "text": [
            "\n",
            "\n",
            " 80%|████████  | 8/10 [00:24<00:06,  3.07s/it]\u001b[A\u001b[A"
          ],
          "name": "stderr"
        },
        {
          "output_type": "stream",
          "text": [
            "Epoch: 08 | Epoch Time: 0m 3s\n",
            "\tTrain Loss: 0.693 | Train Acc: 49.79%\n",
            "\t Val. Loss: 0.693 |  Val. Acc: 54.91%\n"
          ],
          "name": "stdout"
        },
        {
          "output_type": "stream",
          "text": [
            "\n",
            "\n",
            " 90%|█████████ | 9/10 [00:27<00:03,  3.07s/it]\u001b[A\u001b[A"
          ],
          "name": "stderr"
        },
        {
          "output_type": "stream",
          "text": [
            "Epoch: 09 | Epoch Time: 0m 3s\n",
            "\tTrain Loss: 0.693 | Train Acc: 49.22%\n",
            "\t Val. Loss: 0.693 |  Val. Acc: 54.91%\n"
          ],
          "name": "stdout"
        },
        {
          "output_type": "stream",
          "text": [
            "\n",
            "\n",
            "100%|██████████| 10/10 [00:30<00:00,  3.08s/it]"
          ],
          "name": "stderr"
        },
        {
          "output_type": "stream",
          "text": [
            "Epoch: 10 | Epoch Time: 0m 3s\n",
            "\tTrain Loss: 0.693 | Train Acc: 51.14%\n",
            "\t Val. Loss: 0.693 |  Val. Acc: 45.09%\n"
          ],
          "name": "stdout"
        },
        {
          "output_type": "stream",
          "text": [
            "\n"
          ],
          "name": "stderr"
        }
      ]
    },
    {
      "cell_type": "markdown",
      "metadata": {
        "id": "mRrgG9Psrr9P"
      },
      "source": [
        "#III-\n",
        "LR: 1e-3, reg = 1e4"
      ]
    },
    {
      "cell_type": "code",
      "metadata": {
        "id": "RTUZTU3QUNGl",
        "colab": {
          "base_uri": "https://localhost:8080/",
          "height": 918
        },
        "outputId": "4fda681f-4f40-4722-ace5-6d2e6c5c2fc1"
      },
      "source": [
        "TRAIN(train_data,valid_data,device,optimizer='SGD',no_epochs=10,LR=10**-3,reg=10**4)"
      ],
      "execution_count": null,
      "outputs": [
        {
          "output_type": "stream",
          "text": [
            "\n",
            "\n",
            "  0%|          | 0/10 [00:00<?, ?it/s]\u001b[A\u001b[A\n",
            "\n",
            " 10%|█         | 1/10 [00:03<00:27,  3.04s/it]\u001b[A\u001b[A"
          ],
          "name": "stderr"
        },
        {
          "output_type": "stream",
          "text": [
            "Epoch: 01 | Epoch Time: 0m 3s\n",
            "\tTrain Loss: nan | Train Acc: 49.71%\n",
            "\t Val. Loss: nan |  Val. Acc: 54.91%\n"
          ],
          "name": "stdout"
        },
        {
          "output_type": "stream",
          "text": [
            "\n",
            "\n",
            " 20%|██        | 2/10 [00:06<00:24,  3.06s/it]\u001b[A\u001b[A"
          ],
          "name": "stderr"
        },
        {
          "output_type": "stream",
          "text": [
            "Epoch: 02 | Epoch Time: 0m 3s\n",
            "\tTrain Loss: nan | Train Acc: 49.82%\n",
            "\t Val. Loss: nan |  Val. Acc: 54.91%\n"
          ],
          "name": "stdout"
        },
        {
          "output_type": "stream",
          "text": [
            "\n",
            "\n",
            " 30%|███       | 3/10 [00:09<00:21,  3.09s/it]\u001b[A\u001b[A"
          ],
          "name": "stderr"
        },
        {
          "output_type": "stream",
          "text": [
            "Epoch: 03 | Epoch Time: 0m 3s\n",
            "\tTrain Loss: nan | Train Acc: 49.82%\n",
            "\t Val. Loss: nan |  Val. Acc: 54.91%\n"
          ],
          "name": "stdout"
        },
        {
          "output_type": "stream",
          "text": [
            "\n",
            "\n",
            " 40%|████      | 4/10 [00:12<00:19,  3.23s/it]\u001b[A\u001b[A"
          ],
          "name": "stderr"
        },
        {
          "output_type": "stream",
          "text": [
            "Epoch: 04 | Epoch Time: 0m 3s\n",
            "\tTrain Loss: nan | Train Acc: 49.82%\n",
            "\t Val. Loss: nan |  Val. Acc: 54.91%\n"
          ],
          "name": "stdout"
        },
        {
          "output_type": "stream",
          "text": [
            "\n",
            "\n",
            " 50%|█████     | 5/10 [00:16<00:16,  3.33s/it]\u001b[A\u001b[A"
          ],
          "name": "stderr"
        },
        {
          "output_type": "stream",
          "text": [
            "Epoch: 05 | Epoch Time: 0m 3s\n",
            "\tTrain Loss: nan | Train Acc: 49.62%\n",
            "\t Val. Loss: nan |  Val. Acc: 54.91%\n"
          ],
          "name": "stdout"
        },
        {
          "output_type": "stream",
          "text": [
            "\n",
            "\n",
            " 60%|██████    | 6/10 [00:19<00:13,  3.37s/it]\u001b[A\u001b[A"
          ],
          "name": "stderr"
        },
        {
          "output_type": "stream",
          "text": [
            "Epoch: 06 | Epoch Time: 0m 3s\n",
            "\tTrain Loss: nan | Train Acc: 49.62%\n",
            "\t Val. Loss: nan |  Val. Acc: 54.91%\n"
          ],
          "name": "stdout"
        },
        {
          "output_type": "stream",
          "text": [
            "\n",
            "\n",
            " 70%|███████   | 7/10 [00:22<00:09,  3.28s/it]\u001b[A\u001b[A"
          ],
          "name": "stderr"
        },
        {
          "output_type": "stream",
          "text": [
            "Epoch: 07 | Epoch Time: 0m 3s\n",
            "\tTrain Loss: nan | Train Acc: 50.02%\n",
            "\t Val. Loss: nan |  Val. Acc: 54.91%\n"
          ],
          "name": "stdout"
        },
        {
          "output_type": "stream",
          "text": [
            "\n",
            "\n",
            " 80%|████████  | 8/10 [00:26<00:06,  3.23s/it]\u001b[A\u001b[A"
          ],
          "name": "stderr"
        },
        {
          "output_type": "stream",
          "text": [
            "Epoch: 08 | Epoch Time: 0m 3s\n",
            "\tTrain Loss: nan | Train Acc: 49.82%\n",
            "\t Val. Loss: nan |  Val. Acc: 54.91%\n"
          ],
          "name": "stdout"
        },
        {
          "output_type": "stream",
          "text": [
            "\n",
            "\n",
            " 90%|█████████ | 9/10 [00:29<00:03,  3.19s/it]\u001b[A\u001b[A"
          ],
          "name": "stderr"
        },
        {
          "output_type": "stream",
          "text": [
            "Epoch: 09 | Epoch Time: 0m 3s\n",
            "\tTrain Loss: nan | Train Acc: 49.82%\n",
            "\t Val. Loss: nan |  Val. Acc: 54.91%\n"
          ],
          "name": "stdout"
        },
        {
          "output_type": "stream",
          "text": [
            "\n",
            "\n",
            "100%|██████████| 10/10 [00:32<00:00,  3.23s/it]"
          ],
          "name": "stderr"
        },
        {
          "output_type": "stream",
          "text": [
            "Epoch: 10 | Epoch Time: 0m 3s\n",
            "\tTrain Loss: nan | Train Acc: 50.02%\n",
            "\t Val. Loss: nan |  Val. Acc: 54.91%\n"
          ],
          "name": "stdout"
        },
        {
          "output_type": "stream",
          "text": [
            "\n"
          ],
          "name": "stderr"
        }
      ]
    },
    {
      "cell_type": "markdown",
      "metadata": {
        "id": "UANSP4tmr68Q"
      },
      "source": [
        "#H1 - COARSE SEARCH"
      ]
    },
    {
      "cell_type": "code",
      "metadata": {
        "id": "OxKwyZlXVN_9",
        "colab": {
          "base_uri": "https://localhost:8080/",
          "height": 1000
        },
        "outputId": "5446a88c-eafe-4bde-9520-0d98327853e3"
      },
      "source": [
        "max_count = 20\n",
        "\n",
        "for count in tqdm(range(max_count)):\n",
        "  LR = 10**random.uniform(-5,5)\n",
        "  reg = 10**random.uniform(-3,-6)\n",
        "  FINE_TRAIN(train_data,valid_data,device,optimizer='SGD',no_epochs=5,LR=LR,reg=reg)\n",
        "  print(\"-----------------------------------------------------------\")\n"
      ],
      "execution_count": null,
      "outputs": [
        {
          "output_type": "stream",
          "text": [
            "\n",
            "\n",
            "  0%|          | 0/20 [00:00<?, ?it/s]\u001b[A\u001b[A\n",
            "\n",
            "\n",
            "  0%|          | 0/5 [00:00<?, ?it/s]\u001b[A\u001b[A\u001b[A\n",
            "\n",
            "\n",
            " 20%|██        | 1/5 [00:03<00:12,  3.11s/it]\u001b[A\u001b[A\u001b[A"
          ],
          "name": "stderr"
        },
        {
          "output_type": "stream",
          "text": [
            "Epoch: 01 | Epoch Time: 0m 3s\n",
            "\tTrain Loss: 370354101136363905613824.000 | Train Acc: 47.66%\n",
            "\t Val. Loss: 13.732 |  Val. Acc: 45.09%\n",
            "LR: 18.33227620358218 | Reg: 1.2884057338060482e-06\n"
          ],
          "name": "stdout"
        },
        {
          "output_type": "stream",
          "text": [
            "\n",
            "\n",
            "\n",
            " 40%|████      | 2/5 [00:06<00:09,  3.10s/it]\u001b[A\u001b[A\u001b[A"
          ],
          "name": "stderr"
        },
        {
          "output_type": "stream",
          "text": [
            "Epoch: 02 | Epoch Time: 0m 3s\n",
            "\tTrain Loss: 6.403 | Train Acc: 48.58%\n",
            "\t Val. Loss: 9.325 |  Val. Acc: 54.91%\n",
            "LR: 18.33227620358218 | Reg: 1.2884057338060482e-06\n"
          ],
          "name": "stdout"
        },
        {
          "output_type": "stream",
          "text": [
            "\n",
            "\n",
            "\n",
            " 60%|██████    | 3/5 [00:09<00:06,  3.12s/it]\u001b[A\u001b[A\u001b[A"
          ],
          "name": "stderr"
        },
        {
          "output_type": "stream",
          "text": [
            "Epoch: 03 | Epoch Time: 0m 3s\n",
            "\tTrain Loss: 8.426 | Train Acc: 50.89%\n",
            "\t Val. Loss: 2.830 |  Val. Acc: 45.09%\n",
            "LR: 18.33227620358218 | Reg: 1.2884057338060482e-06\n"
          ],
          "name": "stdout"
        },
        {
          "output_type": "stream",
          "text": [
            "\n",
            "\n",
            "\n",
            " 80%|████████  | 4/5 [00:12<00:03,  3.12s/it]\u001b[A\u001b[A\u001b[A"
          ],
          "name": "stderr"
        },
        {
          "output_type": "stream",
          "text": [
            "Epoch: 04 | Epoch Time: 0m 3s\n",
            "\tTrain Loss: 6.419 | Train Acc: 49.23%\n",
            "\t Val. Loss: 18.261 |  Val. Acc: 45.09%\n",
            "LR: 18.33227620358218 | Reg: 1.2884057338060482e-06\n"
          ],
          "name": "stdout"
        },
        {
          "output_type": "stream",
          "text": [
            "\n",
            "\n",
            "\n",
            "100%|██████████| 5/5 [00:15<00:00,  3.11s/it]\n",
            "\n",
            "\n",
            "  5%|▌         | 1/20 [00:15<04:55, 15.54s/it]\u001b[A\u001b[A\n",
            "\n",
            "\n",
            "  0%|          | 0/5 [00:00<?, ?it/s]\u001b[A\u001b[A\u001b[A"
          ],
          "name": "stderr"
        },
        {
          "output_type": "stream",
          "text": [
            "Epoch: 05 | Epoch Time: 0m 3s\n",
            "\tTrain Loss: 15.155 | Train Acc: 52.62%\n",
            "\t Val. Loss: 0.995 |  Val. Acc: 45.09%\n",
            "LR: 18.33227620358218 | Reg: 1.2884057338060482e-06\n",
            "-----------------------------------------------------------\n"
          ],
          "name": "stdout"
        },
        {
          "output_type": "stream",
          "text": [
            "\n",
            "\n",
            "\n",
            " 20%|██        | 1/5 [00:03<00:12,  3.11s/it]\u001b[A\u001b[A\u001b[A"
          ],
          "name": "stderr"
        },
        {
          "output_type": "stream",
          "text": [
            "Epoch: 01 | Epoch Time: 0m 3s\n",
            "\tTrain Loss: 0.690 | Train Acc: 49.82%\n",
            "\t Val. Loss: 0.684 |  Val. Acc: 54.91%\n",
            "LR: 0.0012833346514923682 | Reg: 1.3542475596108415e-06\n"
          ],
          "name": "stdout"
        },
        {
          "output_type": "stream",
          "text": [
            "\n",
            "\n",
            "\n",
            " 40%|████      | 2/5 [00:06<00:09,  3.15s/it]\u001b[A\u001b[A\u001b[A"
          ],
          "name": "stderr"
        },
        {
          "output_type": "stream",
          "text": [
            "Epoch: 02 | Epoch Time: 0m 3s\n",
            "\tTrain Loss: 0.685 | Train Acc: 57.44%\n",
            "\t Val. Loss: 0.677 |  Val. Acc: 65.18%\n",
            "LR: 0.0012833346514923682 | Reg: 1.3542475596108415e-06\n"
          ],
          "name": "stdout"
        },
        {
          "output_type": "stream",
          "text": [
            "\n",
            "\n",
            "\n",
            " 60%|██████    | 3/5 [00:09<00:06,  3.20s/it]\u001b[A\u001b[A\u001b[A"
          ],
          "name": "stderr"
        },
        {
          "output_type": "stream",
          "text": [
            "Epoch: 03 | Epoch Time: 0m 3s\n",
            "\tTrain Loss: 0.676 | Train Acc: 64.08%\n",
            "\t Val. Loss: 0.663 |  Val. Acc: 69.64%\n",
            "LR: 0.0012833346514923682 | Reg: 1.3542475596108415e-06\n"
          ],
          "name": "stdout"
        },
        {
          "output_type": "stream",
          "text": [
            "\n",
            "\n",
            "\n",
            " 80%|████████  | 4/5 [00:12<00:03,  3.17s/it]\u001b[A\u001b[A\u001b[A"
          ],
          "name": "stderr"
        },
        {
          "output_type": "stream",
          "text": [
            "Epoch: 04 | Epoch Time: 0m 3s\n",
            "\tTrain Loss: 0.661 | Train Acc: 67.18%\n",
            "\t Val. Loss: 0.642 |  Val. Acc: 71.88%\n",
            "LR: 0.0012833346514923682 | Reg: 1.3542475596108415e-06\n"
          ],
          "name": "stdout"
        },
        {
          "output_type": "stream",
          "text": [
            "\n",
            "\n",
            "\n",
            "100%|██████████| 5/5 [00:15<00:00,  3.18s/it]\n",
            "\n",
            "\n",
            " 10%|█         | 2/20 [00:31<04:41, 15.65s/it]\u001b[A\u001b[A\n",
            "\n",
            "\n",
            "  0%|          | 0/5 [00:00<?, ?it/s]\u001b[A\u001b[A\u001b[A"
          ],
          "name": "stderr"
        },
        {
          "output_type": "stream",
          "text": [
            "Epoch: 05 | Epoch Time: 0m 3s\n",
            "\tTrain Loss: 0.644 | Train Acc: 70.06%\n",
            "\t Val. Loss: 0.622 |  Val. Acc: 75.00%\n",
            "LR: 0.0012833346514923682 | Reg: 1.3542475596108415e-06\n",
            "-----------------------------------------------------------\n"
          ],
          "name": "stdout"
        },
        {
          "output_type": "stream",
          "text": [
            "\n",
            "\n",
            "\n",
            " 20%|██        | 1/5 [00:03<00:12,  3.12s/it]\u001b[A\u001b[A\u001b[A"
          ],
          "name": "stderr"
        },
        {
          "output_type": "stream",
          "text": [
            "Epoch: 01 | Epoch Time: 0m 3s\n",
            "\tTrain Loss: 11.745 | Train Acc: 50.67%\n",
            "\t Val. Loss: 1.110 |  Val. Acc: 54.91%\n",
            "LR: 3.5809368148424814 | Reg: 1.9794469685323803e-06\n"
          ],
          "name": "stdout"
        },
        {
          "output_type": "stream",
          "text": [
            "\n",
            "\n",
            "\n",
            " 40%|████      | 2/5 [00:06<00:09,  3.11s/it]\u001b[A\u001b[A\u001b[A"
          ],
          "name": "stderr"
        },
        {
          "output_type": "stream",
          "text": [
            "Epoch: 02 | Epoch Time: 0m 3s\n",
            "\tTrain Loss: 0.967 | Train Acc: 48.83%\n",
            "\t Val. Loss: 0.763 |  Val. Acc: 54.91%\n",
            "LR: 3.5809368148424814 | Reg: 1.9794469685323803e-06\n"
          ],
          "name": "stdout"
        },
        {
          "output_type": "stream",
          "text": [
            "\n",
            "\n",
            "\n",
            " 60%|██████    | 3/5 [00:09<00:06,  3.11s/it]\u001b[A\u001b[A\u001b[A"
          ],
          "name": "stderr"
        },
        {
          "output_type": "stream",
          "text": [
            "Epoch: 03 | Epoch Time: 0m 3s\n",
            "\tTrain Loss: 0.822 | Train Acc: 50.49%\n",
            "\t Val. Loss: 0.951 |  Val. Acc: 45.09%\n",
            "LR: 3.5809368148424814 | Reg: 1.9794469685323803e-06\n"
          ],
          "name": "stdout"
        },
        {
          "output_type": "stream",
          "text": [
            "\n",
            "\n",
            "\n",
            " 80%|████████  | 4/5 [00:12<00:03,  3.11s/it]\u001b[A\u001b[A\u001b[A"
          ],
          "name": "stderr"
        },
        {
          "output_type": "stream",
          "text": [
            "Epoch: 04 | Epoch Time: 0m 3s\n",
            "\tTrain Loss: 0.896 | Train Acc: 50.07%\n",
            "\t Val. Loss: 1.132 |  Val. Acc: 45.09%\n",
            "LR: 3.5809368148424814 | Reg: 1.9794469685323803e-06\n"
          ],
          "name": "stdout"
        },
        {
          "output_type": "stream",
          "text": [
            "\n",
            "\n",
            "\n",
            "100%|██████████| 5/5 [00:15<00:00,  3.11s/it]\n",
            "\n",
            "\n",
            " 15%|█▌        | 3/20 [00:47<04:25, 15.63s/it]\u001b[A\u001b[A\n",
            "\n",
            "\n",
            "  0%|          | 0/5 [00:00<?, ?it/s]\u001b[A\u001b[A\u001b[A"
          ],
          "name": "stderr"
        },
        {
          "output_type": "stream",
          "text": [
            "Epoch: 05 | Epoch Time: 0m 3s\n",
            "\tTrain Loss: 0.923 | Train Acc: 50.23%\n",
            "\t Val. Loss: 1.254 |  Val. Acc: 54.91%\n",
            "LR: 3.5809368148424814 | Reg: 1.9794469685323803e-06\n",
            "-----------------------------------------------------------\n"
          ],
          "name": "stdout"
        },
        {
          "output_type": "stream",
          "text": [
            "\n",
            "\n",
            "\n",
            " 20%|██        | 1/5 [00:03<00:12,  3.06s/it]\u001b[A\u001b[A\u001b[A"
          ],
          "name": "stderr"
        },
        {
          "output_type": "stream",
          "text": [
            "Epoch: 01 | Epoch Time: 0m 3s\n",
            "\tTrain Loss: nan | Train Acc: 49.66%\n",
            "\t Val. Loss: nan |  Val. Acc: 54.91%\n",
            "LR: 1514.195438612567 | Reg: 0.00033016768912621147\n"
          ],
          "name": "stdout"
        },
        {
          "output_type": "stream",
          "text": [
            "\n",
            "\n",
            "\n",
            " 40%|████      | 2/5 [00:06<00:09,  3.08s/it]\u001b[A\u001b[A\u001b[A"
          ],
          "name": "stderr"
        },
        {
          "output_type": "stream",
          "text": [
            "Epoch: 02 | Epoch Time: 0m 3s\n",
            "\tTrain Loss: nan | Train Acc: 50.02%\n",
            "\t Val. Loss: nan |  Val. Acc: 54.91%\n",
            "LR: 1514.195438612567 | Reg: 0.00033016768912621147\n"
          ],
          "name": "stdout"
        },
        {
          "output_type": "stream",
          "text": [
            "\n",
            "\n",
            "\n",
            " 60%|██████    | 3/5 [00:09<00:06,  3.08s/it]\u001b[A\u001b[A\u001b[A"
          ],
          "name": "stderr"
        },
        {
          "output_type": "stream",
          "text": [
            "Epoch: 03 | Epoch Time: 0m 3s\n",
            "\tTrain Loss: nan | Train Acc: 50.41%\n",
            "\t Val. Loss: nan |  Val. Acc: 54.91%\n",
            "LR: 1514.195438612567 | Reg: 0.00033016768912621147\n"
          ],
          "name": "stdout"
        },
        {
          "output_type": "stream",
          "text": [
            "\n",
            "\n",
            "\n",
            " 80%|████████  | 4/5 [00:12<00:03,  3.09s/it]\u001b[A\u001b[A\u001b[A"
          ],
          "name": "stderr"
        },
        {
          "output_type": "stream",
          "text": [
            "Epoch: 04 | Epoch Time: 0m 3s\n",
            "\tTrain Loss: nan | Train Acc: 50.21%\n",
            "\t Val. Loss: nan |  Val. Acc: 54.91%\n",
            "LR: 1514.195438612567 | Reg: 0.00033016768912621147\n"
          ],
          "name": "stdout"
        },
        {
          "output_type": "stream",
          "text": [
            "\n",
            "\n",
            "\n",
            "100%|██████████| 5/5 [00:15<00:00,  3.09s/it]\n",
            "\n",
            "\n",
            " 20%|██        | 4/20 [01:02<04:09, 15.58s/it]\u001b[A\u001b[A\n",
            "\n",
            "\n",
            "  0%|          | 0/5 [00:00<?, ?it/s]\u001b[A\u001b[A\u001b[A"
          ],
          "name": "stderr"
        },
        {
          "output_type": "stream",
          "text": [
            "Epoch: 05 | Epoch Time: 0m 3s\n",
            "\tTrain Loss: nan | Train Acc: 50.02%\n",
            "\t Val. Loss: nan |  Val. Acc: 54.91%\n",
            "LR: 1514.195438612567 | Reg: 0.00033016768912621147\n",
            "-----------------------------------------------------------\n"
          ],
          "name": "stdout"
        },
        {
          "output_type": "stream",
          "text": [
            "\n",
            "\n",
            "\n",
            " 20%|██        | 1/5 [00:03<00:12,  3.10s/it]\u001b[A\u001b[A\u001b[A"
          ],
          "name": "stderr"
        },
        {
          "output_type": "stream",
          "text": [
            "Epoch: 01 | Epoch Time: 0m 3s\n",
            "\tTrain Loss: nan | Train Acc: 49.91%\n",
            "\t Val. Loss: nan |  Val. Acc: 54.91%\n",
            "LR: 30.579408545195268 | Reg: 0.00042434604443796647\n"
          ],
          "name": "stdout"
        },
        {
          "output_type": "stream",
          "text": [
            "\n",
            "\n",
            "\n",
            " 40%|████      | 2/5 [00:06<00:09,  3.09s/it]\u001b[A\u001b[A\u001b[A"
          ],
          "name": "stderr"
        },
        {
          "output_type": "stream",
          "text": [
            "Epoch: 02 | Epoch Time: 0m 3s\n",
            "\tTrain Loss: nan | Train Acc: 50.02%\n",
            "\t Val. Loss: nan |  Val. Acc: 54.91%\n",
            "LR: 30.579408545195268 | Reg: 0.00042434604443796647\n"
          ],
          "name": "stdout"
        },
        {
          "output_type": "stream",
          "text": [
            "\n",
            "\n",
            "\n",
            " 60%|██████    | 3/5 [00:09<00:06,  3.10s/it]\u001b[A\u001b[A\u001b[A"
          ],
          "name": "stderr"
        },
        {
          "output_type": "stream",
          "text": [
            "Epoch: 03 | Epoch Time: 0m 3s\n",
            "\tTrain Loss: nan | Train Acc: 50.21%\n",
            "\t Val. Loss: nan |  Val. Acc: 54.91%\n",
            "LR: 30.579408545195268 | Reg: 0.00042434604443796647\n"
          ],
          "name": "stdout"
        },
        {
          "output_type": "stream",
          "text": [
            "\n",
            "\n",
            "\n",
            " 80%|████████  | 4/5 [00:12<00:03,  3.11s/it]\u001b[A\u001b[A\u001b[A"
          ],
          "name": "stderr"
        },
        {
          "output_type": "stream",
          "text": [
            "Epoch: 04 | Epoch Time: 0m 3s\n",
            "\tTrain Loss: nan | Train Acc: 50.41%\n",
            "\t Val. Loss: nan |  Val. Acc: 54.91%\n",
            "LR: 30.579408545195268 | Reg: 0.00042434604443796647\n"
          ],
          "name": "stdout"
        },
        {
          "output_type": "stream",
          "text": [
            "\n",
            "\n",
            "\n",
            "100%|██████████| 5/5 [00:15<00:00,  3.11s/it]\n",
            "\n",
            "\n",
            " 25%|██▌       | 5/20 [01:18<03:53, 15.58s/it]\u001b[A\u001b[A\n",
            "\n",
            "\n",
            "  0%|          | 0/5 [00:00<?, ?it/s]\u001b[A\u001b[A\u001b[A"
          ],
          "name": "stderr"
        },
        {
          "output_type": "stream",
          "text": [
            "Epoch: 05 | Epoch Time: 0m 3s\n",
            "\tTrain Loss: nan | Train Acc: 50.02%\n",
            "\t Val. Loss: nan |  Val. Acc: 54.91%\n",
            "LR: 30.579408545195268 | Reg: 0.00042434604443796647\n",
            "-----------------------------------------------------------\n"
          ],
          "name": "stdout"
        },
        {
          "output_type": "stream",
          "text": [
            "\n",
            "\n",
            "\n",
            " 20%|██        | 1/5 [00:03<00:12,  3.11s/it]\u001b[A\u001b[A\u001b[A"
          ],
          "name": "stderr"
        },
        {
          "output_type": "stream",
          "text": [
            "Epoch: 01 | Epoch Time: 0m 3s\n",
            "\tTrain Loss: 0.694 | Train Acc: 49.82%\n",
            "\t Val. Loss: 0.692 |  Val. Acc: 54.91%\n",
            "LR: 1.1388089166220053e-05 | Reg: 6.508058651380181e-05\n"
          ],
          "name": "stdout"
        },
        {
          "output_type": "stream",
          "text": [
            "\n",
            "\n",
            "\n",
            " 40%|████      | 2/5 [00:06<00:09,  3.12s/it]\u001b[A\u001b[A\u001b[A"
          ],
          "name": "stderr"
        },
        {
          "output_type": "stream",
          "text": [
            "Epoch: 02 | Epoch Time: 0m 3s\n",
            "\tTrain Loss: 0.694 | Train Acc: 49.62%\n",
            "\t Val. Loss: 0.692 |  Val. Acc: 54.91%\n",
            "LR: 1.1388089166220053e-05 | Reg: 6.508058651380181e-05\n"
          ],
          "name": "stdout"
        },
        {
          "output_type": "stream",
          "text": [
            "\n",
            "\n",
            "\n",
            " 60%|██████    | 3/5 [00:09<00:06,  3.11s/it]\u001b[A\u001b[A\u001b[A"
          ],
          "name": "stderr"
        },
        {
          "output_type": "stream",
          "text": [
            "Epoch: 03 | Epoch Time: 0m 3s\n",
            "\tTrain Loss: 0.694 | Train Acc: 50.02%\n",
            "\t Val. Loss: 0.692 |  Val. Acc: 54.91%\n",
            "LR: 1.1388089166220053e-05 | Reg: 6.508058651380181e-05\n"
          ],
          "name": "stdout"
        },
        {
          "output_type": "stream",
          "text": [
            "\n",
            "\n",
            "\n",
            " 80%|████████  | 4/5 [00:12<00:03,  3.10s/it]\u001b[A\u001b[A\u001b[A"
          ],
          "name": "stderr"
        },
        {
          "output_type": "stream",
          "text": [
            "Epoch: 04 | Epoch Time: 0m 3s\n",
            "\tTrain Loss: 0.694 | Train Acc: 49.43%\n",
            "\t Val. Loss: 0.692 |  Val. Acc: 54.91%\n",
            "LR: 1.1388089166220053e-05 | Reg: 6.508058651380181e-05\n"
          ],
          "name": "stdout"
        },
        {
          "output_type": "stream",
          "text": [
            "\n",
            "\n",
            "\n",
            "100%|██████████| 5/5 [00:15<00:00,  3.11s/it]\n",
            "\n",
            "\n",
            " 30%|███       | 6/20 [01:33<03:37, 15.57s/it]\u001b[A\u001b[A\n",
            "\n",
            "\n",
            "  0%|          | 0/5 [00:00<?, ?it/s]\u001b[A\u001b[A\u001b[A"
          ],
          "name": "stderr"
        },
        {
          "output_type": "stream",
          "text": [
            "Epoch: 05 | Epoch Time: 0m 3s\n",
            "\tTrain Loss: 0.694 | Train Acc: 50.02%\n",
            "\t Val. Loss: 0.692 |  Val. Acc: 54.91%\n",
            "LR: 1.1388089166220053e-05 | Reg: 6.508058651380181e-05\n",
            "-----------------------------------------------------------\n"
          ],
          "name": "stdout"
        },
        {
          "output_type": "stream",
          "text": [
            "\n",
            "\n",
            "\n",
            " 20%|██        | 1/5 [00:03<00:12,  3.07s/it]\u001b[A\u001b[A\u001b[A"
          ],
          "name": "stderr"
        },
        {
          "output_type": "stream",
          "text": [
            "Epoch: 01 | Epoch Time: 0m 3s\n",
            "\tTrain Loss: nan | Train Acc: 49.32%\n",
            "\t Val. Loss: nan |  Val. Acc: 54.91%\n",
            "LR: 543.2591148530937 | Reg: 2.0022895377750983e-05\n"
          ],
          "name": "stdout"
        },
        {
          "output_type": "stream",
          "text": [
            "\n",
            "\n",
            "\n",
            " 40%|████      | 2/5 [00:06<00:09,  3.14s/it]\u001b[A\u001b[A\u001b[A"
          ],
          "name": "stderr"
        },
        {
          "output_type": "stream",
          "text": [
            "Epoch: 02 | Epoch Time: 0m 3s\n",
            "\tTrain Loss: nan | Train Acc: 50.02%\n",
            "\t Val. Loss: nan |  Val. Acc: 54.91%\n",
            "LR: 543.2591148530937 | Reg: 2.0022895377750983e-05\n"
          ],
          "name": "stdout"
        },
        {
          "output_type": "stream",
          "text": [
            "\n",
            "\n",
            "\n",
            " 60%|██████    | 3/5 [00:09<00:06,  3.25s/it]\u001b[A\u001b[A\u001b[A"
          ],
          "name": "stderr"
        },
        {
          "output_type": "stream",
          "text": [
            "Epoch: 03 | Epoch Time: 0m 3s\n",
            "\tTrain Loss: nan | Train Acc: 49.82%\n",
            "\t Val. Loss: nan |  Val. Acc: 54.91%\n",
            "LR: 543.2591148530937 | Reg: 2.0022895377750983e-05\n"
          ],
          "name": "stdout"
        },
        {
          "output_type": "stream",
          "text": [
            "\n",
            "\n",
            "\n",
            " 80%|████████  | 4/5 [00:13<00:03,  3.32s/it]\u001b[A\u001b[A\u001b[A"
          ],
          "name": "stderr"
        },
        {
          "output_type": "stream",
          "text": [
            "Epoch: 04 | Epoch Time: 0m 3s\n",
            "\tTrain Loss: nan | Train Acc: 49.82%\n",
            "\t Val. Loss: nan |  Val. Acc: 54.91%\n",
            "LR: 543.2591148530937 | Reg: 2.0022895377750983e-05\n"
          ],
          "name": "stdout"
        },
        {
          "output_type": "stream",
          "text": [
            "\n",
            "\n",
            "\n",
            "100%|██████████| 5/5 [00:16<00:00,  3.32s/it]\n",
            "\n",
            "\n",
            " 35%|███▌      | 7/20 [01:50<03:26, 15.88s/it]\u001b[A\u001b[A\n",
            "\n",
            "\n",
            "  0%|          | 0/5 [00:00<?, ?it/s]\u001b[A\u001b[A\u001b[A"
          ],
          "name": "stderr"
        },
        {
          "output_type": "stream",
          "text": [
            "Epoch: 05 | Epoch Time: 0m 3s\n",
            "\tTrain Loss: nan | Train Acc: 50.21%\n",
            "\t Val. Loss: nan |  Val. Acc: 54.91%\n",
            "LR: 543.2591148530937 | Reg: 2.0022895377750983e-05\n",
            "-----------------------------------------------------------\n"
          ],
          "name": "stdout"
        },
        {
          "output_type": "stream",
          "text": [
            "\n",
            "\n",
            "\n",
            " 20%|██        | 1/5 [00:03<00:12,  3.08s/it]\u001b[A\u001b[A\u001b[A"
          ],
          "name": "stderr"
        },
        {
          "output_type": "stream",
          "text": [
            "Epoch: 01 | Epoch Time: 0m 3s\n",
            "\tTrain Loss: 0.695 | Train Acc: 50.02%\n",
            "\t Val. Loss: 0.688 |  Val. Acc: 54.91%\n",
            "LR: 0.0008441246057121181 | Reg: 2.9955450588574948e-06\n"
          ],
          "name": "stdout"
        },
        {
          "output_type": "stream",
          "text": [
            "\n",
            "\n",
            "\n",
            " 40%|████      | 2/5 [00:06<00:09,  3.08s/it]\u001b[A\u001b[A\u001b[A"
          ],
          "name": "stderr"
        },
        {
          "output_type": "stream",
          "text": [
            "Epoch: 02 | Epoch Time: 0m 3s\n",
            "\tTrain Loss: 0.694 | Train Acc: 49.62%\n",
            "\t Val. Loss: 0.689 |  Val. Acc: 54.91%\n",
            "LR: 0.0008441246057121181 | Reg: 2.9955450588574948e-06\n"
          ],
          "name": "stdout"
        },
        {
          "output_type": "stream",
          "text": [
            "\n",
            "\n",
            "\n",
            " 60%|██████    | 3/5 [00:09<00:06,  3.09s/it]\u001b[A\u001b[A\u001b[A"
          ],
          "name": "stderr"
        },
        {
          "output_type": "stream",
          "text": [
            "Epoch: 03 | Epoch Time: 0m 3s\n",
            "\tTrain Loss: 0.693 | Train Acc: 50.02%\n",
            "\t Val. Loss: 0.690 |  Val. Acc: 54.91%\n",
            "LR: 0.0008441246057121181 | Reg: 2.9955450588574948e-06\n"
          ],
          "name": "stdout"
        },
        {
          "output_type": "stream",
          "text": [
            "\n",
            "\n",
            "\n",
            " 80%|████████  | 4/5 [00:12<00:03,  3.08s/it]\u001b[A\u001b[A\u001b[A"
          ],
          "name": "stderr"
        },
        {
          "output_type": "stream",
          "text": [
            "Epoch: 04 | Epoch Time: 0m 3s\n",
            "\tTrain Loss: 0.692 | Train Acc: 49.62%\n",
            "\t Val. Loss: 0.690 |  Val. Acc: 54.91%\n",
            "LR: 0.0008441246057121181 | Reg: 2.9955450588574948e-06\n"
          ],
          "name": "stdout"
        },
        {
          "output_type": "stream",
          "text": [
            "\n",
            "\n",
            "\n",
            "100%|██████████| 5/5 [00:15<00:00,  3.09s/it]\n",
            "\n",
            "\n",
            " 40%|████      | 8/20 [02:05<03:09, 15.75s/it]\u001b[A\u001b[A\n",
            "\n",
            "\n",
            "  0%|          | 0/5 [00:00<?, ?it/s]\u001b[A\u001b[A\u001b[A"
          ],
          "name": "stderr"
        },
        {
          "output_type": "stream",
          "text": [
            "Epoch: 05 | Epoch Time: 0m 3s\n",
            "\tTrain Loss: 0.692 | Train Acc: 50.02%\n",
            "\t Val. Loss: 0.690 |  Val. Acc: 54.91%\n",
            "LR: 0.0008441246057121181 | Reg: 2.9955450588574948e-06\n",
            "-----------------------------------------------------------\n"
          ],
          "name": "stdout"
        },
        {
          "output_type": "stream",
          "text": [
            "\n",
            "\n",
            "\n",
            " 20%|██        | 1/5 [00:03<00:12,  3.11s/it]\u001b[A\u001b[A\u001b[A"
          ],
          "name": "stderr"
        },
        {
          "output_type": "stream",
          "text": [
            "Epoch: 01 | Epoch Time: 0m 3s\n",
            "\tTrain Loss: nan | Train Acc: 50.70%\n",
            "\t Val. Loss: nan |  Val. Acc: 54.91%\n",
            "LR: 13733.094941527648 | Reg: 0.00019423380197815067\n"
          ],
          "name": "stdout"
        },
        {
          "output_type": "stream",
          "text": [
            "\n",
            "\n",
            "\n",
            " 40%|████      | 2/5 [00:06<00:09,  3.11s/it]\u001b[A\u001b[A\u001b[A"
          ],
          "name": "stderr"
        },
        {
          "output_type": "stream",
          "text": [
            "Epoch: 02 | Epoch Time: 0m 3s\n",
            "\tTrain Loss: nan | Train Acc: 50.21%\n",
            "\t Val. Loss: nan |  Val. Acc: 54.91%\n",
            "LR: 13733.094941527648 | Reg: 0.00019423380197815067\n"
          ],
          "name": "stdout"
        },
        {
          "output_type": "stream",
          "text": [
            "\n",
            "\n",
            "\n",
            " 60%|██████    | 3/5 [00:09<00:06,  3.12s/it]\u001b[A\u001b[A\u001b[A"
          ],
          "name": "stderr"
        },
        {
          "output_type": "stream",
          "text": [
            "Epoch: 03 | Epoch Time: 0m 3s\n",
            "\tTrain Loss: nan | Train Acc: 49.82%\n",
            "\t Val. Loss: nan |  Val. Acc: 54.91%\n",
            "LR: 13733.094941527648 | Reg: 0.00019423380197815067\n"
          ],
          "name": "stdout"
        },
        {
          "output_type": "stream",
          "text": [
            "\n",
            "\n",
            "\n",
            " 80%|████████  | 4/5 [00:12<00:03,  3.11s/it]\u001b[A\u001b[A\u001b[A"
          ],
          "name": "stderr"
        },
        {
          "output_type": "stream",
          "text": [
            "Epoch: 04 | Epoch Time: 0m 3s\n",
            "\tTrain Loss: nan | Train Acc: 50.02%\n",
            "\t Val. Loss: nan |  Val. Acc: 54.91%\n",
            "LR: 13733.094941527648 | Reg: 0.00019423380197815067\n"
          ],
          "name": "stdout"
        },
        {
          "output_type": "stream",
          "text": [
            "\n",
            "\n",
            "\n",
            "100%|██████████| 5/5 [00:15<00:00,  3.11s/it]\n",
            "\n",
            "\n",
            " 45%|████▌     | 9/20 [02:21<02:52, 15.70s/it]\u001b[A\u001b[A\n",
            "\n",
            "\n",
            "  0%|          | 0/5 [00:00<?, ?it/s]\u001b[A\u001b[A\u001b[A"
          ],
          "name": "stderr"
        },
        {
          "output_type": "stream",
          "text": [
            "Epoch: 05 | Epoch Time: 0m 3s\n",
            "\tTrain Loss: nan | Train Acc: 50.21%\n",
            "\t Val. Loss: nan |  Val. Acc: 54.91%\n",
            "LR: 13733.094941527648 | Reg: 0.00019423380197815067\n",
            "-----------------------------------------------------------\n"
          ],
          "name": "stdout"
        },
        {
          "output_type": "stream",
          "text": [
            "\n",
            "\n",
            "\n",
            " 20%|██        | 1/5 [00:03<00:12,  3.12s/it]\u001b[A\u001b[A\u001b[A"
          ],
          "name": "stderr"
        },
        {
          "output_type": "stream",
          "text": [
            "Epoch: 01 | Epoch Time: 0m 3s\n",
            "\tTrain Loss: 0.710 | Train Acc: 51.25%\n",
            "\t Val. Loss: 0.726 |  Val. Acc: 45.09%\n",
            "LR: 0.3033366120337391 | Reg: 1.2206764923453576e-05\n"
          ],
          "name": "stdout"
        },
        {
          "output_type": "stream",
          "text": [
            "\n",
            "\n",
            "\n",
            " 40%|████      | 2/5 [00:06<00:09,  3.10s/it]\u001b[A\u001b[A\u001b[A"
          ],
          "name": "stderr"
        },
        {
          "output_type": "stream",
          "text": [
            "Epoch: 02 | Epoch Time: 0m 3s\n",
            "\tTrain Loss: 0.705 | Train Acc: 48.94%\n",
            "\t Val. Loss: 0.695 |  Val. Acc: 45.09%\n",
            "LR: 0.3033366120337391 | Reg: 1.2206764923453576e-05\n"
          ],
          "name": "stdout"
        },
        {
          "output_type": "stream",
          "text": [
            "\n",
            "\n",
            "\n",
            " 60%|██████    | 3/5 [00:09<00:06,  3.09s/it]\u001b[A\u001b[A\u001b[A"
          ],
          "name": "stderr"
        },
        {
          "output_type": "stream",
          "text": [
            "Epoch: 03 | Epoch Time: 0m 3s\n",
            "\tTrain Loss: 0.699 | Train Acc: 51.65%\n",
            "\t Val. Loss: 0.692 |  Val. Acc: 54.91%\n",
            "LR: 0.3033366120337391 | Reg: 1.2206764923453576e-05\n"
          ],
          "name": "stdout"
        },
        {
          "output_type": "stream",
          "text": [
            "\n",
            "\n",
            "\n",
            " 80%|████████  | 4/5 [00:12<00:03,  3.09s/it]\u001b[A\u001b[A\u001b[A"
          ],
          "name": "stderr"
        },
        {
          "output_type": "stream",
          "text": [
            "Epoch: 04 | Epoch Time: 0m 3s\n",
            "\tTrain Loss: 0.709 | Train Acc: 52.57%\n",
            "\t Val. Loss: 0.700 |  Val. Acc: 45.09%\n",
            "LR: 0.3033366120337391 | Reg: 1.2206764923453576e-05\n"
          ],
          "name": "stdout"
        },
        {
          "output_type": "stream",
          "text": [
            "\n",
            "\n",
            "\n",
            "100%|██████████| 5/5 [00:15<00:00,  3.09s/it]\n",
            "\n",
            "\n",
            " 50%|█████     | 10/20 [02:36<02:36, 15.63s/it]\u001b[A\u001b[A\n",
            "\n",
            "\n",
            "  0%|          | 0/5 [00:00<?, ?it/s]\u001b[A\u001b[A\u001b[A"
          ],
          "name": "stderr"
        },
        {
          "output_type": "stream",
          "text": [
            "Epoch: 05 | Epoch Time: 0m 3s\n",
            "\tTrain Loss: 0.700 | Train Acc: 49.93%\n",
            "\t Val. Loss: 0.689 |  Val. Acc: 54.91%\n",
            "LR: 0.3033366120337391 | Reg: 1.2206764923453576e-05\n",
            "-----------------------------------------------------------\n"
          ],
          "name": "stdout"
        },
        {
          "output_type": "stream",
          "text": [
            "\n",
            "\n",
            "\n",
            " 20%|██        | 1/5 [00:03<00:12,  3.15s/it]\u001b[A\u001b[A\u001b[A"
          ],
          "name": "stderr"
        },
        {
          "output_type": "stream",
          "text": [
            "Epoch: 01 | Epoch Time: 0m 3s\n",
            "\tTrain Loss: nan | Train Acc: 50.13%\n",
            "\t Val. Loss: nan |  Val. Acc: 54.91%\n",
            "LR: 10554.319264903652 | Reg: 0.0004170175901888407\n"
          ],
          "name": "stdout"
        },
        {
          "output_type": "stream",
          "text": [
            "\n",
            "\n",
            "\n",
            " 40%|████      | 2/5 [00:06<00:09,  3.14s/it]\u001b[A\u001b[A\u001b[A"
          ],
          "name": "stderr"
        },
        {
          "output_type": "stream",
          "text": [
            "Epoch: 02 | Epoch Time: 0m 3s\n",
            "\tTrain Loss: nan | Train Acc: 50.02%\n",
            "\t Val. Loss: nan |  Val. Acc: 54.91%\n",
            "LR: 10554.319264903652 | Reg: 0.0004170175901888407\n"
          ],
          "name": "stdout"
        },
        {
          "output_type": "stream",
          "text": [
            "\n",
            "\n",
            "\n",
            " 60%|██████    | 3/5 [00:09<00:06,  3.13s/it]\u001b[A\u001b[A\u001b[A"
          ],
          "name": "stderr"
        },
        {
          "output_type": "stream",
          "text": [
            "Epoch: 03 | Epoch Time: 0m 3s\n",
            "\tTrain Loss: nan | Train Acc: 50.02%\n",
            "\t Val. Loss: nan |  Val. Acc: 54.91%\n",
            "LR: 10554.319264903652 | Reg: 0.0004170175901888407\n"
          ],
          "name": "stdout"
        },
        {
          "output_type": "stream",
          "text": [
            "\n",
            "\n",
            "\n",
            " 80%|████████  | 4/5 [00:12<00:03,  3.13s/it]\u001b[A\u001b[A\u001b[A"
          ],
          "name": "stderr"
        },
        {
          "output_type": "stream",
          "text": [
            "Epoch: 04 | Epoch Time: 0m 3s\n",
            "\tTrain Loss: nan | Train Acc: 50.02%\n",
            "\t Val. Loss: nan |  Val. Acc: 54.91%\n",
            "LR: 10554.319264903652 | Reg: 0.0004170175901888407\n"
          ],
          "name": "stdout"
        },
        {
          "output_type": "stream",
          "text": [
            "\n",
            "\n",
            "\n",
            "100%|██████████| 5/5 [00:15<00:00,  3.12s/it]\n",
            "\n",
            "\n",
            " 55%|█████▌    | 11/20 [02:52<02:20, 15.62s/it]\u001b[A\u001b[A\n",
            "\n",
            "\n",
            "  0%|          | 0/5 [00:00<?, ?it/s]\u001b[A\u001b[A\u001b[A"
          ],
          "name": "stderr"
        },
        {
          "output_type": "stream",
          "text": [
            "Epoch: 05 | Epoch Time: 0m 3s\n",
            "\tTrain Loss: nan | Train Acc: 50.21%\n",
            "\t Val. Loss: nan |  Val. Acc: 54.91%\n",
            "LR: 10554.319264903652 | Reg: 0.0004170175901888407\n",
            "-----------------------------------------------------------\n"
          ],
          "name": "stdout"
        },
        {
          "output_type": "stream",
          "text": [
            "\n",
            "\n",
            "\n",
            " 20%|██        | 1/5 [00:03<00:12,  3.09s/it]\u001b[A\u001b[A\u001b[A"
          ],
          "name": "stderr"
        },
        {
          "output_type": "stream",
          "text": [
            "Epoch: 01 | Epoch Time: 0m 3s\n",
            "\tTrain Loss: 82619128035713856.000 | Train Acc: 50.56%\n",
            "\t Val. Loss: 1.269 |  Val. Acc: 54.91%\n",
            "LR: 3.4635079787445737 | Reg: 1.242876614471772e-06\n"
          ],
          "name": "stdout"
        },
        {
          "output_type": "stream",
          "text": [
            "\n",
            "\n",
            "\n",
            " 40%|████      | 2/5 [00:06<00:09,  3.09s/it]\u001b[A\u001b[A\u001b[A"
          ],
          "name": "stderr"
        },
        {
          "output_type": "stream",
          "text": [
            "Epoch: 02 | Epoch Time: 0m 3s\n",
            "\tTrain Loss: 0.874 | Train Acc: 49.31%\n",
            "\t Val. Loss: 1.047 |  Val. Acc: 54.91%\n",
            "LR: 3.4635079787445737 | Reg: 1.242876614471772e-06\n"
          ],
          "name": "stdout"
        },
        {
          "output_type": "stream",
          "text": [
            "\n",
            "\n",
            "\n",
            " 60%|██████    | 3/5 [00:09<00:06,  3.10s/it]\u001b[A\u001b[A\u001b[A"
          ],
          "name": "stderr"
        },
        {
          "output_type": "stream",
          "text": [
            "Epoch: 03 | Epoch Time: 0m 3s\n",
            "\tTrain Loss: 0.802 | Train Acc: 49.08%\n",
            "\t Val. Loss: 0.887 |  Val. Acc: 45.09%\n",
            "LR: 3.4635079787445737 | Reg: 1.242876614471772e-06\n"
          ],
          "name": "stdout"
        },
        {
          "output_type": "stream",
          "text": [
            "\n",
            "\n",
            "\n",
            " 80%|████████  | 4/5 [00:12<00:03,  3.09s/it]\u001b[A\u001b[A\u001b[A"
          ],
          "name": "stderr"
        },
        {
          "output_type": "stream",
          "text": [
            "Epoch: 04 | Epoch Time: 0m 3s\n",
            "\tTrain Loss: 0.839 | Train Acc: 48.58%\n",
            "\t Val. Loss: 1.770 |  Val. Acc: 54.91%\n",
            "LR: 3.4635079787445737 | Reg: 1.242876614471772e-06\n"
          ],
          "name": "stdout"
        },
        {
          "output_type": "stream",
          "text": [
            "\n",
            "\n",
            "\n",
            "100%|██████████| 5/5 [00:15<00:00,  3.09s/it]\n",
            "\n",
            "\n",
            " 60%|██████    | 12/20 [03:07<02:04, 15.58s/it]\u001b[A\u001b[A\n",
            "\n",
            "\n",
            "  0%|          | 0/5 [00:00<?, ?it/s]\u001b[A\u001b[A\u001b[A"
          ],
          "name": "stderr"
        },
        {
          "output_type": "stream",
          "text": [
            "Epoch: 05 | Epoch Time: 0m 3s\n",
            "\tTrain Loss: 1.051 | Train Acc: 50.04%\n",
            "\t Val. Loss: 0.699 |  Val. Acc: 54.91%\n",
            "LR: 3.4635079787445737 | Reg: 1.242876614471772e-06\n",
            "-----------------------------------------------------------\n"
          ],
          "name": "stdout"
        },
        {
          "output_type": "stream",
          "text": [
            "\n",
            "\n",
            "\n",
            " 20%|██        | 1/5 [00:03<00:12,  3.08s/it]\u001b[A\u001b[A\u001b[A"
          ],
          "name": "stderr"
        },
        {
          "output_type": "stream",
          "text": [
            "Epoch: 01 | Epoch Time: 0m 3s\n",
            "\tTrain Loss: 4315734205.104 | Train Acc: 49.11%\n",
            "\t Val. Loss: 7.507 |  Val. Acc: 45.09%\n",
            "LR: 12.331114170575963 | Reg: 7.048354944131062e-06\n"
          ],
          "name": "stdout"
        },
        {
          "output_type": "stream",
          "text": [
            "\n",
            "\n",
            "\n",
            " 40%|████      | 2/5 [00:06<00:09,  3.09s/it]\u001b[A\u001b[A\u001b[A"
          ],
          "name": "stderr"
        },
        {
          "output_type": "stream",
          "text": [
            "Epoch: 02 | Epoch Time: 0m 3s\n",
            "\tTrain Loss: 7.756 | Train Acc: 48.28%\n",
            "\t Val. Loss: 7.054 |  Val. Acc: 45.09%\n",
            "LR: 12.331114170575963 | Reg: 7.048354944131062e-06\n"
          ],
          "name": "stdout"
        },
        {
          "output_type": "stream",
          "text": [
            "\n",
            "\n",
            "\n",
            " 60%|██████    | 3/5 [00:09<00:06,  3.09s/it]\u001b[A\u001b[A\u001b[A"
          ],
          "name": "stderr"
        },
        {
          "output_type": "stream",
          "text": [
            "Epoch: 03 | Epoch Time: 0m 3s\n",
            "\tTrain Loss: 5.228 | Train Acc: 51.85%\n",
            "\t Val. Loss: 12.869 |  Val. Acc: 45.09%\n",
            "LR: 12.331114170575963 | Reg: 7.048354944131062e-06\n"
          ],
          "name": "stdout"
        },
        {
          "output_type": "stream",
          "text": [
            "\n",
            "\n",
            "\n",
            " 80%|████████  | 4/5 [00:12<00:03,  3.09s/it]\u001b[A\u001b[A\u001b[A"
          ],
          "name": "stderr"
        },
        {
          "output_type": "stream",
          "text": [
            "Epoch: 04 | Epoch Time: 0m 3s\n",
            "\tTrain Loss: 8.680 | Train Acc: 51.61%\n",
            "\t Val. Loss: 9.239 |  Val. Acc: 54.91%\n",
            "LR: 12.331114170575963 | Reg: 7.048354944131062e-06\n"
          ],
          "name": "stdout"
        },
        {
          "output_type": "stream",
          "text": [
            "\n",
            "\n",
            "\n",
            "100%|██████████| 5/5 [00:15<00:00,  3.10s/it]\n",
            "\n",
            "\n",
            " 65%|██████▌   | 13/20 [03:23<01:48, 15.56s/it]\u001b[A\u001b[A\n",
            "\n",
            "\n",
            "  0%|          | 0/5 [00:00<?, ?it/s]\u001b[A\u001b[A\u001b[A"
          ],
          "name": "stderr"
        },
        {
          "output_type": "stream",
          "text": [
            "Epoch: 05 | Epoch Time: 0m 3s\n",
            "\tTrain Loss: 6.802 | Train Acc: 48.65%\n",
            "\t Val. Loss: 5.574 |  Val. Acc: 45.09%\n",
            "LR: 12.331114170575963 | Reg: 7.048354944131062e-06\n",
            "-----------------------------------------------------------\n"
          ],
          "name": "stdout"
        },
        {
          "output_type": "stream",
          "text": [
            "\n",
            "\n",
            "\n",
            " 20%|██        | 1/5 [00:03<00:12,  3.09s/it]\u001b[A\u001b[A\u001b[A"
          ],
          "name": "stderr"
        },
        {
          "output_type": "stream",
          "text": [
            "Epoch: 01 | Epoch Time: 0m 3s\n",
            "\tTrain Loss: nan | Train Acc: 49.62%\n",
            "\t Val. Loss: nan |  Val. Acc: 54.91%\n",
            "LR: 561.7667101375225 | Reg: 3.0106542836061857e-05\n"
          ],
          "name": "stdout"
        },
        {
          "output_type": "stream",
          "text": [
            "\n",
            "\n",
            "\n",
            " 40%|████      | 2/5 [00:06<00:09,  3.09s/it]\u001b[A\u001b[A\u001b[A"
          ],
          "name": "stderr"
        },
        {
          "output_type": "stream",
          "text": [
            "Epoch: 02 | Epoch Time: 0m 3s\n",
            "\tTrain Loss: nan | Train Acc: 49.82%\n",
            "\t Val. Loss: nan |  Val. Acc: 54.91%\n",
            "LR: 561.7667101375225 | Reg: 3.0106542836061857e-05\n"
          ],
          "name": "stdout"
        },
        {
          "output_type": "stream",
          "text": [
            "\n",
            "\n",
            "\n",
            " 60%|██████    | 3/5 [00:09<00:06,  3.10s/it]\u001b[A\u001b[A\u001b[A"
          ],
          "name": "stderr"
        },
        {
          "output_type": "stream",
          "text": [
            "Epoch: 03 | Epoch Time: 0m 3s\n",
            "\tTrain Loss: nan | Train Acc: 49.82%\n",
            "\t Val. Loss: nan |  Val. Acc: 54.91%\n",
            "LR: 561.7667101375225 | Reg: 3.0106542836061857e-05\n"
          ],
          "name": "stdout"
        },
        {
          "output_type": "stream",
          "text": [
            "\n",
            "\n",
            "\n",
            " 80%|████████  | 4/5 [00:12<00:03,  3.10s/it]\u001b[A\u001b[A\u001b[A"
          ],
          "name": "stderr"
        },
        {
          "output_type": "stream",
          "text": [
            "Epoch: 04 | Epoch Time: 0m 3s\n",
            "\tTrain Loss: nan | Train Acc: 50.02%\n",
            "\t Val. Loss: nan |  Val. Acc: 54.91%\n",
            "LR: 561.7667101375225 | Reg: 3.0106542836061857e-05\n"
          ],
          "name": "stdout"
        },
        {
          "output_type": "stream",
          "text": [
            "\n",
            "\n",
            "\n",
            "100%|██████████| 5/5 [00:15<00:00,  3.09s/it]\n",
            "\n",
            "\n",
            " 70%|███████   | 14/20 [03:38<01:33, 15.53s/it]\u001b[A\u001b[A\n",
            "\n",
            "\n",
            "  0%|          | 0/5 [00:00<?, ?it/s]\u001b[A\u001b[A\u001b[A"
          ],
          "name": "stderr"
        },
        {
          "output_type": "stream",
          "text": [
            "Epoch: 05 | Epoch Time: 0m 3s\n",
            "\tTrain Loss: nan | Train Acc: 50.02%\n",
            "\t Val. Loss: nan |  Val. Acc: 54.91%\n",
            "LR: 561.7667101375225 | Reg: 3.0106542836061857e-05\n",
            "-----------------------------------------------------------\n"
          ],
          "name": "stdout"
        },
        {
          "output_type": "stream",
          "text": [
            "\n",
            "\n",
            "\n",
            " 20%|██        | 1/5 [00:03<00:12,  3.09s/it]\u001b[A\u001b[A\u001b[A"
          ],
          "name": "stderr"
        },
        {
          "output_type": "stream",
          "text": [
            "Epoch: 01 | Epoch Time: 0m 3s\n",
            "\tTrain Loss: 0.679 | Train Acc: 55.94%\n",
            "\t Val. Loss: 0.629 |  Val. Acc: 72.32%\n",
            "LR: 0.00791686046752233 | Reg: 1.6938552423943578e-05\n"
          ],
          "name": "stdout"
        },
        {
          "output_type": "stream",
          "text": [
            "\n",
            "\n",
            "\n",
            " 40%|████      | 2/5 [00:06<00:09,  3.10s/it]\u001b[A\u001b[A\u001b[A"
          ],
          "name": "stderr"
        },
        {
          "output_type": "stream",
          "text": [
            "Epoch: 02 | Epoch Time: 0m 3s\n",
            "\tTrain Loss: 0.561 | Train Acc: 79.14%\n",
            "\t Val. Loss: 0.411 |  Val. Acc: 88.39%\n",
            "LR: 0.00791686046752233 | Reg: 1.6938552423943578e-05\n"
          ],
          "name": "stdout"
        },
        {
          "output_type": "stream",
          "text": [
            "\n",
            "\n",
            "\n",
            " 60%|██████    | 3/5 [00:09<00:06,  3.09s/it]\u001b[A\u001b[A\u001b[A"
          ],
          "name": "stderr"
        },
        {
          "output_type": "stream",
          "text": [
            "Epoch: 03 | Epoch Time: 0m 3s\n",
            "\tTrain Loss: 0.350 | Train Acc: 89.47%\n",
            "\t Val. Loss: 0.258 |  Val. Acc: 90.62%\n",
            "LR: 0.00791686046752233 | Reg: 1.6938552423943578e-05\n"
          ],
          "name": "stdout"
        },
        {
          "output_type": "stream",
          "text": [
            "\n",
            "\n",
            "\n",
            " 80%|████████  | 4/5 [00:12<00:03,  3.10s/it]\u001b[A\u001b[A\u001b[A"
          ],
          "name": "stderr"
        },
        {
          "output_type": "stream",
          "text": [
            "Epoch: 04 | Epoch Time: 0m 3s\n",
            "\tTrain Loss: 0.333 | Train Acc: 88.43%\n",
            "\t Val. Loss: 0.219 |  Val. Acc: 94.64%\n",
            "LR: 0.00791686046752233 | Reg: 1.6938552423943578e-05\n"
          ],
          "name": "stdout"
        },
        {
          "output_type": "stream",
          "text": [
            "\n",
            "\n",
            "\n",
            "100%|██████████| 5/5 [00:15<00:00,  3.11s/it]\n",
            "\n",
            "\n",
            " 75%|███████▌  | 15/20 [03:54<01:17, 15.53s/it]\u001b[A\u001b[A\n",
            "\n",
            "\n",
            "  0%|          | 0/5 [00:00<?, ?it/s]\u001b[A\u001b[A\u001b[A"
          ],
          "name": "stderr"
        },
        {
          "output_type": "stream",
          "text": [
            "Epoch: 05 | Epoch Time: 0m 3s\n",
            "\tTrain Loss: 0.200 | Train Acc: 93.12%\n",
            "\t Val. Loss: 0.167 |  Val. Acc: 91.96%\n",
            "LR: 0.00791686046752233 | Reg: 1.6938552423943578e-05\n",
            "-----------------------------------------------------------\n"
          ],
          "name": "stdout"
        },
        {
          "output_type": "stream",
          "text": [
            "\n",
            "\n",
            "\n",
            " 20%|██        | 1/5 [00:03<00:12,  3.12s/it]\u001b[A\u001b[A\u001b[A"
          ],
          "name": "stderr"
        },
        {
          "output_type": "stream",
          "text": [
            "Epoch: 01 | Epoch Time: 0m 3s\n",
            "\tTrain Loss: 0.767 | Train Acc: 50.40%\n",
            "\t Val. Loss: 0.708 |  Val. Acc: 45.09%\n",
            "LR: 1.9133408060553572 | Reg: 9.33673778361519e-05\n"
          ],
          "name": "stdout"
        },
        {
          "output_type": "stream",
          "text": [
            "\n",
            "\n",
            "\n",
            " 40%|████      | 2/5 [00:06<00:09,  3.12s/it]\u001b[A\u001b[A\u001b[A"
          ],
          "name": "stderr"
        },
        {
          "output_type": "stream",
          "text": [
            "Epoch: 02 | Epoch Time: 0m 3s\n",
            "\tTrain Loss: 0.744 | Train Acc: 50.29%\n",
            "\t Val. Loss: 1.158 |  Val. Acc: 45.09%\n",
            "LR: 1.9133408060553572 | Reg: 9.33673778361519e-05\n"
          ],
          "name": "stdout"
        },
        {
          "output_type": "stream",
          "text": [
            "\n",
            "\n",
            "\n",
            " 60%|██████    | 3/5 [00:09<00:06,  3.14s/it]\u001b[A\u001b[A\u001b[A"
          ],
          "name": "stderr"
        },
        {
          "output_type": "stream",
          "text": [
            "Epoch: 03 | Epoch Time: 0m 3s\n",
            "\tTrain Loss: 0.762 | Train Acc: 50.73%\n",
            "\t Val. Loss: 0.739 |  Val. Acc: 45.09%\n",
            "LR: 1.9133408060553572 | Reg: 9.33673778361519e-05\n"
          ],
          "name": "stdout"
        },
        {
          "output_type": "stream",
          "text": [
            "\n",
            "\n",
            "\n",
            " 80%|████████  | 4/5 [00:12<00:03,  3.12s/it]\u001b[A\u001b[A\u001b[A"
          ],
          "name": "stderr"
        },
        {
          "output_type": "stream",
          "text": [
            "Epoch: 04 | Epoch Time: 0m 3s\n",
            "\tTrain Loss: 0.770 | Train Acc: 50.39%\n",
            "\t Val. Loss: 0.755 |  Val. Acc: 45.09%\n",
            "LR: 1.9133408060553572 | Reg: 9.33673778361519e-05\n"
          ],
          "name": "stdout"
        },
        {
          "output_type": "stream",
          "text": [
            "\n",
            "\n",
            "\n",
            "100%|██████████| 5/5 [00:15<00:00,  3.12s/it]\n",
            "\n",
            "\n",
            " 80%|████████  | 16/20 [04:09<01:02, 15.55s/it]\u001b[A\u001b[A\n",
            "\n",
            "\n",
            "  0%|          | 0/5 [00:00<?, ?it/s]\u001b[A\u001b[A\u001b[A"
          ],
          "name": "stderr"
        },
        {
          "output_type": "stream",
          "text": [
            "Epoch: 05 | Epoch Time: 0m 3s\n",
            "\tTrain Loss: 0.916 | Train Acc: 50.45%\n",
            "\t Val. Loss: 0.770 |  Val. Acc: 54.91%\n",
            "LR: 1.9133408060553572 | Reg: 9.33673778361519e-05\n",
            "-----------------------------------------------------------\n"
          ],
          "name": "stdout"
        },
        {
          "output_type": "stream",
          "text": [
            "\n",
            "\n",
            "\n",
            " 20%|██        | 1/5 [00:03<00:12,  3.07s/it]\u001b[A\u001b[A\u001b[A"
          ],
          "name": "stderr"
        },
        {
          "output_type": "stream",
          "text": [
            "Epoch: 01 | Epoch Time: 0m 3s\n",
            "\tTrain Loss: nan | Train Acc: 49.23%\n",
            "\t Val. Loss: nan |  Val. Acc: 54.91%\n",
            "LR: 3481.1004589226386 | Reg: 8.147107105034233e-05\n"
          ],
          "name": "stdout"
        },
        {
          "output_type": "stream",
          "text": [
            "\n",
            "\n",
            "\n",
            " 40%|████      | 2/5 [00:06<00:09,  3.09s/it]\u001b[A\u001b[A\u001b[A"
          ],
          "name": "stderr"
        },
        {
          "output_type": "stream",
          "text": [
            "Epoch: 02 | Epoch Time: 0m 3s\n",
            "\tTrain Loss: nan | Train Acc: 49.82%\n",
            "\t Val. Loss: nan |  Val. Acc: 54.91%\n",
            "LR: 3481.1004589226386 | Reg: 8.147107105034233e-05\n"
          ],
          "name": "stdout"
        },
        {
          "output_type": "stream",
          "text": [
            "\n",
            "\n",
            "\n",
            " 60%|██████    | 3/5 [00:09<00:06,  3.09s/it]\u001b[A\u001b[A\u001b[A"
          ],
          "name": "stderr"
        },
        {
          "output_type": "stream",
          "text": [
            "Epoch: 03 | Epoch Time: 0m 3s\n",
            "\tTrain Loss: nan | Train Acc: 50.02%\n",
            "\t Val. Loss: nan |  Val. Acc: 54.91%\n",
            "LR: 3481.1004589226386 | Reg: 8.147107105034233e-05\n"
          ],
          "name": "stdout"
        },
        {
          "output_type": "stream",
          "text": [
            "\n",
            "\n",
            "\n",
            " 80%|████████  | 4/5 [00:12<00:03,  3.09s/it]\u001b[A\u001b[A\u001b[A"
          ],
          "name": "stderr"
        },
        {
          "output_type": "stream",
          "text": [
            "Epoch: 04 | Epoch Time: 0m 3s\n",
            "\tTrain Loss: nan | Train Acc: 50.02%\n",
            "\t Val. Loss: nan |  Val. Acc: 54.91%\n",
            "LR: 3481.1004589226386 | Reg: 8.147107105034233e-05\n"
          ],
          "name": "stdout"
        },
        {
          "output_type": "stream",
          "text": [
            "\n",
            "\n",
            "\n",
            "100%|██████████| 5/5 [00:15<00:00,  3.10s/it]\n",
            "\n",
            "\n",
            " 85%|████████▌ | 17/20 [04:25<00:46, 15.54s/it]\u001b[A\u001b[A\n",
            "\n",
            "\n",
            "  0%|          | 0/5 [00:00<?, ?it/s]\u001b[A\u001b[A\u001b[A"
          ],
          "name": "stderr"
        },
        {
          "output_type": "stream",
          "text": [
            "Epoch: 05 | Epoch Time: 0m 3s\n",
            "\tTrain Loss: nan | Train Acc: 49.82%\n",
            "\t Val. Loss: nan |  Val. Acc: 54.91%\n",
            "LR: 3481.1004589226386 | Reg: 8.147107105034233e-05\n",
            "-----------------------------------------------------------\n"
          ],
          "name": "stdout"
        },
        {
          "output_type": "stream",
          "text": [
            "\n",
            "\n",
            "\n",
            " 20%|██        | 1/5 [00:03<00:12,  3.07s/it]\u001b[A\u001b[A\u001b[A"
          ],
          "name": "stderr"
        },
        {
          "output_type": "stream",
          "text": [
            "Epoch: 01 | Epoch Time: 0m 3s\n",
            "\tTrain Loss: 0.851 | Train Acc: 52.98%\n",
            "\t Val. Loss: 0.808 |  Val. Acc: 45.09%\n",
            "LR: 0.6849184747256508 | Reg: 5.193918676766088e-06\n"
          ],
          "name": "stdout"
        },
        {
          "output_type": "stream",
          "text": [
            "\n",
            "\n",
            "\n",
            " 40%|████      | 2/5 [00:06<00:09,  3.09s/it]\u001b[A\u001b[A\u001b[A"
          ],
          "name": "stderr"
        },
        {
          "output_type": "stream",
          "text": [
            "Epoch: 02 | Epoch Time: 0m 3s\n",
            "\tTrain Loss: 0.724 | Train Acc: 49.17%\n",
            "\t Val. Loss: 0.746 |  Val. Acc: 45.09%\n",
            "LR: 0.6849184747256508 | Reg: 5.193918676766088e-06\n"
          ],
          "name": "stdout"
        },
        {
          "output_type": "stream",
          "text": [
            "\n",
            "\n",
            "\n",
            " 60%|██████    | 3/5 [00:09<00:06,  3.09s/it]\u001b[A\u001b[A\u001b[A"
          ],
          "name": "stderr"
        },
        {
          "output_type": "stream",
          "text": [
            "Epoch: 03 | Epoch Time: 0m 3s\n",
            "\tTrain Loss: 0.713 | Train Acc: 49.66%\n",
            "\t Val. Loss: 0.699 |  Val. Acc: 45.09%\n",
            "LR: 0.6849184747256508 | Reg: 5.193918676766088e-06\n"
          ],
          "name": "stdout"
        },
        {
          "output_type": "stream",
          "text": [
            "\n",
            "\n",
            "\n",
            " 80%|████████  | 4/5 [00:12<00:03,  3.09s/it]\u001b[A\u001b[A\u001b[A"
          ],
          "name": "stderr"
        },
        {
          "output_type": "stream",
          "text": [
            "Epoch: 04 | Epoch Time: 0m 3s\n",
            "\tTrain Loss: 0.709 | Train Acc: 47.93%\n",
            "\t Val. Loss: 0.695 |  Val. Acc: 54.91%\n",
            "LR: 0.6849184747256508 | Reg: 5.193918676766088e-06\n"
          ],
          "name": "stdout"
        },
        {
          "output_type": "stream",
          "text": [
            "\n",
            "\n",
            "\n",
            "100%|██████████| 5/5 [00:15<00:00,  3.09s/it]\n",
            "\n",
            "\n",
            " 90%|█████████ | 18/20 [04:40<00:31, 15.52s/it]\u001b[A\u001b[A\n",
            "\n",
            "\n",
            "  0%|          | 0/5 [00:00<?, ?it/s]\u001b[A\u001b[A\u001b[A"
          ],
          "name": "stderr"
        },
        {
          "output_type": "stream",
          "text": [
            "Epoch: 05 | Epoch Time: 0m 3s\n",
            "\tTrain Loss: 0.733 | Train Acc: 50.45%\n",
            "\t Val. Loss: 0.716 |  Val. Acc: 54.91%\n",
            "LR: 0.6849184747256508 | Reg: 5.193918676766088e-06\n",
            "-----------------------------------------------------------\n"
          ],
          "name": "stdout"
        },
        {
          "output_type": "stream",
          "text": [
            "\n",
            "\n",
            "\n",
            " 20%|██        | 1/5 [00:03<00:12,  3.11s/it]\u001b[A\u001b[A\u001b[A"
          ],
          "name": "stderr"
        },
        {
          "output_type": "stream",
          "text": [
            "Epoch: 01 | Epoch Time: 0m 3s\n",
            "\tTrain Loss: nan | Train Acc: 49.47%\n",
            "\t Val. Loss: nan |  Val. Acc: 54.91%\n",
            "LR: 1374.6271822116028 | Reg: 2.131224189749166e-06\n"
          ],
          "name": "stdout"
        },
        {
          "output_type": "stream",
          "text": [
            "\n",
            "\n",
            "\n",
            " 40%|████      | 2/5 [00:06<00:09,  3.10s/it]\u001b[A\u001b[A\u001b[A"
          ],
          "name": "stderr"
        },
        {
          "output_type": "stream",
          "text": [
            "Epoch: 02 | Epoch Time: 0m 3s\n",
            "\tTrain Loss: nan | Train Acc: 49.82%\n",
            "\t Val. Loss: nan |  Val. Acc: 54.91%\n",
            "LR: 1374.6271822116028 | Reg: 2.131224189749166e-06\n"
          ],
          "name": "stdout"
        },
        {
          "output_type": "stream",
          "text": [
            "\n",
            "\n",
            "\n",
            " 60%|██████    | 3/5 [00:09<00:06,  3.10s/it]\u001b[A\u001b[A\u001b[A"
          ],
          "name": "stderr"
        },
        {
          "output_type": "stream",
          "text": [
            "Epoch: 03 | Epoch Time: 0m 3s\n",
            "\tTrain Loss: nan | Train Acc: 49.62%\n",
            "\t Val. Loss: nan |  Val. Acc: 54.91%\n",
            "LR: 1374.6271822116028 | Reg: 2.131224189749166e-06\n"
          ],
          "name": "stdout"
        },
        {
          "output_type": "stream",
          "text": [
            "\n",
            "\n",
            "\n",
            " 80%|████████  | 4/5 [00:12<00:03,  3.09s/it]\u001b[A\u001b[A\u001b[A"
          ],
          "name": "stderr"
        },
        {
          "output_type": "stream",
          "text": [
            "Epoch: 04 | Epoch Time: 0m 3s\n",
            "\tTrain Loss: nan | Train Acc: 50.02%\n",
            "\t Val. Loss: nan |  Val. Acc: 54.91%\n",
            "LR: 1374.6271822116028 | Reg: 2.131224189749166e-06\n"
          ],
          "name": "stdout"
        },
        {
          "output_type": "stream",
          "text": [
            "\n",
            "\n",
            "\n",
            "100%|██████████| 5/5 [00:15<00:00,  3.09s/it]\n",
            "\n",
            "\n",
            " 95%|█████████▌| 19/20 [04:56<00:15, 15.50s/it]\u001b[A\u001b[A\n",
            "\n",
            "\n",
            "  0%|          | 0/5 [00:00<?, ?it/s]\u001b[A\u001b[A\u001b[A"
          ],
          "name": "stderr"
        },
        {
          "output_type": "stream",
          "text": [
            "Epoch: 05 | Epoch Time: 0m 3s\n",
            "\tTrain Loss: nan | Train Acc: 49.82%\n",
            "\t Val. Loss: nan |  Val. Acc: 54.91%\n",
            "LR: 1374.6271822116028 | Reg: 2.131224189749166e-06\n",
            "-----------------------------------------------------------\n"
          ],
          "name": "stdout"
        },
        {
          "output_type": "stream",
          "text": [
            "\n",
            "\n",
            "\n",
            " 20%|██        | 1/5 [00:03<00:12,  3.11s/it]\u001b[A\u001b[A\u001b[A"
          ],
          "name": "stderr"
        },
        {
          "output_type": "stream",
          "text": [
            "Epoch: 01 | Epoch Time: 0m 3s\n",
            "\tTrain Loss: 2288151878.052 | Train Acc: 48.70%\n",
            "\t Val. Loss: 18986733.786 |  Val. Acc: 54.91%\n",
            "LR: 32.73914448848361 | Reg: 0.00017474358920171242\n"
          ],
          "name": "stdout"
        },
        {
          "output_type": "stream",
          "text": [
            "\n",
            "\n",
            "\n",
            " 40%|████      | 2/5 [00:06<00:09,  3.10s/it]\u001b[A\u001b[A\u001b[A"
          ],
          "name": "stderr"
        },
        {
          "output_type": "stream",
          "text": [
            "Epoch: 02 | Epoch Time: 0m 3s\n",
            "\tTrain Loss: nan | Train Acc: 50.02%\n",
            "\t Val. Loss: nan |  Val. Acc: 54.91%\n",
            "LR: 32.73914448848361 | Reg: 0.00017474358920171242\n"
          ],
          "name": "stdout"
        },
        {
          "output_type": "stream",
          "text": [
            "\n",
            "\n",
            "\n",
            " 60%|██████    | 3/5 [00:09<00:06,  3.09s/it]\u001b[A\u001b[A\u001b[A"
          ],
          "name": "stderr"
        },
        {
          "output_type": "stream",
          "text": [
            "Epoch: 03 | Epoch Time: 0m 3s\n",
            "\tTrain Loss: nan | Train Acc: 50.02%\n",
            "\t Val. Loss: nan |  Val. Acc: 54.91%\n",
            "LR: 32.73914448848361 | Reg: 0.00017474358920171242\n"
          ],
          "name": "stdout"
        },
        {
          "output_type": "stream",
          "text": [
            "\n",
            "\n",
            "\n",
            " 80%|████████  | 4/5 [00:12<00:03,  3.09s/it]\u001b[A\u001b[A\u001b[A"
          ],
          "name": "stderr"
        },
        {
          "output_type": "stream",
          "text": [
            "Epoch: 04 | Epoch Time: 0m 3s\n",
            "\tTrain Loss: nan | Train Acc: 50.02%\n",
            "\t Val. Loss: nan |  Val. Acc: 54.91%\n",
            "LR: 32.73914448848361 | Reg: 0.00017474358920171242\n"
          ],
          "name": "stdout"
        },
        {
          "output_type": "stream",
          "text": [
            "\n",
            "\n",
            "\n",
            "100%|██████████| 5/5 [00:15<00:00,  3.08s/it]\n",
            "\n",
            "\n",
            "100%|██████████| 20/20 [05:11<00:00, 15.59s/it]"
          ],
          "name": "stderr"
        },
        {
          "output_type": "stream",
          "text": [
            "Epoch: 05 | Epoch Time: 0m 3s\n",
            "\tTrain Loss: nan | Train Acc: 49.82%\n",
            "\t Val. Loss: nan |  Val. Acc: 54.91%\n",
            "LR: 32.73914448848361 | Reg: 0.00017474358920171242\n",
            "-----------------------------------------------------------\n"
          ],
          "name": "stdout"
        },
        {
          "output_type": "stream",
          "text": [
            "\n"
          ],
          "name": "stderr"
        }
      ]
    },
    {
      "cell_type": "markdown",
      "metadata": {
        "id": "Fc45_CzHsGy_"
      },
      "source": [
        "#H2 - FINE SEARCH"
      ]
    },
    {
      "cell_type": "code",
      "metadata": {
        "id": "nJ9LWnyKaNRC",
        "colab": {
          "base_uri": "https://localhost:8080/",
          "height": 1000
        },
        "outputId": "b8b5438d-90d4-4431-be00-af511eb33a55"
      },
      "source": [
        "max_count = 10\n",
        "\n",
        "for count in tqdm(range(max_count)):\n",
        "  LR = 10**random.uniform(-4,-2)\n",
        "  reg = 10**random.uniform(-3,-5)\n",
        "  FINE_TRAIN(train_data,valid_data,device,optimizer='SGD',no_epochs=5,LR=LR,reg=reg)\n",
        "  print(\"-----------------------------------------------------------\")"
      ],
      "execution_count": null,
      "outputs": [
        {
          "output_type": "stream",
          "text": [
            "\n",
            "\n",
            "  0%|          | 0/10 [00:00<?, ?it/s]\u001b[A\u001b[A\n",
            "\n",
            "\n",
            "  0%|          | 0/5 [00:00<?, ?it/s]\u001b[A\u001b[A\u001b[A\n",
            "\n",
            "\n",
            " 20%|██        | 1/5 [00:03<00:12,  3.11s/it]\u001b[A\u001b[A\u001b[A"
          ],
          "name": "stderr"
        },
        {
          "output_type": "stream",
          "text": [
            "Epoch: 01 | Epoch Time: 0m 3s\n",
            "\tTrain Loss: 0.695 | Train Acc: 50.21%\n",
            "\t Val. Loss: 0.691 |  Val. Acc: 54.91%\n",
            "LR: 0.0031441132469168112 | Reg: 7.304208193953323e-05\n"
          ],
          "name": "stdout"
        },
        {
          "output_type": "stream",
          "text": [
            "\n",
            "\n",
            "\n",
            " 40%|████      | 2/5 [00:06<00:09,  3.11s/it]\u001b[A\u001b[A\u001b[A"
          ],
          "name": "stderr"
        },
        {
          "output_type": "stream",
          "text": [
            "Epoch: 02 | Epoch Time: 0m 3s\n",
            "\tTrain Loss: 0.693 | Train Acc: 50.60%\n",
            "\t Val. Loss: 0.692 |  Val. Acc: 57.14%\n",
            "LR: 0.0031441132469168112 | Reg: 7.304208193953323e-05\n"
          ],
          "name": "stdout"
        },
        {
          "output_type": "stream",
          "text": [
            "\n",
            "\n",
            "\n",
            " 60%|██████    | 3/5 [00:09<00:06,  3.09s/it]\u001b[A\u001b[A\u001b[A"
          ],
          "name": "stderr"
        },
        {
          "output_type": "stream",
          "text": [
            "Epoch: 03 | Epoch Time: 0m 3s\n",
            "\tTrain Loss: 0.692 | Train Acc: 50.34%\n",
            "\t Val. Loss: 0.691 |  Val. Acc: 67.86%\n",
            "LR: 0.0031441132469168112 | Reg: 7.304208193953323e-05\n"
          ],
          "name": "stdout"
        },
        {
          "output_type": "stream",
          "text": [
            "\n",
            "\n",
            "\n",
            " 80%|████████  | 4/5 [00:12<00:03,  3.08s/it]\u001b[A\u001b[A\u001b[A"
          ],
          "name": "stderr"
        },
        {
          "output_type": "stream",
          "text": [
            "Epoch: 04 | Epoch Time: 0m 3s\n",
            "\tTrain Loss: 0.691 | Train Acc: 53.16%\n",
            "\t Val. Loss: 0.690 |  Val. Acc: 44.20%\n",
            "LR: 0.0031441132469168112 | Reg: 7.304208193953323e-05\n"
          ],
          "name": "stdout"
        },
        {
          "output_type": "stream",
          "text": [
            "\n",
            "\n",
            "\n",
            "100%|██████████| 5/5 [00:15<00:00,  3.07s/it]\n",
            "\n",
            "\n",
            " 10%|█         | 1/10 [00:15<02:18, 15.37s/it]\u001b[A\u001b[A\n",
            "\n",
            "\n",
            "  0%|          | 0/5 [00:00<?, ?it/s]\u001b[A\u001b[A\u001b[A"
          ],
          "name": "stderr"
        },
        {
          "output_type": "stream",
          "text": [
            "Epoch: 05 | Epoch Time: 0m 3s\n",
            "\tTrain Loss: 0.688 | Train Acc: 63.10%\n",
            "\t Val. Loss: 0.684 |  Val. Acc: 80.80%\n",
            "LR: 0.0031441132469168112 | Reg: 7.304208193953323e-05\n",
            "-----------------------------------------------------------\n"
          ],
          "name": "stdout"
        },
        {
          "output_type": "stream",
          "text": [
            "\n",
            "\n",
            "\n",
            " 20%|██        | 1/5 [00:03<00:12,  3.05s/it]\u001b[A\u001b[A\u001b[A"
          ],
          "name": "stderr"
        },
        {
          "output_type": "stream",
          "text": [
            "Epoch: 01 | Epoch Time: 0m 3s\n",
            "\tTrain Loss: 0.694 | Train Acc: 49.98%\n",
            "\t Val. Loss: 0.698 |  Val. Acc: 45.09%\n",
            "LR: 0.00046503052257083183 | Reg: 0.0009439422942567006\n"
          ],
          "name": "stdout"
        },
        {
          "output_type": "stream",
          "text": [
            "\n",
            "\n",
            "\n",
            " 40%|████      | 2/5 [00:06<00:09,  3.06s/it]\u001b[A\u001b[A\u001b[A"
          ],
          "name": "stderr"
        },
        {
          "output_type": "stream",
          "text": [
            "Epoch: 02 | Epoch Time: 0m 3s\n",
            "\tTrain Loss: 0.693 | Train Acc: 49.98%\n",
            "\t Val. Loss: 0.696 |  Val. Acc: 45.09%\n",
            "LR: 0.00046503052257083183 | Reg: 0.0009439422942567006\n"
          ],
          "name": "stdout"
        },
        {
          "output_type": "stream",
          "text": [
            "\n",
            "\n",
            "\n",
            " 60%|██████    | 3/5 [00:09<00:06,  3.12s/it]\u001b[A\u001b[A\u001b[A"
          ],
          "name": "stderr"
        },
        {
          "output_type": "stream",
          "text": [
            "Epoch: 03 | Epoch Time: 0m 3s\n",
            "\tTrain Loss: 0.692 | Train Acc: 50.18%\n",
            "\t Val. Loss: 0.694 |  Val. Acc: 45.09%\n",
            "LR: 0.00046503052257083183 | Reg: 0.0009439422942567006\n"
          ],
          "name": "stdout"
        },
        {
          "output_type": "stream",
          "text": [
            "\n",
            "\n",
            "\n",
            " 80%|████████  | 4/5 [00:12<00:03,  3.13s/it]\u001b[A\u001b[A\u001b[A"
          ],
          "name": "stderr"
        },
        {
          "output_type": "stream",
          "text": [
            "Epoch: 04 | Epoch Time: 0m 3s\n",
            "\tTrain Loss: 0.691 | Train Acc: 49.79%\n",
            "\t Val. Loss: 0.693 |  Val. Acc: 45.09%\n",
            "LR: 0.00046503052257083183 | Reg: 0.0009439422942567006\n"
          ],
          "name": "stdout"
        },
        {
          "output_type": "stream",
          "text": [
            "\n",
            "\n",
            "\n",
            "100%|██████████| 5/5 [00:15<00:00,  3.12s/it]\n",
            "\n",
            "\n",
            " 20%|██        | 2/10 [00:31<02:03, 15.46s/it]\u001b[A\u001b[A\n",
            "\n",
            "\n",
            "  0%|          | 0/5 [00:00<?, ?it/s]\u001b[A\u001b[A\u001b[A"
          ],
          "name": "stderr"
        },
        {
          "output_type": "stream",
          "text": [
            "Epoch: 05 | Epoch Time: 0m 3s\n",
            "\tTrain Loss: 0.690 | Train Acc: 50.38%\n",
            "\t Val. Loss: 0.691 |  Val. Acc: 45.09%\n",
            "LR: 0.00046503052257083183 | Reg: 0.0009439422942567006\n",
            "-----------------------------------------------------------\n"
          ],
          "name": "stdout"
        },
        {
          "output_type": "stream",
          "text": [
            "\n",
            "\n",
            "\n",
            " 20%|██        | 1/5 [00:03<00:12,  3.08s/it]\u001b[A\u001b[A\u001b[A"
          ],
          "name": "stderr"
        },
        {
          "output_type": "stream",
          "text": [
            "Epoch: 01 | Epoch Time: 0m 3s\n",
            "\tTrain Loss: 0.693 | Train Acc: 49.73%\n",
            "\t Val. Loss: 0.693 |  Val. Acc: 45.09%\n",
            "LR: 0.00016906739079283428 | Reg: 0.0004114748571306119\n"
          ],
          "name": "stdout"
        },
        {
          "output_type": "stream",
          "text": [
            "\n",
            "\n",
            "\n",
            " 40%|████      | 2/5 [00:06<00:09,  3.08s/it]\u001b[A\u001b[A\u001b[A"
          ],
          "name": "stderr"
        },
        {
          "output_type": "stream",
          "text": [
            "Epoch: 02 | Epoch Time: 0m 3s\n",
            "\tTrain Loss: 0.692 | Train Acc: 49.73%\n",
            "\t Val. Loss: 0.693 |  Val. Acc: 45.09%\n",
            "LR: 0.00016906739079283428 | Reg: 0.0004114748571306119\n"
          ],
          "name": "stdout"
        },
        {
          "output_type": "stream",
          "text": [
            "\n",
            "\n",
            "\n",
            " 60%|██████    | 3/5 [00:09<00:06,  3.07s/it]\u001b[A\u001b[A\u001b[A"
          ],
          "name": "stderr"
        },
        {
          "output_type": "stream",
          "text": [
            "Epoch: 03 | Epoch Time: 0m 3s\n",
            "\tTrain Loss: 0.692 | Train Acc: 50.43%\n",
            "\t Val. Loss: 0.693 |  Val. Acc: 44.64%\n",
            "LR: 0.00016906739079283428 | Reg: 0.0004114748571306119\n"
          ],
          "name": "stdout"
        },
        {
          "output_type": "stream",
          "text": [
            "\n",
            "\n",
            "\n",
            " 80%|████████  | 4/5 [00:12<00:03,  3.05s/it]\u001b[A\u001b[A\u001b[A"
          ],
          "name": "stderr"
        },
        {
          "output_type": "stream",
          "text": [
            "Epoch: 04 | Epoch Time: 0m 3s\n",
            "\tTrain Loss: 0.692 | Train Acc: 49.56%\n",
            "\t Val. Loss: 0.692 |  Val. Acc: 44.20%\n",
            "LR: 0.00016906739079283428 | Reg: 0.0004114748571306119\n"
          ],
          "name": "stdout"
        },
        {
          "output_type": "stream",
          "text": [
            "\n",
            "\n",
            "\n",
            "100%|██████████| 5/5 [00:15<00:00,  3.06s/it]\n",
            "\n",
            "\n",
            " 30%|███       | 3/10 [00:46<01:47, 15.41s/it]\u001b[A\u001b[A\n",
            "\n",
            "\n",
            "  0%|          | 0/5 [00:00<?, ?it/s]\u001b[A\u001b[A\u001b[A"
          ],
          "name": "stderr"
        },
        {
          "output_type": "stream",
          "text": [
            "Epoch: 05 | Epoch Time: 0m 3s\n",
            "\tTrain Loss: 0.692 | Train Acc: 52.12%\n",
            "\t Val. Loss: 0.692 |  Val. Acc: 46.43%\n",
            "LR: 0.00016906739079283428 | Reg: 0.0004114748571306119\n",
            "-----------------------------------------------------------\n"
          ],
          "name": "stdout"
        },
        {
          "output_type": "stream",
          "text": [
            "\n",
            "\n",
            "\n",
            " 20%|██        | 1/5 [00:03<00:12,  3.06s/it]\u001b[A\u001b[A\u001b[A"
          ],
          "name": "stderr"
        },
        {
          "output_type": "stream",
          "text": [
            "Epoch: 01 | Epoch Time: 0m 3s\n",
            "\tTrain Loss: 0.690 | Train Acc: 54.13%\n",
            "\t Val. Loss: 0.686 |  Val. Acc: 59.38%\n",
            "LR: 0.001123482783894902 | Reg: 3.629003472284162e-05\n"
          ],
          "name": "stdout"
        },
        {
          "output_type": "stream",
          "text": [
            "\n",
            "\n",
            "\n",
            " 40%|████      | 2/5 [00:06<00:09,  3.07s/it]\u001b[A\u001b[A\u001b[A"
          ],
          "name": "stderr"
        },
        {
          "output_type": "stream",
          "text": [
            "Epoch: 02 | Epoch Time: 0m 3s\n",
            "\tTrain Loss: 0.685 | Train Acc: 53.38%\n",
            "\t Val. Loss: 0.678 |  Val. Acc: 60.71%\n",
            "LR: 0.001123482783894902 | Reg: 3.629003472284162e-05\n"
          ],
          "name": "stdout"
        },
        {
          "output_type": "stream",
          "text": [
            "\n",
            "\n",
            "\n",
            " 60%|██████    | 3/5 [00:09<00:06,  3.07s/it]\u001b[A\u001b[A\u001b[A"
          ],
          "name": "stderr"
        },
        {
          "output_type": "stream",
          "text": [
            "Epoch: 03 | Epoch Time: 0m 3s\n",
            "\tTrain Loss: 0.678 | Train Acc: 62.13%\n",
            "\t Val. Loss: 0.669 |  Val. Acc: 67.86%\n",
            "LR: 0.001123482783894902 | Reg: 3.629003472284162e-05\n"
          ],
          "name": "stdout"
        },
        {
          "output_type": "stream",
          "text": [
            "\n",
            "\n",
            "\n",
            " 80%|████████  | 4/5 [00:12<00:03,  3.08s/it]\u001b[A\u001b[A\u001b[A"
          ],
          "name": "stderr"
        },
        {
          "output_type": "stream",
          "text": [
            "Epoch: 04 | Epoch Time: 0m 3s\n",
            "\tTrain Loss: 0.669 | Train Acc: 64.44%\n",
            "\t Val. Loss: 0.654 |  Val. Acc: 70.54%\n",
            "LR: 0.001123482783894902 | Reg: 3.629003472284162e-05\n"
          ],
          "name": "stdout"
        },
        {
          "output_type": "stream",
          "text": [
            "\n",
            "\n",
            "\n",
            "100%|██████████| 5/5 [00:15<00:00,  3.08s/it]\n",
            "\n",
            "\n",
            " 40%|████      | 4/10 [01:01<01:32, 15.41s/it]\u001b[A\u001b[A\n",
            "\n",
            "\n",
            "  0%|          | 0/5 [00:00<?, ?it/s]\u001b[A\u001b[A\u001b[A"
          ],
          "name": "stderr"
        },
        {
          "output_type": "stream",
          "text": [
            "Epoch: 05 | Epoch Time: 0m 3s\n",
            "\tTrain Loss: 0.654 | Train Acc: 68.12%\n",
            "\t Val. Loss: 0.634 |  Val. Acc: 72.77%\n",
            "LR: 0.001123482783894902 | Reg: 3.629003472284162e-05\n",
            "-----------------------------------------------------------\n"
          ],
          "name": "stdout"
        },
        {
          "output_type": "stream",
          "text": [
            "\n",
            "\n",
            "\n",
            " 20%|██        | 1/5 [00:03<00:12,  3.06s/it]\u001b[A\u001b[A\u001b[A"
          ],
          "name": "stderr"
        },
        {
          "output_type": "stream",
          "text": [
            "Epoch: 01 | Epoch Time: 0m 3s\n",
            "\tTrain Loss: 0.694 | Train Acc: 49.59%\n",
            "\t Val. Loss: 0.694 |  Val. Acc: 45.09%\n",
            "LR: 0.0002619940002188523 | Reg: 0.00016607716863245025\n"
          ],
          "name": "stdout"
        },
        {
          "output_type": "stream",
          "text": [
            "\n",
            "\n",
            "\n",
            " 40%|████      | 2/5 [00:06<00:09,  3.06s/it]\u001b[A\u001b[A\u001b[A"
          ],
          "name": "stderr"
        },
        {
          "output_type": "stream",
          "text": [
            "Epoch: 02 | Epoch Time: 0m 3s\n",
            "\tTrain Loss: 0.693 | Train Acc: 50.02%\n",
            "\t Val. Loss: 0.693 |  Val. Acc: 45.09%\n",
            "LR: 0.0002619940002188523 | Reg: 0.00016607716863245025\n"
          ],
          "name": "stdout"
        },
        {
          "output_type": "stream",
          "text": [
            "\n",
            "\n",
            "\n",
            " 60%|██████    | 3/5 [00:09<00:06,  3.05s/it]\u001b[A\u001b[A\u001b[A"
          ],
          "name": "stderr"
        },
        {
          "output_type": "stream",
          "text": [
            "Epoch: 03 | Epoch Time: 0m 3s\n",
            "\tTrain Loss: 0.693 | Train Acc: 49.30%\n",
            "\t Val. Loss: 0.693 |  Val. Acc: 44.64%\n",
            "LR: 0.0002619940002188523 | Reg: 0.00016607716863245025\n"
          ],
          "name": "stdout"
        },
        {
          "output_type": "stream",
          "text": [
            "\n",
            "\n",
            "\n",
            " 80%|████████  | 4/5 [00:12<00:03,  3.05s/it]\u001b[A\u001b[A\u001b[A"
          ],
          "name": "stderr"
        },
        {
          "output_type": "stream",
          "text": [
            "Epoch: 04 | Epoch Time: 0m 3s\n",
            "\tTrain Loss: 0.692 | Train Acc: 49.94%\n",
            "\t Val. Loss: 0.693 |  Val. Acc: 44.64%\n",
            "LR: 0.0002619940002188523 | Reg: 0.00016607716863245025\n"
          ],
          "name": "stdout"
        },
        {
          "output_type": "stream",
          "text": [
            "\n",
            "\n",
            "\n",
            "100%|██████████| 5/5 [00:15<00:00,  3.06s/it]\n",
            "\n",
            "\n",
            " 50%|█████     | 5/10 [01:17<01:16, 15.38s/it]\u001b[A\u001b[A\n",
            "\n",
            "\n",
            "  0%|          | 0/5 [00:00<?, ?it/s]\u001b[A\u001b[A\u001b[A"
          ],
          "name": "stderr"
        },
        {
          "output_type": "stream",
          "text": [
            "Epoch: 05 | Epoch Time: 0m 3s\n",
            "\tTrain Loss: 0.692 | Train Acc: 55.31%\n",
            "\t Val. Loss: 0.692 |  Val. Acc: 62.05%\n",
            "LR: 0.0002619940002188523 | Reg: 0.00016607716863245025\n",
            "-----------------------------------------------------------\n"
          ],
          "name": "stdout"
        },
        {
          "output_type": "stream",
          "text": [
            "\n",
            "\n",
            "\n",
            " 20%|██        | 1/5 [00:03<00:12,  3.08s/it]\u001b[A\u001b[A\u001b[A"
          ],
          "name": "stderr"
        },
        {
          "output_type": "stream",
          "text": [
            "Epoch: 01 | Epoch Time: 0m 3s\n",
            "\tTrain Loss: 0.688 | Train Acc: 58.82%\n",
            "\t Val. Loss: 0.671 |  Val. Acc: 79.02%\n",
            "LR: 0.007461627791541241 | Reg: 0.0001580451045434134\n"
          ],
          "name": "stdout"
        },
        {
          "output_type": "stream",
          "text": [
            "\n",
            "\n",
            "\n",
            " 40%|████      | 2/5 [00:06<00:09,  3.09s/it]\u001b[A\u001b[A\u001b[A"
          ],
          "name": "stderr"
        },
        {
          "output_type": "stream",
          "text": [
            "Epoch: 02 | Epoch Time: 0m 3s\n",
            "\tTrain Loss: 0.550 | Train Acc: 83.00%\n",
            "\t Val. Loss: 0.291 |  Val. Acc: 90.62%\n",
            "LR: 0.007461627791541241 | Reg: 0.0001580451045434134\n"
          ],
          "name": "stdout"
        },
        {
          "output_type": "stream",
          "text": [
            "\n",
            "\n",
            "\n",
            " 60%|██████    | 3/5 [00:09<00:06,  3.09s/it]\u001b[A\u001b[A\u001b[A"
          ],
          "name": "stderr"
        },
        {
          "output_type": "stream",
          "text": [
            "Epoch: 03 | Epoch Time: 0m 3s\n",
            "\tTrain Loss: 0.332 | Train Acc: 87.94%\n",
            "\t Val. Loss: 0.258 |  Val. Acc: 93.75%\n",
            "LR: 0.007461627791541241 | Reg: 0.0001580451045434134\n"
          ],
          "name": "stdout"
        },
        {
          "output_type": "stream",
          "text": [
            "\n",
            "\n",
            "\n",
            " 80%|████████  | 4/5 [00:12<00:03,  3.08s/it]\u001b[A\u001b[A\u001b[A"
          ],
          "name": "stderr"
        },
        {
          "output_type": "stream",
          "text": [
            "Epoch: 04 | Epoch Time: 0m 3s\n",
            "\tTrain Loss: 0.209 | Train Acc: 92.54%\n",
            "\t Val. Loss: 0.195 |  Val. Acc: 91.96%\n",
            "LR: 0.007461627791541241 | Reg: 0.0001580451045434134\n"
          ],
          "name": "stdout"
        },
        {
          "output_type": "stream",
          "text": [
            "\n",
            "\n",
            "\n",
            "100%|██████████| 5/5 [00:15<00:00,  3.08s/it]\n",
            "\n",
            "\n",
            " 60%|██████    | 6/10 [01:32<01:01, 15.38s/it]\u001b[A\u001b[A\n",
            "\n",
            "\n",
            "  0%|          | 0/5 [00:00<?, ?it/s]\u001b[A\u001b[A\u001b[A"
          ],
          "name": "stderr"
        },
        {
          "output_type": "stream",
          "text": [
            "Epoch: 05 | Epoch Time: 0m 3s\n",
            "\tTrain Loss: 0.171 | Train Acc: 93.42%\n",
            "\t Val. Loss: 0.124 |  Val. Acc: 94.64%\n",
            "LR: 0.007461627791541241 | Reg: 0.0001580451045434134\n",
            "-----------------------------------------------------------\n"
          ],
          "name": "stdout"
        },
        {
          "output_type": "stream",
          "text": [
            "\n",
            "\n",
            "\n",
            " 20%|██        | 1/5 [00:03<00:12,  3.08s/it]\u001b[A\u001b[A\u001b[A"
          ],
          "name": "stderr"
        },
        {
          "output_type": "stream",
          "text": [
            "Epoch: 01 | Epoch Time: 0m 3s\n",
            "\tTrain Loss: 0.691 | Train Acc: 53.56%\n",
            "\t Val. Loss: 0.685 |  Val. Acc: 77.23%\n",
            "LR: 0.002669427211103532 | Reg: 5.794703640198578e-05\n"
          ],
          "name": "stdout"
        },
        {
          "output_type": "stream",
          "text": [
            "\n",
            "\n",
            "\n",
            " 40%|████      | 2/5 [00:06<00:09,  3.07s/it]\u001b[A\u001b[A\u001b[A"
          ],
          "name": "stderr"
        },
        {
          "output_type": "stream",
          "text": [
            "Epoch: 02 | Epoch Time: 0m 3s\n",
            "\tTrain Loss: 0.678 | Train Acc: 75.57%\n",
            "\t Val. Loss: 0.659 |  Val. Acc: 73.21%\n",
            "LR: 0.002669427211103532 | Reg: 5.794703640198578e-05\n"
          ],
          "name": "stdout"
        },
        {
          "output_type": "stream",
          "text": [
            "\n",
            "\n",
            "\n",
            " 60%|██████    | 3/5 [00:09<00:06,  3.07s/it]\u001b[A\u001b[A\u001b[A"
          ],
          "name": "stderr"
        },
        {
          "output_type": "stream",
          "text": [
            "Epoch: 03 | Epoch Time: 0m 3s\n",
            "\tTrain Loss: 0.645 | Train Acc: 70.72%\n",
            "\t Val. Loss: 0.599 |  Val. Acc: 79.02%\n",
            "LR: 0.002669427211103532 | Reg: 5.794703640198578e-05\n"
          ],
          "name": "stdout"
        },
        {
          "output_type": "stream",
          "text": [
            "\n",
            "\n",
            "\n",
            " 80%|████████  | 4/5 [00:12<00:03,  3.06s/it]\u001b[A\u001b[A\u001b[A"
          ],
          "name": "stderr"
        },
        {
          "output_type": "stream",
          "text": [
            "Epoch: 04 | Epoch Time: 0m 3s\n",
            "\tTrain Loss: 0.583 | Train Acc: 77.29%\n",
            "\t Val. Loss: 0.508 |  Val. Acc: 82.14%\n",
            "LR: 0.002669427211103532 | Reg: 5.794703640198578e-05\n"
          ],
          "name": "stdout"
        },
        {
          "output_type": "stream",
          "text": [
            "\n",
            "\n",
            "\n",
            "100%|██████████| 5/5 [00:15<00:00,  3.07s/it]\n",
            "\n",
            "\n",
            " 70%|███████   | 7/10 [01:47<00:46, 15.37s/it]\u001b[A\u001b[A\n",
            "\n",
            "\n",
            "  0%|          | 0/5 [00:00<?, ?it/s]\u001b[A\u001b[A\u001b[A"
          ],
          "name": "stderr"
        },
        {
          "output_type": "stream",
          "text": [
            "Epoch: 05 | Epoch Time: 0m 3s\n",
            "\tTrain Loss: 0.463 | Train Acc: 84.38%\n",
            "\t Val. Loss: 0.372 |  Val. Acc: 91.07%\n",
            "LR: 0.002669427211103532 | Reg: 5.794703640198578e-05\n",
            "-----------------------------------------------------------\n"
          ],
          "name": "stdout"
        },
        {
          "output_type": "stream",
          "text": [
            "\n",
            "\n",
            "\n",
            " 20%|██        | 1/5 [00:03<00:12,  3.07s/it]\u001b[A\u001b[A\u001b[A"
          ],
          "name": "stderr"
        },
        {
          "output_type": "stream",
          "text": [
            "Epoch: 01 | Epoch Time: 0m 3s\n",
            "\tTrain Loss: 0.694 | Train Acc: 49.62%\n",
            "\t Val. Loss: 0.688 |  Val. Acc: 54.91%\n",
            "LR: 0.002086741016492432 | Reg: 0.00011132124775810915\n"
          ],
          "name": "stdout"
        },
        {
          "output_type": "stream",
          "text": [
            "\n",
            "\n",
            "\n",
            " 40%|████      | 2/5 [00:06<00:09,  3.07s/it]\u001b[A\u001b[A\u001b[A"
          ],
          "name": "stderr"
        },
        {
          "output_type": "stream",
          "text": [
            "Epoch: 02 | Epoch Time: 0m 3s\n",
            "\tTrain Loss: 0.689 | Train Acc: 51.58%\n",
            "\t Val. Loss: 0.683 |  Val. Acc: 55.80%\n",
            "LR: 0.002086741016492432 | Reg: 0.00011132124775810915\n"
          ],
          "name": "stdout"
        },
        {
          "output_type": "stream",
          "text": [
            "\n",
            "\n",
            "\n",
            " 60%|██████    | 3/5 [00:09<00:06,  3.07s/it]\u001b[A\u001b[A\u001b[A"
          ],
          "name": "stderr"
        },
        {
          "output_type": "stream",
          "text": [
            "Epoch: 03 | Epoch Time: 0m 3s\n",
            "\tTrain Loss: 0.682 | Train Acc: 52.92%\n",
            "\t Val. Loss: 0.670 |  Val. Acc: 61.16%\n",
            "LR: 0.002086741016492432 | Reg: 0.00011132124775810915\n"
          ],
          "name": "stdout"
        },
        {
          "output_type": "stream",
          "text": [
            "\n",
            "\n",
            "\n",
            " 80%|████████  | 4/5 [00:12<00:03,  3.07s/it]\u001b[A\u001b[A\u001b[A"
          ],
          "name": "stderr"
        },
        {
          "output_type": "stream",
          "text": [
            "Epoch: 04 | Epoch Time: 0m 3s\n",
            "\tTrain Loss: 0.663 | Train Acc: 64.50%\n",
            "\t Val. Loss: 0.637 |  Val. Acc: 68.30%\n",
            "LR: 0.002086741016492432 | Reg: 0.00011132124775810915\n"
          ],
          "name": "stdout"
        },
        {
          "output_type": "stream",
          "text": [
            "\n",
            "\n",
            "\n",
            "100%|██████████| 5/5 [00:15<00:00,  3.07s/it]\n",
            "\n",
            "\n",
            " 80%|████████  | 8/10 [02:03<00:30, 15.37s/it]\u001b[A\u001b[A\n",
            "\n",
            "\n",
            "  0%|          | 0/5 [00:00<?, ?it/s]\u001b[A\u001b[A\u001b[A"
          ],
          "name": "stderr"
        },
        {
          "output_type": "stream",
          "text": [
            "Epoch: 05 | Epoch Time: 0m 3s\n",
            "\tTrain Loss: 0.632 | Train Acc: 69.54%\n",
            "\t Val. Loss: 0.609 |  Val. Acc: 82.14%\n",
            "LR: 0.002086741016492432 | Reg: 0.00011132124775810915\n",
            "-----------------------------------------------------------\n"
          ],
          "name": "stdout"
        },
        {
          "output_type": "stream",
          "text": [
            "\n",
            "\n",
            "\n",
            " 20%|██        | 1/5 [00:03<00:12,  3.06s/it]\u001b[A\u001b[A\u001b[A"
          ],
          "name": "stderr"
        },
        {
          "output_type": "stream",
          "text": [
            "Epoch: 01 | Epoch Time: 0m 3s\n",
            "\tTrain Loss: 0.693 | Train Acc: 49.98%\n",
            "\t Val. Loss: 0.694 |  Val. Acc: 45.09%\n",
            "LR: 0.001230766520369566 | Reg: 3.965804722284732e-05\n"
          ],
          "name": "stdout"
        },
        {
          "output_type": "stream",
          "text": [
            "\n",
            "\n",
            "\n",
            " 40%|████      | 2/5 [00:06<00:09,  3.18s/it]\u001b[A\u001b[A\u001b[A"
          ],
          "name": "stderr"
        },
        {
          "output_type": "stream",
          "text": [
            "Epoch: 02 | Epoch Time: 0m 3s\n",
            "\tTrain Loss: 0.690 | Train Acc: 51.39%\n",
            "\t Val. Loss: 0.689 |  Val. Acc: 58.93%\n",
            "LR: 0.001230766520369566 | Reg: 3.965804722284732e-05\n"
          ],
          "name": "stdout"
        },
        {
          "output_type": "stream",
          "text": [
            "\n",
            "\n",
            "\n",
            " 60%|██████    | 3/5 [00:10<00:06,  3.28s/it]\u001b[A\u001b[A\u001b[A"
          ],
          "name": "stderr"
        },
        {
          "output_type": "stream",
          "text": [
            "Epoch: 03 | Epoch Time: 0m 3s\n",
            "\tTrain Loss: 0.687 | Train Acc: 76.34%\n",
            "\t Val. Loss: 0.684 |  Val. Acc: 78.12%\n",
            "LR: 0.001230766520369566 | Reg: 3.965804722284732e-05\n"
          ],
          "name": "stdout"
        },
        {
          "output_type": "stream",
          "text": [
            "\n",
            "\n",
            "\n",
            " 80%|████████  | 4/5 [00:13<00:03,  3.32s/it]\u001b[A\u001b[A\u001b[A"
          ],
          "name": "stderr"
        },
        {
          "output_type": "stream",
          "text": [
            "Epoch: 04 | Epoch Time: 0m 3s\n",
            "\tTrain Loss: 0.682 | Train Acc: 71.62%\n",
            "\t Val. Loss: 0.675 |  Val. Acc: 73.21%\n",
            "LR: 0.001230766520369566 | Reg: 3.965804722284732e-05\n"
          ],
          "name": "stdout"
        },
        {
          "output_type": "stream",
          "text": [
            "\n",
            "\n",
            "\n",
            "100%|██████████| 5/5 [00:16<00:00,  3.30s/it]\n",
            "\n",
            "\n",
            " 90%|█████████ | 9/10 [02:19<00:15, 15.72s/it]\u001b[A\u001b[A\n",
            "\n",
            "\n",
            "  0%|          | 0/5 [00:00<?, ?it/s]\u001b[A\u001b[A\u001b[A"
          ],
          "name": "stderr"
        },
        {
          "output_type": "stream",
          "text": [
            "Epoch: 05 | Epoch Time: 0m 3s\n",
            "\tTrain Loss: 0.673 | Train Acc: 72.31%\n",
            "\t Val. Loss: 0.661 |  Val. Acc: 72.32%\n",
            "LR: 0.001230766520369566 | Reg: 3.965804722284732e-05\n",
            "-----------------------------------------------------------\n"
          ],
          "name": "stdout"
        },
        {
          "output_type": "stream",
          "text": [
            "\n",
            "\n",
            "\n",
            " 20%|██        | 1/5 [00:03<00:12,  3.06s/it]\u001b[A\u001b[A\u001b[A"
          ],
          "name": "stderr"
        },
        {
          "output_type": "stream",
          "text": [
            "Epoch: 01 | Epoch Time: 0m 3s\n",
            "\tTrain Loss: 0.696 | Train Acc: 49.62%\n",
            "\t Val. Loss: 0.688 |  Val. Acc: 54.91%\n",
            "LR: 0.0002100168339645272 | Reg: 2.526342788270967e-05\n"
          ],
          "name": "stdout"
        },
        {
          "output_type": "stream",
          "text": [
            "\n",
            "\n",
            "\n",
            " 40%|████      | 2/5 [00:06<00:09,  3.07s/it]\u001b[A\u001b[A\u001b[A"
          ],
          "name": "stderr"
        },
        {
          "output_type": "stream",
          "text": [
            "Epoch: 02 | Epoch Time: 0m 3s\n",
            "\tTrain Loss: 0.695 | Train Acc: 49.62%\n",
            "\t Val. Loss: 0.688 |  Val. Acc: 54.91%\n",
            "LR: 0.0002100168339645272 | Reg: 2.526342788270967e-05\n"
          ],
          "name": "stdout"
        },
        {
          "output_type": "stream",
          "text": [
            "\n",
            "\n",
            "\n",
            " 60%|██████    | 3/5 [00:09<00:06,  3.08s/it]\u001b[A\u001b[A\u001b[A"
          ],
          "name": "stderr"
        },
        {
          "output_type": "stream",
          "text": [
            "Epoch: 03 | Epoch Time: 0m 3s\n",
            "\tTrain Loss: 0.694 | Train Acc: 49.82%\n",
            "\t Val. Loss: 0.688 |  Val. Acc: 54.91%\n",
            "LR: 0.0002100168339645272 | Reg: 2.526342788270967e-05\n"
          ],
          "name": "stdout"
        },
        {
          "output_type": "stream",
          "text": [
            "\n",
            "\n",
            "\n",
            " 80%|████████  | 4/5 [00:12<00:03,  3.08s/it]\u001b[A\u001b[A\u001b[A"
          ],
          "name": "stderr"
        },
        {
          "output_type": "stream",
          "text": [
            "Epoch: 04 | Epoch Time: 0m 3s\n",
            "\tTrain Loss: 0.694 | Train Acc: 49.82%\n",
            "\t Val. Loss: 0.688 |  Val. Acc: 54.91%\n",
            "LR: 0.0002100168339645272 | Reg: 2.526342788270967e-05\n"
          ],
          "name": "stdout"
        },
        {
          "output_type": "stream",
          "text": [
            "\n",
            "\n",
            "\n",
            "100%|██████████| 5/5 [00:15<00:00,  3.09s/it]\n",
            "\n",
            "\n",
            "100%|██████████| 10/10 [02:35<00:00, 15.52s/it]"
          ],
          "name": "stderr"
        },
        {
          "output_type": "stream",
          "text": [
            "Epoch: 05 | Epoch Time: 0m 3s\n",
            "\tTrain Loss: 0.693 | Train Acc: 49.62%\n",
            "\t Val. Loss: 0.688 |  Val. Acc: 54.91%\n",
            "LR: 0.0002100168339645272 | Reg: 2.526342788270967e-05\n",
            "-----------------------------------------------------------\n"
          ],
          "name": "stdout"
        },
        {
          "output_type": "stream",
          "text": [
            "\n"
          ],
          "name": "stderr"
        }
      ]
    },
    {
      "cell_type": "markdown",
      "metadata": {
        "id": "66QiOOPdhLQm"
      },
      "source": [
        "#FINAL TRAINING"
      ]
    },
    {
      "cell_type": "code",
      "metadata": {
        "id": "ajTEXYDIhPYD",
        "colab": {
          "base_uri": "https://localhost:8080/",
          "height": 1000
        },
        "outputId": "39763b19-75a1-4b35-8e3f-51a7ef6e9952"
      },
      "source": [
        "LR = 0.007461627791541241\n",
        "reg = 0.0001580451045434134\n",
        "TRAIN(train_data,valid_data,device,optimizer='SGD',no_epochs=20,LR=LR,reg=reg)"
      ],
      "execution_count": null,
      "outputs": [
        {
          "output_type": "stream",
          "text": [
            "\n",
            "\n",
            "  0%|          | 0/20 [00:00<?, ?it/s]\u001b[A\u001b[A\n",
            "\n",
            "  5%|▌         | 1/20 [00:03<00:59,  3.11s/it]\u001b[A\u001b[A"
          ],
          "name": "stderr"
        },
        {
          "output_type": "stream",
          "text": [
            "Epoch: 01 | Epoch Time: 0m 3s\n",
            "\tTrain Loss: 0.694 | Train Acc: 49.82%\n",
            "\t Val. Loss: 0.691 |  Val. Acc: 54.91%\n"
          ],
          "name": "stdout"
        },
        {
          "output_type": "stream",
          "text": [
            "\n",
            "\n",
            " 10%|█         | 2/20 [00:06<00:56,  3.11s/it]\u001b[A\u001b[A"
          ],
          "name": "stderr"
        },
        {
          "output_type": "stream",
          "text": [
            "Epoch: 02 | Epoch Time: 0m 3s\n",
            "\tTrain Loss: 0.693 | Train Acc: 50.13%\n",
            "\t Val. Loss: 0.692 |  Val. Acc: 45.09%\n"
          ],
          "name": "stdout"
        },
        {
          "output_type": "stream",
          "text": [
            "\n",
            "\n",
            " 15%|█▌        | 3/20 [00:09<00:52,  3.10s/it]\u001b[A\u001b[A"
          ],
          "name": "stderr"
        },
        {
          "output_type": "stream",
          "text": [
            "Epoch: 03 | Epoch Time: 0m 3s\n",
            "\tTrain Loss: 0.691 | Train Acc: 50.89%\n",
            "\t Val. Loss: 0.682 |  Val. Acc: 54.91%\n"
          ],
          "name": "stdout"
        },
        {
          "output_type": "stream",
          "text": [
            "\n",
            "\n",
            " 20%|██        | 4/20 [00:12<00:49,  3.10s/it]\u001b[A\u001b[A"
          ],
          "name": "stderr"
        },
        {
          "output_type": "stream",
          "text": [
            "Epoch: 04 | Epoch Time: 0m 3s\n",
            "\tTrain Loss: 0.663 | Train Acc: 74.37%\n",
            "\t Val. Loss: 0.594 |  Val. Acc: 79.02%\n"
          ],
          "name": "stdout"
        },
        {
          "output_type": "stream",
          "text": [
            "\n",
            "\n",
            " 25%|██▌       | 5/20 [00:15<00:46,  3.09s/it]\u001b[A\u001b[A"
          ],
          "name": "stderr"
        },
        {
          "output_type": "stream",
          "text": [
            "Epoch: 05 | Epoch Time: 0m 3s\n",
            "\tTrain Loss: 0.501 | Train Acc: 82.95%\n",
            "\t Val. Loss: 0.388 |  Val. Acc: 87.50%\n"
          ],
          "name": "stdout"
        },
        {
          "output_type": "stream",
          "text": [
            "\n",
            "\n",
            " 30%|███       | 6/20 [00:18<00:43,  3.08s/it]\u001b[A\u001b[A"
          ],
          "name": "stderr"
        },
        {
          "output_type": "stream",
          "text": [
            "Epoch: 06 | Epoch Time: 0m 3s\n",
            "\tTrain Loss: 0.343 | Train Acc: 88.65%\n",
            "\t Val. Loss: 0.289 |  Val. Acc: 90.62%\n"
          ],
          "name": "stdout"
        },
        {
          "output_type": "stream",
          "text": [
            "\n",
            "\n",
            " 35%|███▌      | 7/20 [00:21<00:40,  3.08s/it]\u001b[A\u001b[A"
          ],
          "name": "stderr"
        },
        {
          "output_type": "stream",
          "text": [
            "Epoch: 07 | Epoch Time: 0m 3s\n",
            "\tTrain Loss: 0.267 | Train Acc: 91.61%\n",
            "\t Val. Loss: 0.206 |  Val. Acc: 93.75%\n"
          ],
          "name": "stdout"
        },
        {
          "output_type": "stream",
          "text": [
            "\n",
            "\n",
            " 40%|████      | 8/20 [00:24<00:36,  3.07s/it]\u001b[A\u001b[A"
          ],
          "name": "stderr"
        },
        {
          "output_type": "stream",
          "text": [
            "Epoch: 08 | Epoch Time: 0m 3s\n",
            "\tTrain Loss: 0.212 | Train Acc: 92.26%\n",
            "\t Val. Loss: 0.179 |  Val. Acc: 93.75%\n"
          ],
          "name": "stdout"
        },
        {
          "output_type": "stream",
          "text": [
            "\n",
            "\n",
            " 45%|████▌     | 9/20 [00:27<00:33,  3.07s/it]\u001b[A\u001b[A"
          ],
          "name": "stderr"
        },
        {
          "output_type": "stream",
          "text": [
            "Epoch: 09 | Epoch Time: 0m 3s\n",
            "\tTrain Loss: 0.135 | Train Acc: 95.14%\n",
            "\t Val. Loss: 0.123 |  Val. Acc: 95.98%\n"
          ],
          "name": "stdout"
        },
        {
          "output_type": "stream",
          "text": [
            "\n",
            "\n",
            " 50%|█████     | 10/20 [00:30<00:30,  3.08s/it]\u001b[A\u001b[A"
          ],
          "name": "stderr"
        },
        {
          "output_type": "stream",
          "text": [
            "Epoch: 10 | Epoch Time: 0m 3s\n",
            "\tTrain Loss: 0.098 | Train Acc: 96.93%\n",
            "\t Val. Loss: 0.208 |  Val. Acc: 91.52%\n"
          ],
          "name": "stdout"
        },
        {
          "output_type": "stream",
          "text": [
            "\n",
            "\n",
            " 55%|█████▌    | 11/20 [00:33<00:27,  3.07s/it]\u001b[A\u001b[A"
          ],
          "name": "stderr"
        },
        {
          "output_type": "stream",
          "text": [
            "Epoch: 11 | Epoch Time: 0m 3s\n",
            "\tTrain Loss: 0.093 | Train Acc: 96.66%\n",
            "\t Val. Loss: 0.184 |  Val. Acc: 91.52%\n"
          ],
          "name": "stdout"
        },
        {
          "output_type": "stream",
          "text": [
            "\n",
            "\n",
            " 60%|██████    | 12/20 [00:37<00:25,  3.16s/it]\u001b[A\u001b[A"
          ],
          "name": "stderr"
        },
        {
          "output_type": "stream",
          "text": [
            "Epoch: 12 | Epoch Time: 0m 3s\n",
            "\tTrain Loss: 0.063 | Train Acc: 97.64%\n",
            "\t Val. Loss: 0.126 |  Val. Acc: 95.98%\n"
          ],
          "name": "stdout"
        },
        {
          "output_type": "stream",
          "text": [
            "\n",
            "\n",
            " 65%|██████▌   | 13/20 [00:40<00:22,  3.26s/it]\u001b[A\u001b[A"
          ],
          "name": "stderr"
        },
        {
          "output_type": "stream",
          "text": [
            "Epoch: 13 | Epoch Time: 0m 3s\n",
            "\tTrain Loss: 0.053 | Train Acc: 98.19%\n",
            "\t Val. Loss: 0.082 |  Val. Acc: 97.32%\n"
          ],
          "name": "stdout"
        },
        {
          "output_type": "stream",
          "text": [
            "\n",
            "\n",
            " 70%|███████   | 14/20 [00:44<00:19,  3.31s/it]\u001b[A\u001b[A"
          ],
          "name": "stderr"
        },
        {
          "output_type": "stream",
          "text": [
            "Epoch: 14 | Epoch Time: 0m 3s\n",
            "\tTrain Loss: 0.052 | Train Acc: 98.25%\n",
            "\t Val. Loss: 0.095 |  Val. Acc: 97.77%\n"
          ],
          "name": "stdout"
        },
        {
          "output_type": "stream",
          "text": [
            "\n",
            "\n",
            " 75%|███████▌  | 15/20 [00:47<00:16,  3.26s/it]\u001b[A\u001b[A"
          ],
          "name": "stderr"
        },
        {
          "output_type": "stream",
          "text": [
            "Epoch: 15 | Epoch Time: 0m 3s\n",
            "\tTrain Loss: 0.042 | Train Acc: 98.52%\n",
            "\t Val. Loss: 0.071 |  Val. Acc: 99.11%\n"
          ],
          "name": "stdout"
        },
        {
          "output_type": "stream",
          "text": [
            "\n",
            "\n",
            " 80%|████████  | 16/20 [00:50<00:12,  3.20s/it]\u001b[A\u001b[A"
          ],
          "name": "stderr"
        },
        {
          "output_type": "stream",
          "text": [
            "Epoch: 16 | Epoch Time: 0m 3s\n",
            "\tTrain Loss: 0.029 | Train Acc: 99.01%\n",
            "\t Val. Loss: 0.072 |  Val. Acc: 96.88%\n"
          ],
          "name": "stdout"
        },
        {
          "output_type": "stream",
          "text": [
            "\n",
            "\n",
            " 85%|████████▌ | 17/20 [00:53<00:09,  3.16s/it]\u001b[A\u001b[A"
          ],
          "name": "stderr"
        },
        {
          "output_type": "stream",
          "text": [
            "Epoch: 17 | Epoch Time: 0m 3s\n",
            "\tTrain Loss: 0.023 | Train Acc: 99.29%\n",
            "\t Val. Loss: 0.059 |  Val. Acc: 97.32%\n"
          ],
          "name": "stdout"
        },
        {
          "output_type": "stream",
          "text": [
            "\n",
            "\n",
            " 90%|█████████ | 18/20 [00:56<00:06,  3.13s/it]\u001b[A\u001b[A"
          ],
          "name": "stderr"
        },
        {
          "output_type": "stream",
          "text": [
            "Epoch: 18 | Epoch Time: 0m 3s\n",
            "\tTrain Loss: 0.022 | Train Acc: 99.29%\n",
            "\t Val. Loss: 0.078 |  Val. Acc: 97.77%\n"
          ],
          "name": "stdout"
        },
        {
          "output_type": "stream",
          "text": [
            "\n",
            "\n",
            " 95%|█████████▌| 19/20 [00:59<00:03,  3.11s/it]\u001b[A\u001b[A"
          ],
          "name": "stderr"
        },
        {
          "output_type": "stream",
          "text": [
            "Epoch: 19 | Epoch Time: 0m 3s\n",
            "\tTrain Loss: 0.016 | Train Acc: 99.34%\n",
            "\t Val. Loss: 0.054 |  Val. Acc: 99.11%\n"
          ],
          "name": "stdout"
        },
        {
          "output_type": "stream",
          "text": [
            "\n",
            "\n",
            "100%|██████████| 20/20 [01:02<00:00,  3.13s/it]"
          ],
          "name": "stderr"
        },
        {
          "output_type": "stream",
          "text": [
            "Epoch: 20 | Epoch Time: 0m 3s\n",
            "\tTrain Loss: 0.013 | Train Acc: 99.45%\n",
            "\t Val. Loss: 0.051 |  Val. Acc: 98.21%\n"
          ],
          "name": "stdout"
        },
        {
          "output_type": "stream",
          "text": [
            "\n"
          ],
          "name": "stderr"
        }
      ]
    },
    {
      "cell_type": "markdown",
      "metadata": {
        "id": "TkYe1ZTmtq4w"
      },
      "source": [
        "#TEST MODEL"
      ]
    },
    {
      "cell_type": "code",
      "metadata": {
        "id": "9w0PlblCh74C"
      },
      "source": [
        "criterion = nn.CrossEntropyLoss()\n",
        "criterion = criterion.to(device)\n",
        "\n",
        "model.load_state_dict(torch.load('/content/cv-babysitting-model.pt'))\n",
        "model = model.to(device)\n"
      ],
      "execution_count": null,
      "outputs": []
    },
    {
      "cell_type": "code",
      "metadata": {
        "id": "ZAG6xFVYBtr5",
        "colab": {
          "base_uri": "https://localhost:8080/",
          "height": 34
        },
        "outputId": "658e7965-aeb6-4c4f-a634-ad8395d081fb"
      },
      "source": [
        "test_loss, test_acc = evaluate(model, test_data, criterion, device)\n",
        "print(f'Test Accuracy: {test_acc} | Test Loss: {test_loss}')"
      ],
      "execution_count": null,
      "outputs": [
        {
          "output_type": "stream",
          "text": [
            "Test Accuracy: 0.9955357142857143 | Test Loss: 0.01241226787013667\n"
          ],
          "name": "stdout"
        }
      ]
    },
    {
      "cell_type": "code",
      "metadata": {
        "id": "K9xXknvRl2kF",
        "colab": {
          "base_uri": "https://localhost:8080/",
          "height": 1000
        },
        "outputId": "e8af4bbb-9cb3-4b86-dd01-043ce671e994"
      },
      "source": [
        "LR = 0.007461627791541241\n",
        "reg = 0.0001580451045434134\n",
        "TRAIN(train_data,valid_data,device,optimizer='SGD',no_epochs=20,LR=LR,reg=reg)"
      ],
      "execution_count": null,
      "outputs": [
        {
          "output_type": "stream",
          "text": [
            "\n",
            "\n",
            "  0%|          | 0/20 [00:00<?, ?it/s]\u001b[A\u001b[A\n",
            "\n",
            "  5%|▌         | 1/20 [00:03<00:59,  3.13s/it]\u001b[A\u001b[A"
          ],
          "name": "stderr"
        },
        {
          "output_type": "stream",
          "text": [
            "Epoch: 01 | Epoch Time: 0m 3s\n",
            "\tTrain Loss: 0.243 | Train Acc: 89.11%\n",
            "\t Val. Loss: 0.131 |  Val. Acc: 96.43%\n"
          ],
          "name": "stdout"
        },
        {
          "output_type": "stream",
          "text": [
            "\n",
            "\n",
            " 10%|█         | 2/20 [00:06<00:56,  3.12s/it]\u001b[A\u001b[A"
          ],
          "name": "stderr"
        },
        {
          "output_type": "stream",
          "text": [
            "Epoch: 02 | Epoch Time: 0m 3s\n",
            "\tTrain Loss: 0.107 | Train Acc: 96.49%\n",
            "\t Val. Loss: 0.057 |  Val. Acc: 97.77%\n"
          ],
          "name": "stdout"
        },
        {
          "output_type": "stream",
          "text": [
            "\n",
            "\n",
            " 15%|█▌        | 3/20 [00:09<00:53,  3.12s/it]\u001b[A\u001b[A"
          ],
          "name": "stderr"
        },
        {
          "output_type": "stream",
          "text": [
            "Epoch: 03 | Epoch Time: 0m 3s\n",
            "\tTrain Loss: 0.079 | Train Acc: 97.23%\n",
            "\t Val. Loss: 0.072 |  Val. Acc: 96.88%\n"
          ],
          "name": "stdout"
        },
        {
          "output_type": "stream",
          "text": [
            "\n",
            "\n",
            " 20%|██        | 4/20 [00:12<00:49,  3.12s/it]\u001b[A\u001b[A"
          ],
          "name": "stderr"
        },
        {
          "output_type": "stream",
          "text": [
            "Epoch: 04 | Epoch Time: 0m 3s\n",
            "\tTrain Loss: 0.068 | Train Acc: 98.05%\n",
            "\t Val. Loss: 0.124 |  Val. Acc: 95.98%\n"
          ],
          "name": "stdout"
        },
        {
          "output_type": "stream",
          "text": [
            "\n",
            "\n",
            " 25%|██▌       | 5/20 [00:15<00:46,  3.11s/it]\u001b[A\u001b[A"
          ],
          "name": "stderr"
        },
        {
          "output_type": "stream",
          "text": [
            "Epoch: 05 | Epoch Time: 0m 3s\n",
            "\tTrain Loss: 0.042 | Train Acc: 98.46%\n",
            "\t Val. Loss: 0.047 |  Val. Acc: 97.77%\n"
          ],
          "name": "stdout"
        },
        {
          "output_type": "stream",
          "text": [
            "\n",
            "\n",
            " 30%|███       | 6/20 [00:18<00:43,  3.09s/it]\u001b[A\u001b[A"
          ],
          "name": "stderr"
        },
        {
          "output_type": "stream",
          "text": [
            "Epoch: 06 | Epoch Time: 0m 3s\n",
            "\tTrain Loss: 0.031 | Train Acc: 99.01%\n",
            "\t Val. Loss: 0.255 |  Val. Acc: 91.96%\n"
          ],
          "name": "stdout"
        },
        {
          "output_type": "stream",
          "text": [
            "\n",
            "\n",
            " 35%|███▌      | 7/20 [00:21<00:40,  3.08s/it]\u001b[A\u001b[A"
          ],
          "name": "stderr"
        },
        {
          "output_type": "stream",
          "text": [
            "Epoch: 07 | Epoch Time: 0m 3s\n",
            "\tTrain Loss: 0.045 | Train Acc: 98.35%\n",
            "\t Val. Loss: 1.399 |  Val. Acc: 60.71%\n"
          ],
          "name": "stdout"
        },
        {
          "output_type": "stream",
          "text": [
            "\n",
            "\n",
            " 40%|████      | 8/20 [00:24<00:37,  3.10s/it]\u001b[A\u001b[A"
          ],
          "name": "stderr"
        },
        {
          "output_type": "stream",
          "text": [
            "Epoch: 08 | Epoch Time: 0m 3s\n",
            "\tTrain Loss: 0.072 | Train Acc: 97.17%\n",
            "\t Val. Loss: 0.068 |  Val. Acc: 98.21%\n"
          ],
          "name": "stdout"
        },
        {
          "output_type": "stream",
          "text": [
            "\n",
            "\n",
            " 45%|████▌     | 9/20 [00:27<00:33,  3.08s/it]\u001b[A\u001b[A"
          ],
          "name": "stderr"
        },
        {
          "output_type": "stream",
          "text": [
            "Epoch: 09 | Epoch Time: 0m 3s\n",
            "\tTrain Loss: 0.050 | Train Acc: 98.46%\n",
            "\t Val. Loss: 0.034 |  Val. Acc: 99.11%\n"
          ],
          "name": "stdout"
        },
        {
          "output_type": "stream",
          "text": [
            "\n",
            "\n",
            " 50%|█████     | 10/20 [00:30<00:30,  3.08s/it]\u001b[A\u001b[A"
          ],
          "name": "stderr"
        },
        {
          "output_type": "stream",
          "text": [
            "Epoch: 10 | Epoch Time: 0m 3s\n",
            "\tTrain Loss: 0.030 | Train Acc: 98.96%\n",
            "\t Val. Loss: 0.036 |  Val. Acc: 98.66%\n"
          ],
          "name": "stdout"
        },
        {
          "output_type": "stream",
          "text": [
            "\n",
            "\n",
            " 55%|█████▌    | 11/20 [00:33<00:27,  3.06s/it]\u001b[A\u001b[A"
          ],
          "name": "stderr"
        },
        {
          "output_type": "stream",
          "text": [
            "Epoch: 11 | Epoch Time: 0m 3s\n",
            "\tTrain Loss: 0.029 | Train Acc: 98.73%\n",
            "\t Val. Loss: 0.041 |  Val. Acc: 97.77%\n"
          ],
          "name": "stdout"
        },
        {
          "output_type": "stream",
          "text": [
            "\n",
            "\n",
            " 60%|██████    | 12/20 [00:37<00:24,  3.07s/it]\u001b[A\u001b[A"
          ],
          "name": "stderr"
        },
        {
          "output_type": "stream",
          "text": [
            "Epoch: 12 | Epoch Time: 0m 3s\n",
            "\tTrain Loss: 0.049 | Train Acc: 98.65%\n",
            "\t Val. Loss: 0.046 |  Val. Acc: 98.21%\n"
          ],
          "name": "stdout"
        },
        {
          "output_type": "stream",
          "text": [
            "\n",
            "\n",
            " 65%|██████▌   | 13/20 [00:40<00:21,  3.06s/it]\u001b[A\u001b[A"
          ],
          "name": "stderr"
        },
        {
          "output_type": "stream",
          "text": [
            "Epoch: 13 | Epoch Time: 0m 3s\n",
            "\tTrain Loss: 0.033 | Train Acc: 99.07%\n",
            "\t Val. Loss: 0.032 |  Val. Acc: 98.66%\n"
          ],
          "name": "stdout"
        },
        {
          "output_type": "stream",
          "text": [
            "\n",
            "\n",
            " 70%|███████   | 14/20 [00:43<00:18,  3.05s/it]\u001b[A\u001b[A"
          ],
          "name": "stderr"
        },
        {
          "output_type": "stream",
          "text": [
            "Epoch: 14 | Epoch Time: 0m 3s\n",
            "\tTrain Loss: 0.021 | Train Acc: 99.23%\n",
            "\t Val. Loss: 0.045 |  Val. Acc: 98.66%\n"
          ],
          "name": "stdout"
        },
        {
          "output_type": "stream",
          "text": [
            "\n",
            "\n",
            " 75%|███████▌  | 15/20 [00:46<00:15,  3.05s/it]\u001b[A\u001b[A"
          ],
          "name": "stderr"
        },
        {
          "output_type": "stream",
          "text": [
            "Epoch: 15 | Epoch Time: 0m 3s\n",
            "\tTrain Loss: 0.022 | Train Acc: 99.51%\n",
            "\t Val. Loss: 0.024 |  Val. Acc: 99.55%\n"
          ],
          "name": "stdout"
        },
        {
          "output_type": "stream",
          "text": [
            "\n",
            "\n",
            " 80%|████████  | 16/20 [00:49<00:12,  3.06s/it]\u001b[A\u001b[A"
          ],
          "name": "stderr"
        },
        {
          "output_type": "stream",
          "text": [
            "Epoch: 16 | Epoch Time: 0m 3s\n",
            "\tTrain Loss: 0.013 | Train Acc: 99.78%\n",
            "\t Val. Loss: 0.047 |  Val. Acc: 97.32%\n"
          ],
          "name": "stdout"
        },
        {
          "output_type": "stream",
          "text": [
            "\n",
            "\n",
            " 85%|████████▌ | 17/20 [00:52<00:09,  3.05s/it]\u001b[A\u001b[A"
          ],
          "name": "stderr"
        },
        {
          "output_type": "stream",
          "text": [
            "Epoch: 17 | Epoch Time: 0m 3s\n",
            "\tTrain Loss: 0.015 | Train Acc: 99.58%\n",
            "\t Val. Loss: 0.031 |  Val. Acc: 99.11%\n"
          ],
          "name": "stdout"
        },
        {
          "output_type": "stream",
          "text": [
            "\n",
            "\n",
            " 90%|█████████ | 18/20 [00:55<00:06,  3.04s/it]\u001b[A\u001b[A"
          ],
          "name": "stderr"
        },
        {
          "output_type": "stream",
          "text": [
            "Epoch: 18 | Epoch Time: 0m 3s\n",
            "\tTrain Loss: 0.016 | Train Acc: 99.51%\n",
            "\t Val. Loss: 0.023 |  Val. Acc: 98.66%\n"
          ],
          "name": "stdout"
        },
        {
          "output_type": "stream",
          "text": [
            "\n",
            "\n",
            " 95%|█████████▌| 19/20 [00:58<00:03,  3.04s/it]\u001b[A\u001b[A"
          ],
          "name": "stderr"
        },
        {
          "output_type": "stream",
          "text": [
            "Epoch: 19 | Epoch Time: 0m 3s\n",
            "\tTrain Loss: 0.022 | Train Acc: 99.37%\n",
            "\t Val. Loss: 0.041 |  Val. Acc: 98.66%\n"
          ],
          "name": "stdout"
        },
        {
          "output_type": "stream",
          "text": [
            "\n",
            "\n",
            "100%|██████████| 20/20 [01:01<00:00,  3.07s/it]"
          ],
          "name": "stderr"
        },
        {
          "output_type": "stream",
          "text": [
            "Epoch: 20 | Epoch Time: 0m 3s\n",
            "\tTrain Loss: 0.027 | Train Acc: 99.22%\n",
            "\t Val. Loss: 0.024 |  Val. Acc: 99.11%\n"
          ],
          "name": "stdout"
        },
        {
          "output_type": "stream",
          "text": [
            "\n"
          ],
          "name": "stderr"
        }
      ]
    },
    {
      "cell_type": "code",
      "metadata": {
        "id": "imb6G7udtoqU",
        "colab": {
          "base_uri": "https://localhost:8080/",
          "height": 1000
        },
        "outputId": "edf5735d-0215-4ff9-eefe-4f69ce349756"
      },
      "source": [
        "TRAIN(train_data,valid_data,device,optimizer='SGD',no_epochs=20,LR=10**-3,reg=10**-6)"
      ],
      "execution_count": null,
      "outputs": [
        {
          "output_type": "stream",
          "text": [
            "\n",
            "\n",
            "  0%|          | 0/20 [00:00<?, ?it/s]\u001b[A\u001b[A\n",
            "\n",
            "  5%|▌         | 1/20 [00:02<00:56,  2.98s/it]\u001b[A\u001b[A"
          ],
          "name": "stderr"
        },
        {
          "output_type": "stream",
          "text": [
            "Epoch: 01 | Epoch Time: 0m 2s\n",
            "\tTrain Loss: 0.693 | Train Acc: 50.38%\n",
            "\t Val. Loss: 0.694 |  Val. Acc: 45.09%\n"
          ],
          "name": "stdout"
        },
        {
          "output_type": "stream",
          "text": [
            "\n",
            "\n",
            " 10%|█         | 2/20 [00:06<00:53,  3.00s/it]\u001b[A\u001b[A"
          ],
          "name": "stderr"
        },
        {
          "output_type": "stream",
          "text": [
            "Epoch: 02 | Epoch Time: 0m 3s\n",
            "\tTrain Loss: 0.691 | Train Acc: 50.04%\n",
            "\t Val. Loss: 0.691 |  Val. Acc: 44.64%\n"
          ],
          "name": "stdout"
        },
        {
          "output_type": "stream",
          "text": [
            "\n",
            "\n",
            " 15%|█▌        | 3/20 [00:09<00:51,  3.01s/it]\u001b[A\u001b[A"
          ],
          "name": "stderr"
        },
        {
          "output_type": "stream",
          "text": [
            "Epoch: 03 | Epoch Time: 0m 3s\n",
            "\tTrain Loss: 0.688 | Train Acc: 75.52%\n",
            "\t Val. Loss: 0.685 |  Val. Acc: 88.84%\n"
          ],
          "name": "stdout"
        },
        {
          "output_type": "stream",
          "text": [
            "\n",
            "\n",
            " 20%|██        | 4/20 [00:12<00:49,  3.06s/it]\u001b[A\u001b[A"
          ],
          "name": "stderr"
        },
        {
          "output_type": "stream",
          "text": [
            "Epoch: 04 | Epoch Time: 0m 3s\n",
            "\tTrain Loss: 0.684 | Train Acc: 77.95%\n",
            "\t Val. Loss: 0.679 |  Val. Acc: 81.25%\n"
          ],
          "name": "stdout"
        },
        {
          "output_type": "stream",
          "text": [
            "\n",
            "\n",
            " 25%|██▌       | 5/20 [00:15<00:46,  3.09s/it]\u001b[A\u001b[A"
          ],
          "name": "stderr"
        },
        {
          "output_type": "stream",
          "text": [
            "Epoch: 05 | Epoch Time: 0m 3s\n",
            "\tTrain Loss: 0.677 | Train Acc: 75.53%\n",
            "\t Val. Loss: 0.667 |  Val. Acc: 74.11%\n"
          ],
          "name": "stdout"
        },
        {
          "output_type": "stream",
          "text": [
            "\n",
            "\n",
            " 30%|███       | 6/20 [00:18<00:42,  3.07s/it]\u001b[A\u001b[A"
          ],
          "name": "stderr"
        },
        {
          "output_type": "stream",
          "text": [
            "Epoch: 06 | Epoch Time: 0m 3s\n",
            "\tTrain Loss: 0.664 | Train Acc: 67.95%\n",
            "\t Val. Loss: 0.645 |  Val. Acc: 75.45%\n"
          ],
          "name": "stdout"
        },
        {
          "output_type": "stream",
          "text": [
            "\n",
            "\n",
            " 35%|███▌      | 7/20 [00:21<00:39,  3.06s/it]\u001b[A\u001b[A"
          ],
          "name": "stderr"
        },
        {
          "output_type": "stream",
          "text": [
            "Epoch: 07 | Epoch Time: 0m 3s\n",
            "\tTrain Loss: 0.641 | Train Acc: 69.63%\n",
            "\t Val. Loss: 0.612 |  Val. Acc: 76.34%\n"
          ],
          "name": "stdout"
        },
        {
          "output_type": "stream",
          "text": [
            "\n",
            "\n",
            " 40%|████      | 8/20 [00:24<00:36,  3.04s/it]\u001b[A\u001b[A"
          ],
          "name": "stderr"
        },
        {
          "output_type": "stream",
          "text": [
            "Epoch: 08 | Epoch Time: 0m 3s\n",
            "\tTrain Loss: 0.611 | Train Acc: 72.72%\n",
            "\t Val. Loss: 0.569 |  Val. Acc: 80.80%\n"
          ],
          "name": "stdout"
        },
        {
          "output_type": "stream",
          "text": [
            "\n",
            "\n",
            " 45%|████▌     | 9/20 [00:27<00:33,  3.03s/it]\u001b[A\u001b[A"
          ],
          "name": "stderr"
        },
        {
          "output_type": "stream",
          "text": [
            "Epoch: 09 | Epoch Time: 0m 2s\n",
            "\tTrain Loss: 0.565 | Train Acc: 77.33%\n",
            "\t Val. Loss: 0.509 |  Val. Acc: 86.16%\n"
          ],
          "name": "stdout"
        },
        {
          "output_type": "stream",
          "text": [
            "\n",
            "\n",
            " 50%|█████     | 10/20 [00:30<00:30,  3.02s/it]\u001b[A\u001b[A"
          ],
          "name": "stderr"
        },
        {
          "output_type": "stream",
          "text": [
            "Epoch: 10 | Epoch Time: 0m 2s\n",
            "\tTrain Loss: 0.504 | Train Acc: 84.20%\n",
            "\t Val. Loss: 0.438 |  Val. Acc: 88.84%\n"
          ],
          "name": "stdout"
        },
        {
          "output_type": "stream",
          "text": [
            "\n",
            "\n",
            " 55%|█████▌    | 11/20 [00:33<00:27,  3.01s/it]\u001b[A\u001b[A"
          ],
          "name": "stderr"
        },
        {
          "output_type": "stream",
          "text": [
            "Epoch: 11 | Epoch Time: 0m 2s\n",
            "\tTrain Loss: 0.451 | Train Acc: 87.25%\n",
            "\t Val. Loss: 0.390 |  Val. Acc: 92.41%\n"
          ],
          "name": "stdout"
        },
        {
          "output_type": "stream",
          "text": [
            "\n",
            "\n",
            " 60%|██████    | 12/20 [00:36<00:23,  2.99s/it]\u001b[A\u001b[A"
          ],
          "name": "stderr"
        },
        {
          "output_type": "stream",
          "text": [
            "Epoch: 12 | Epoch Time: 0m 2s\n",
            "\tTrain Loss: 0.410 | Train Acc: 88.84%\n",
            "\t Val. Loss: 0.356 |  Val. Acc: 92.86%\n"
          ],
          "name": "stdout"
        },
        {
          "output_type": "stream",
          "text": [
            "\n",
            "\n",
            " 65%|██████▌   | 13/20 [00:39<00:20,  3.00s/it]\u001b[A\u001b[A"
          ],
          "name": "stderr"
        },
        {
          "output_type": "stream",
          "text": [
            "Epoch: 13 | Epoch Time: 0m 3s\n",
            "\tTrain Loss: 0.376 | Train Acc: 89.99%\n",
            "\t Val. Loss: 0.325 |  Val. Acc: 93.75%\n"
          ],
          "name": "stdout"
        },
        {
          "output_type": "stream",
          "text": [
            "\n",
            "\n",
            " 70%|███████   | 14/20 [00:42<00:17,  2.99s/it]\u001b[A\u001b[A"
          ],
          "name": "stderr"
        },
        {
          "output_type": "stream",
          "text": [
            "Epoch: 14 | Epoch Time: 0m 2s\n",
            "\tTrain Loss: 0.342 | Train Acc: 90.57%\n",
            "\t Val. Loss: 0.295 |  Val. Acc: 93.30%\n"
          ],
          "name": "stdout"
        },
        {
          "output_type": "stream",
          "text": [
            "\n",
            "\n",
            " 75%|███████▌  | 15/20 [00:45<00:14,  2.98s/it]\u001b[A\u001b[A"
          ],
          "name": "stderr"
        },
        {
          "output_type": "stream",
          "text": [
            "Epoch: 15 | Epoch Time: 0m 2s\n",
            "\tTrain Loss: 0.314 | Train Acc: 90.62%\n",
            "\t Val. Loss: 0.275 |  Val. Acc: 92.86%\n"
          ],
          "name": "stdout"
        },
        {
          "output_type": "stream",
          "text": [
            "\n",
            "\n",
            " 80%|████████  | 16/20 [00:48<00:11,  3.00s/it]\u001b[A\u001b[A"
          ],
          "name": "stderr"
        },
        {
          "output_type": "stream",
          "text": [
            "Epoch: 16 | Epoch Time: 0m 3s\n",
            "\tTrain Loss: 0.292 | Train Acc: 91.23%\n",
            "\t Val. Loss: 0.244 |  Val. Acc: 93.75%\n"
          ],
          "name": "stdout"
        },
        {
          "output_type": "stream",
          "text": [
            "\n",
            "\n",
            " 85%|████████▌ | 17/20 [00:51<00:09,  3.00s/it]\u001b[A\u001b[A"
          ],
          "name": "stderr"
        },
        {
          "output_type": "stream",
          "text": [
            "Epoch: 17 | Epoch Time: 0m 3s\n",
            "\tTrain Loss: 0.276 | Train Acc: 91.58%\n",
            "\t Val. Loss: 0.242 |  Val. Acc: 91.52%\n"
          ],
          "name": "stdout"
        },
        {
          "output_type": "stream",
          "text": [
            "\n",
            "\n",
            " 90%|█████████ | 18/20 [00:54<00:05,  2.99s/it]\u001b[A\u001b[A"
          ],
          "name": "stderr"
        },
        {
          "output_type": "stream",
          "text": [
            "Epoch: 18 | Epoch Time: 0m 2s\n",
            "\tTrain Loss: 0.253 | Train Acc: 91.85%\n",
            "\t Val. Loss: 0.205 |  Val. Acc: 93.75%\n"
          ],
          "name": "stdout"
        },
        {
          "output_type": "stream",
          "text": [
            "\n",
            "\n",
            " 95%|█████████▌| 19/20 [00:57<00:02,  2.99s/it]\u001b[A\u001b[A"
          ],
          "name": "stderr"
        },
        {
          "output_type": "stream",
          "text": [
            "Epoch: 19 | Epoch Time: 0m 2s\n",
            "\tTrain Loss: 0.230 | Train Acc: 92.87%\n",
            "\t Val. Loss: 0.198 |  Val. Acc: 93.30%\n"
          ],
          "name": "stdout"
        },
        {
          "output_type": "stream",
          "text": [
            "\n",
            "\n",
            "100%|██████████| 20/20 [01:00<00:00,  3.02s/it]"
          ],
          "name": "stderr"
        },
        {
          "output_type": "stream",
          "text": [
            "Epoch: 20 | Epoch Time: 0m 2s\n",
            "\tTrain Loss: 0.230 | Train Acc: 92.93%\n",
            "\t Val. Loss: 0.203 |  Val. Acc: 91.52%\n"
          ],
          "name": "stdout"
        },
        {
          "output_type": "stream",
          "text": [
            "\n"
          ],
          "name": "stderr"
        }
      ]
    },
    {
      "cell_type": "code",
      "metadata": {
        "id": "dl3V2sR71kdf"
      },
      "source": [
        ""
      ],
      "execution_count": null,
      "outputs": []
    }
  ]
}